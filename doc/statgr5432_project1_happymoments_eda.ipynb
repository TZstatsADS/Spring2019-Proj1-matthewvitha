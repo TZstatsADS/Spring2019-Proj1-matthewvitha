{
 "cells": [
  {
   "cell_type": "markdown",
   "metadata": {},
   "source": [
    "# STATGR 5432 Proejct 1: Happy Moments EDA\n",
    "\n",
    "### For this project, the below notebook attempts to analyze how happy moments can be grouped together based on Topic Modelling and Clustering Analysis\n",
    "\n",
    "#### Additional analysis will detail word embeddings, time permitting."
   ]
  },
  {
   "cell_type": "code",
   "execution_count": null,
   "metadata": {},
   "outputs": [],
   "source": []
  },
  {
   "cell_type": "markdown",
   "metadata": {},
   "source": [
    "## Import data and use basic functions to examine what the data frames look like. "
   ]
  },
  {
   "cell_type": "code",
   "execution_count": 1,
   "metadata": {},
   "outputs": [],
   "source": [
    "import pandas as pd\n"
   ]
  },
  {
   "cell_type": "code",
   "execution_count": 2,
   "metadata": {},
   "outputs": [],
   "source": [
    "df = pd.DataFrame(pd.read_csv('/Users/matthewvitha/Downloads/cleaned_hm.csv'))"
   ]
  },
  {
   "cell_type": "code",
   "execution_count": 3,
   "metadata": {},
   "outputs": [],
   "source": [
    "df_sense = pd.DataFrame(pd.read_csv('/Users/matthewvitha/Downloads/senselabel (2).csv'))"
   ]
  },
  {
   "cell_type": "code",
   "execution_count": 4,
   "metadata": {},
   "outputs": [
    {
     "name": "stdout",
     "output_type": "stream",
     "text": [
      "(2017463, 8)\n"
     ]
    },
    {
     "data": {
      "text/html": [
       "<div>\n",
       "<style scoped>\n",
       "    .dataframe tbody tr th:only-of-type {\n",
       "        vertical-align: middle;\n",
       "    }\n",
       "\n",
       "    .dataframe tbody tr th {\n",
       "        vertical-align: top;\n",
       "    }\n",
       "\n",
       "    .dataframe thead th {\n",
       "        text-align: right;\n",
       "    }\n",
       "</style>\n",
       "<table border=\"1\" class=\"dataframe\">\n",
       "  <thead>\n",
       "    <tr style=\"text-align: right;\">\n",
       "      <th></th>\n",
       "      <th>hmid</th>\n",
       "      <th>tokenOffset</th>\n",
       "      <th>word</th>\n",
       "      <th>lowercaseLemma</th>\n",
       "      <th>POS</th>\n",
       "      <th>MWE</th>\n",
       "      <th>offsetParent</th>\n",
       "      <th>supersenseLabel</th>\n",
       "    </tr>\n",
       "  </thead>\n",
       "  <tbody>\n",
       "    <tr>\n",
       "      <th>0</th>\n",
       "      <td>31526</td>\n",
       "      <td>1</td>\n",
       "      <td>I</td>\n",
       "      <td>i</td>\n",
       "      <td>PRON</td>\n",
       "      <td>O</td>\n",
       "      <td>0</td>\n",
       "      <td>NaN</td>\n",
       "    </tr>\n",
       "    <tr>\n",
       "      <th>1</th>\n",
       "      <td>31526</td>\n",
       "      <td>2</td>\n",
       "      <td>found</td>\n",
       "      <td>find</td>\n",
       "      <td>VERB</td>\n",
       "      <td>O</td>\n",
       "      <td>0</td>\n",
       "      <td>v.cognition</td>\n",
       "    </tr>\n",
       "  </tbody>\n",
       "</table>\n",
       "</div>"
      ],
      "text/plain": [
       "    hmid  tokenOffset   word lowercaseLemma   POS MWE  offsetParent  \\\n",
       "0  31526            1      I              i  PRON   O             0   \n",
       "1  31526            2  found           find  VERB   O             0   \n",
       "\n",
       "  supersenseLabel  \n",
       "0             NaN  \n",
       "1     v.cognition  "
      ]
     },
     "execution_count": 4,
     "metadata": {},
     "output_type": "execute_result"
    }
   ],
   "source": [
    "print(df_sense.shape)\n",
    "df_sense.head(2)"
   ]
  },
  {
   "cell_type": "code",
   "execution_count": 5,
   "metadata": {},
   "outputs": [
    {
     "data": {
      "text/plain": [
       "array([nan, 'v.cognition', 'n.artifact', 'v.stative', 'n.substance',\n",
       "       'n.food', 'n.location', 'n.communication', 'v.motion', 'n.time',\n",
       "       'n.person', 'n.event', 'v.communication', 'v.social', 'n.group',\n",
       "       'n.cognition', 'v.possession', 'n.state', 'v.emotion',\n",
       "       'n.quantity', 'n.act', 'v.perception', 'v.change', 'v.consumption',\n",
       "       'n.possession', 'n.body', 'v.contact', 'n.relation', 'n.attribute',\n",
       "       'n.feeling', 'n.phenomenon', 'n.process', 'v.competition',\n",
       "       'v.creation', 'v.body', 'n.animal', 'n.natural_object', 'n.motive',\n",
       "       'n.plant', 'v.weather', 'n.shape', 'n.other'], dtype=object)"
      ]
     },
     "execution_count": 5,
     "metadata": {},
     "output_type": "execute_result"
    }
   ],
   "source": [
    "df_sense['supersenseLabel'].unique()\n"
   ]
  },
  {
   "cell_type": "code",
   "execution_count": 6,
   "metadata": {},
   "outputs": [],
   "source": [
    "df_demo = pd.DataFrame(pd.read_csv('/Users/matthewvitha/Downloads/demographic (1).csv'))"
   ]
  },
  {
   "cell_type": "code",
   "execution_count": 7,
   "metadata": {},
   "outputs": [
    {
     "name": "stdout",
     "output_type": "stream",
     "text": [
      "(10844, 6)\n"
     ]
    },
    {
     "data": {
      "text/html": [
       "<div>\n",
       "<style scoped>\n",
       "    .dataframe tbody tr th:only-of-type {\n",
       "        vertical-align: middle;\n",
       "    }\n",
       "\n",
       "    .dataframe tbody tr th {\n",
       "        vertical-align: top;\n",
       "    }\n",
       "\n",
       "    .dataframe thead th {\n",
       "        text-align: right;\n",
       "    }\n",
       "</style>\n",
       "<table border=\"1\" class=\"dataframe\">\n",
       "  <thead>\n",
       "    <tr style=\"text-align: right;\">\n",
       "      <th></th>\n",
       "      <th>wid</th>\n",
       "      <th>age</th>\n",
       "      <th>country</th>\n",
       "      <th>gender</th>\n",
       "      <th>marital</th>\n",
       "      <th>parenthood</th>\n",
       "    </tr>\n",
       "  </thead>\n",
       "  <tbody>\n",
       "    <tr>\n",
       "      <th>0</th>\n",
       "      <td>1</td>\n",
       "      <td>37.0</td>\n",
       "      <td>USA</td>\n",
       "      <td>m</td>\n",
       "      <td>married</td>\n",
       "      <td>y</td>\n",
       "    </tr>\n",
       "    <tr>\n",
       "      <th>1</th>\n",
       "      <td>2</td>\n",
       "      <td>29.0</td>\n",
       "      <td>IND</td>\n",
       "      <td>m</td>\n",
       "      <td>married</td>\n",
       "      <td>y</td>\n",
       "    </tr>\n",
       "  </tbody>\n",
       "</table>\n",
       "</div>"
      ],
      "text/plain": [
       "   wid   age country gender  marital parenthood\n",
       "0    1  37.0     USA      m  married          y\n",
       "1    2  29.0     IND      m  married          y"
      ]
     },
     "execution_count": 7,
     "metadata": {},
     "output_type": "execute_result"
    }
   ],
   "source": [
    "print(df_demo.shape)\n",
    "df_demo.head(2)"
   ]
  },
  {
   "cell_type": "code",
   "execution_count": 8,
   "metadata": {},
   "outputs": [],
   "source": [
    "df_vad = pd.DataFrame(pd.read_csv('/Users/matthewvitha/Downloads/vad.csv'))"
   ]
  },
  {
   "cell_type": "code",
   "execution_count": 9,
   "metadata": {},
   "outputs": [
    {
     "name": "stdout",
     "output_type": "stream",
     "text": [
      "(100535, 4)\n"
     ]
    },
    {
     "data": {
      "text/html": [
       "<div>\n",
       "<style scoped>\n",
       "    .dataframe tbody tr th:only-of-type {\n",
       "        vertical-align: middle;\n",
       "    }\n",
       "\n",
       "    .dataframe tbody tr th {\n",
       "        vertical-align: top;\n",
       "    }\n",
       "\n",
       "    .dataframe thead th {\n",
       "        text-align: right;\n",
       "    }\n",
       "</style>\n",
       "<table border=\"1\" class=\"dataframe\">\n",
       "  <thead>\n",
       "    <tr style=\"text-align: right;\">\n",
       "      <th></th>\n",
       "      <th>hmid</th>\n",
       "      <th>valency</th>\n",
       "      <th>dominance</th>\n",
       "      <th>arousal</th>\n",
       "    </tr>\n",
       "  </thead>\n",
       "  <tbody>\n",
       "    <tr>\n",
       "      <th>0</th>\n",
       "      <td>31526</td>\n",
       "      <td>6.614000</td>\n",
       "      <td>5.840000</td>\n",
       "      <td>3.750000</td>\n",
       "    </tr>\n",
       "    <tr>\n",
       "      <th>1</th>\n",
       "      <td>37050</td>\n",
       "      <td>5.663158</td>\n",
       "      <td>5.461579</td>\n",
       "      <td>3.983947</td>\n",
       "    </tr>\n",
       "  </tbody>\n",
       "</table>\n",
       "</div>"
      ],
      "text/plain": [
       "    hmid   valency  dominance   arousal\n",
       "0  31526  6.614000   5.840000  3.750000\n",
       "1  37050  5.663158   5.461579  3.983947"
      ]
     },
     "execution_count": 9,
     "metadata": {},
     "output_type": "execute_result"
    }
   ],
   "source": [
    "print(df_vad.shape)\n",
    "df_vad.head(2)"
   ]
  },
  {
   "cell_type": "code",
   "execution_count": 10,
   "metadata": {},
   "outputs": [],
   "source": [
    "df.head(4)\n",
    "df_small = df[0:10000]"
   ]
  },
  {
   "cell_type": "code",
   "execution_count": 11,
   "metadata": {},
   "outputs": [
    {
     "data": {
      "text/plain": [
       "(100535, 9)"
      ]
     },
     "execution_count": 11,
     "metadata": {},
     "output_type": "execute_result"
    }
   ],
   "source": [
    "df.shape"
   ]
  },
  {
   "cell_type": "code",
   "execution_count": 80,
   "metadata": {},
   "outputs": [
    {
     "data": {
      "text/html": [
       "<div>\n",
       "<style scoped>\n",
       "    .dataframe tbody tr th:only-of-type {\n",
       "        vertical-align: middle;\n",
       "    }\n",
       "\n",
       "    .dataframe tbody tr th {\n",
       "        vertical-align: top;\n",
       "    }\n",
       "\n",
       "    .dataframe thead th {\n",
       "        text-align: right;\n",
       "    }\n",
       "</style>\n",
       "<table border=\"1\" class=\"dataframe\">\n",
       "  <thead>\n",
       "    <tr style=\"text-align: right;\">\n",
       "      <th></th>\n",
       "      <th>hmid</th>\n",
       "      <th>wid</th>\n",
       "      <th>reflection_period</th>\n",
       "      <th>original_hm</th>\n",
       "      <th>cleaned_hm</th>\n",
       "      <th>modified</th>\n",
       "      <th>num_sentence</th>\n",
       "      <th>ground_truth_category</th>\n",
       "      <th>predicted_category</th>\n",
       "    </tr>\n",
       "  </thead>\n",
       "  <tbody>\n",
       "    <tr>\n",
       "      <th>0</th>\n",
       "      <td>27673</td>\n",
       "      <td>2053</td>\n",
       "      <td>24h</td>\n",
       "      <td>I went on a successful date with someone I fel...</td>\n",
       "      <td>went successful date someone felt sympathy con...</td>\n",
       "      <td>True</td>\n",
       "      <td>1</td>\n",
       "      <td>NaN</td>\n",
       "      <td>affection</td>\n",
       "    </tr>\n",
       "    <tr>\n",
       "      <th>1</th>\n",
       "      <td>27674</td>\n",
       "      <td>2</td>\n",
       "      <td>24h</td>\n",
       "      <td>I was happy when my son got 90% marks in his e...</td>\n",
       "      <td>happy son got 90 marks examination</td>\n",
       "      <td>True</td>\n",
       "      <td>1</td>\n",
       "      <td>NaN</td>\n",
       "      <td>affection</td>\n",
       "    </tr>\n",
       "    <tr>\n",
       "      <th>2</th>\n",
       "      <td>27675</td>\n",
       "      <td>1936</td>\n",
       "      <td>24h</td>\n",
       "      <td>I went to the gym this morning and did yoga.</td>\n",
       "      <td>went gym morning yoga</td>\n",
       "      <td>True</td>\n",
       "      <td>1</td>\n",
       "      <td>NaN</td>\n",
       "      <td>exercise</td>\n",
       "    </tr>\n",
       "    <tr>\n",
       "      <th>3</th>\n",
       "      <td>27676</td>\n",
       "      <td>206</td>\n",
       "      <td>24h</td>\n",
       "      <td>We had a serious talk with some friends of our...</td>\n",
       "      <td>serious talk friends flaky lately understood g...</td>\n",
       "      <td>True</td>\n",
       "      <td>2</td>\n",
       "      <td>bonding</td>\n",
       "      <td>bonding</td>\n",
       "    </tr>\n",
       "  </tbody>\n",
       "</table>\n",
       "</div>"
      ],
      "text/plain": [
       "    hmid   wid reflection_period  \\\n",
       "0  27673  2053               24h   \n",
       "1  27674     2               24h   \n",
       "2  27675  1936               24h   \n",
       "3  27676   206               24h   \n",
       "\n",
       "                                         original_hm  \\\n",
       "0  I went on a successful date with someone I fel...   \n",
       "1  I was happy when my son got 90% marks in his e...   \n",
       "2       I went to the gym this morning and did yoga.   \n",
       "3  We had a serious talk with some friends of our...   \n",
       "\n",
       "                                          cleaned_hm  modified  num_sentence  \\\n",
       "0  went successful date someone felt sympathy con...      True             1   \n",
       "1                 happy son got 90 marks examination      True             1   \n",
       "2                              went gym morning yoga      True             1   \n",
       "3  serious talk friends flaky lately understood g...      True             2   \n",
       "\n",
       "  ground_truth_category predicted_category  \n",
       "0                   NaN          affection  \n",
       "1                   NaN          affection  \n",
       "2                   NaN           exercise  \n",
       "3               bonding            bonding  "
      ]
     },
     "execution_count": 80,
     "metadata": {},
     "output_type": "execute_result"
    }
   ],
   "source": [
    "df.head(4)"
   ]
  },
  {
   "cell_type": "code",
   "execution_count": null,
   "metadata": {},
   "outputs": [],
   "source": []
  },
  {
   "cell_type": "markdown",
   "metadata": {},
   "source": [
    "## The cleaned_hm column will be the primary column of interest in the main dataset. This contains the edited happy moments "
   ]
  },
  {
   "cell_type": "code",
   "execution_count": 13,
   "metadata": {},
   "outputs": [
    {
     "data": {
      "text/plain": [
       "0    I went on a successful date with someone I fel...\n",
       "1    I was happy when my son got 90% marks in his e...\n",
       "2         I went to the gym this morning and did yoga.\n",
       "3    We had a serious talk with some friends of our...\n",
       "4    I went with grandchildren to butterfly display...\n",
       "Name: cleaned_hm, dtype: object"
      ]
     },
     "execution_count": 13,
     "metadata": {},
     "output_type": "execute_result"
    }
   ],
   "source": [
    "df[\"cleaned_hm\"].head()"
   ]
  },
  {
   "cell_type": "markdown",
   "metadata": {},
   "source": [
    "## Given that we will be using topic models to identify latent similarities between HM's, predicted categories will be important to analyze\n",
    "\n",
    "## QUESTION: SHOULD I TRY TO USE THESE IN CLASSIFICATION PROBLEM? "
   ]
  },
  {
   "cell_type": "code",
   "execution_count": 14,
   "metadata": {},
   "outputs": [
    {
     "data": {
      "text/plain": [
       "affection           34168\n",
       "achievement         33993\n",
       "enjoy_the_moment    11144\n",
       "bonding             10727\n",
       "leisure              7458\n",
       "nature               1843\n",
       "exercise             1202\n",
       "Name: predicted_category, dtype: int64"
      ]
     },
     "execution_count": 14,
     "metadata": {},
     "output_type": "execute_result"
    }
   ],
   "source": [
    "df[\"predicted_category\"].value_counts()"
   ]
  },
  {
   "cell_type": "markdown",
   "metadata": {},
   "source": [
    "## As is typical with NLP projects, the below cells outline pre-processing steps. \n",
    "\n",
    "## Below cell makes all words in cleaned_hm column lower case."
   ]
  },
  {
   "cell_type": "code",
   "execution_count": 15,
   "metadata": {},
   "outputs": [],
   "source": [
    "import string\n",
    "df['cleaned_hm'] = [i.lower() for i in df['cleaned_hm']]\n",
    "#new_list = [expression(i) for i in old_list if filter(i)]"
   ]
  },
  {
   "cell_type": "code",
   "execution_count": 16,
   "metadata": {},
   "outputs": [
    {
     "data": {
      "text/plain": [
       "0    i went on a successful date with someone i fel...\n",
       "1    i was happy when my son got 90% marks in his e...\n",
       "2         i went to the gym this morning and did yoga.\n",
       "Name: cleaned_hm, dtype: object"
      ]
     },
     "execution_count": 16,
     "metadata": {},
     "output_type": "execute_result"
    }
   ],
   "source": [
    "(df['cleaned_hm']).head(3)"
   ]
  },
  {
   "cell_type": "markdown",
   "metadata": {},
   "source": [
    "## Below cell removes punctuation from cleaned_hm column "
   ]
  },
  {
   "cell_type": "code",
   "execution_count": 17,
   "metadata": {},
   "outputs": [],
   "source": [
    "df['cleaned_hm'] = [i.translate(string.punctuation) for i in df['cleaned_hm']]"
   ]
  },
  {
   "cell_type": "code",
   "execution_count": 18,
   "metadata": {},
   "outputs": [
    {
     "data": {
      "text/html": [
       "<div>\n",
       "<style scoped>\n",
       "    .dataframe tbody tr th:only-of-type {\n",
       "        vertical-align: middle;\n",
       "    }\n",
       "\n",
       "    .dataframe tbody tr th {\n",
       "        vertical-align: top;\n",
       "    }\n",
       "\n",
       "    .dataframe thead th {\n",
       "        text-align: right;\n",
       "    }\n",
       "</style>\n",
       "<table border=\"1\" class=\"dataframe\">\n",
       "  <thead>\n",
       "    <tr style=\"text-align: right;\">\n",
       "      <th></th>\n",
       "      <th>hmid</th>\n",
       "      <th>wid</th>\n",
       "      <th>reflection_period</th>\n",
       "      <th>original_hm</th>\n",
       "      <th>cleaned_hm</th>\n",
       "      <th>modified</th>\n",
       "      <th>num_sentence</th>\n",
       "      <th>ground_truth_category</th>\n",
       "      <th>predicted_category</th>\n",
       "    </tr>\n",
       "  </thead>\n",
       "  <tbody>\n",
       "    <tr>\n",
       "      <th>0</th>\n",
       "      <td>27673</td>\n",
       "      <td>2053</td>\n",
       "      <td>24h</td>\n",
       "      <td>I went on a successful date with someone I fel...</td>\n",
       "      <td>i went on a successful date with someone i fel...</td>\n",
       "      <td>True</td>\n",
       "      <td>1</td>\n",
       "      <td>NaN</td>\n",
       "      <td>affection</td>\n",
       "    </tr>\n",
       "    <tr>\n",
       "      <th>1</th>\n",
       "      <td>27674</td>\n",
       "      <td>2</td>\n",
       "      <td>24h</td>\n",
       "      <td>I was happy when my son got 90% marks in his e...</td>\n",
       "      <td>i was happy when my son got 90% marks in his e...</td>\n",
       "      <td>True</td>\n",
       "      <td>1</td>\n",
       "      <td>NaN</td>\n",
       "      <td>affection</td>\n",
       "    </tr>\n",
       "    <tr>\n",
       "      <th>2</th>\n",
       "      <td>27675</td>\n",
       "      <td>1936</td>\n",
       "      <td>24h</td>\n",
       "      <td>I went to the gym this morning and did yoga.</td>\n",
       "      <td>i went to the gym this morning and did yoga.</td>\n",
       "      <td>True</td>\n",
       "      <td>1</td>\n",
       "      <td>NaN</td>\n",
       "      <td>exercise</td>\n",
       "    </tr>\n",
       "  </tbody>\n",
       "</table>\n",
       "</div>"
      ],
      "text/plain": [
       "    hmid   wid reflection_period  \\\n",
       "0  27673  2053               24h   \n",
       "1  27674     2               24h   \n",
       "2  27675  1936               24h   \n",
       "\n",
       "                                         original_hm  \\\n",
       "0  I went on a successful date with someone I fel...   \n",
       "1  I was happy when my son got 90% marks in his e...   \n",
       "2       I went to the gym this morning and did yoga.   \n",
       "\n",
       "                                          cleaned_hm  modified  num_sentence  \\\n",
       "0  i went on a successful date with someone i fel...      True             1   \n",
       "1  i was happy when my son got 90% marks in his e...      True             1   \n",
       "2       i went to the gym this morning and did yoga.      True             1   \n",
       "\n",
       "  ground_truth_category predicted_category  \n",
       "0                   NaN          affection  \n",
       "1                   NaN          affection  \n",
       "2                   NaN           exercise  "
      ]
     },
     "execution_count": 18,
     "metadata": {},
     "output_type": "execute_result"
    }
   ],
   "source": [
    "df.head(3)"
   ]
  },
  {
   "cell_type": "markdown",
   "metadata": {},
   "source": [
    "## The below function is defined to perform more preprocessing steps. Most notably, the words are tokenized using the regextokenizer from NLTK, and stop words are removed from the cells (also using NLTK)"
   ]
  },
  {
   "cell_type": "code",
   "execution_count": 19,
   "metadata": {},
   "outputs": [
    {
     "name": "stderr",
     "output_type": "stream",
     "text": [
      "/Users/matthewvitha/anaconda/lib/python3.5/importlib/_bootstrap.py:222: RuntimeWarning: numpy.dtype size changed, may indicate binary incompatibility. Expected 96, got 88\n",
      "  return f(*args, **kwds)\n",
      "/Users/matthewvitha/anaconda/lib/python3.5/importlib/_bootstrap.py:222: RuntimeWarning: numpy.dtype size changed, may indicate binary incompatibility. Expected 96, got 88\n",
      "  return f(*args, **kwds)\n",
      "/Users/matthewvitha/anaconda/lib/python3.5/importlib/_bootstrap.py:222: RuntimeWarning: numpy.dtype size changed, may indicate binary incompatibility. Expected 96, got 88\n",
      "  return f(*args, **kwds)\n"
     ]
    }
   ],
   "source": [
    "\n",
    "import nltk\n",
    "from nltk.tokenize import RegexpTokenizer\n",
    "from nltk.corpus import stopwords\n",
    "import re\n",
    "\n",
    "def preprocess(sentence):\n",
    "\tsentence = sentence.lower()\n",
    "\ttokenizer = RegexpTokenizer(r'\\w+')\n",
    "\ttokens = tokenizer.tokenize(sentence)\n",
    "\tfiltered_words = [w for w in tokens if not w in stopwords.words('english')]\n",
    "\treturn \" \".join(filtered_words)"
   ]
  },
  {
   "cell_type": "code",
   "execution_count": 20,
   "metadata": {},
   "outputs": [
    {
     "name": "stderr",
     "output_type": "stream",
     "text": [
      "/Users/matthewvitha/anaconda/lib/python3.5/site-packages/ipykernel_launcher.py:1: SettingWithCopyWarning: \n",
      "A value is trying to be set on a copy of a slice from a DataFrame.\n",
      "Try using .loc[row_indexer,col_indexer] = value instead\n",
      "\n",
      "See the caveats in the documentation: http://pandas.pydata.org/pandas-docs/stable/indexing.html#indexing-view-versus-copy\n",
      "  \"\"\"Entry point for launching an IPython kernel.\n"
     ]
    }
   ],
   "source": [
    "df_small['cleaned_hm'] = [preprocess(x) for x in df_small['cleaned_hm']]"
   ]
  },
  {
   "cell_type": "code",
   "execution_count": 21,
   "metadata": {},
   "outputs": [
    {
     "data": {
      "text/html": [
       "<div>\n",
       "<style scoped>\n",
       "    .dataframe tbody tr th:only-of-type {\n",
       "        vertical-align: middle;\n",
       "    }\n",
       "\n",
       "    .dataframe tbody tr th {\n",
       "        vertical-align: top;\n",
       "    }\n",
       "\n",
       "    .dataframe thead th {\n",
       "        text-align: right;\n",
       "    }\n",
       "</style>\n",
       "<table border=\"1\" class=\"dataframe\">\n",
       "  <thead>\n",
       "    <tr style=\"text-align: right;\">\n",
       "      <th></th>\n",
       "      <th>hmid</th>\n",
       "      <th>wid</th>\n",
       "      <th>reflection_period</th>\n",
       "      <th>original_hm</th>\n",
       "      <th>cleaned_hm</th>\n",
       "      <th>modified</th>\n",
       "      <th>num_sentence</th>\n",
       "      <th>ground_truth_category</th>\n",
       "      <th>predicted_category</th>\n",
       "    </tr>\n",
       "  </thead>\n",
       "  <tbody>\n",
       "    <tr>\n",
       "      <th>0</th>\n",
       "      <td>27673</td>\n",
       "      <td>2053</td>\n",
       "      <td>24h</td>\n",
       "      <td>I went on a successful date with someone I fel...</td>\n",
       "      <td>went successful date someone felt sympathy con...</td>\n",
       "      <td>True</td>\n",
       "      <td>1</td>\n",
       "      <td>NaN</td>\n",
       "      <td>affection</td>\n",
       "    </tr>\n",
       "    <tr>\n",
       "      <th>1</th>\n",
       "      <td>27674</td>\n",
       "      <td>2</td>\n",
       "      <td>24h</td>\n",
       "      <td>I was happy when my son got 90% marks in his e...</td>\n",
       "      <td>happy son got 90 marks examination</td>\n",
       "      <td>True</td>\n",
       "      <td>1</td>\n",
       "      <td>NaN</td>\n",
       "      <td>affection</td>\n",
       "    </tr>\n",
       "    <tr>\n",
       "      <th>2</th>\n",
       "      <td>27675</td>\n",
       "      <td>1936</td>\n",
       "      <td>24h</td>\n",
       "      <td>I went to the gym this morning and did yoga.</td>\n",
       "      <td>went gym morning yoga</td>\n",
       "      <td>True</td>\n",
       "      <td>1</td>\n",
       "      <td>NaN</td>\n",
       "      <td>exercise</td>\n",
       "    </tr>\n",
       "    <tr>\n",
       "      <th>3</th>\n",
       "      <td>27676</td>\n",
       "      <td>206</td>\n",
       "      <td>24h</td>\n",
       "      <td>We had a serious talk with some friends of our...</td>\n",
       "      <td>serious talk friends flaky lately understood g...</td>\n",
       "      <td>True</td>\n",
       "      <td>2</td>\n",
       "      <td>bonding</td>\n",
       "      <td>bonding</td>\n",
       "    </tr>\n",
       "    <tr>\n",
       "      <th>4</th>\n",
       "      <td>27677</td>\n",
       "      <td>6227</td>\n",
       "      <td>24h</td>\n",
       "      <td>I went with grandchildren to butterfly display...</td>\n",
       "      <td>went grandchildren butterfly display crohn con...</td>\n",
       "      <td>True</td>\n",
       "      <td>1</td>\n",
       "      <td>NaN</td>\n",
       "      <td>affection</td>\n",
       "    </tr>\n",
       "  </tbody>\n",
       "</table>\n",
       "</div>"
      ],
      "text/plain": [
       "    hmid   wid reflection_period  \\\n",
       "0  27673  2053               24h   \n",
       "1  27674     2               24h   \n",
       "2  27675  1936               24h   \n",
       "3  27676   206               24h   \n",
       "4  27677  6227               24h   \n",
       "\n",
       "                                         original_hm  \\\n",
       "0  I went on a successful date with someone I fel...   \n",
       "1  I was happy when my son got 90% marks in his e...   \n",
       "2       I went to the gym this morning and did yoga.   \n",
       "3  We had a serious talk with some friends of our...   \n",
       "4  I went with grandchildren to butterfly display...   \n",
       "\n",
       "                                          cleaned_hm  modified  num_sentence  \\\n",
       "0  went successful date someone felt sympathy con...      True             1   \n",
       "1                 happy son got 90 marks examination      True             1   \n",
       "2                              went gym morning yoga      True             1   \n",
       "3  serious talk friends flaky lately understood g...      True             2   \n",
       "4  went grandchildren butterfly display crohn con...      True             1   \n",
       "\n",
       "  ground_truth_category predicted_category  \n",
       "0                   NaN          affection  \n",
       "1                   NaN          affection  \n",
       "2                   NaN           exercise  \n",
       "3               bonding            bonding  \n",
       "4                   NaN          affection  "
      ]
     },
     "execution_count": 21,
     "metadata": {},
     "output_type": "execute_result"
    }
   ],
   "source": [
    "df_small.head(5)"
   ]
  },
  {
   "cell_type": "markdown",
   "metadata": {},
   "source": [
    "### The below cells did not run, but they are an attempt to remove contractions, and replace numbers with the word representation of the number. "
   ]
  },
  {
   "cell_type": "code",
   "execution_count": 22,
   "metadata": {},
   "outputs": [
    {
     "ename": "ImportError",
     "evalue": "No module named 'contractions'",
     "output_type": "error",
     "traceback": [
      "\u001b[0;31m---------------------------------------------------------------------------\u001b[0m",
      "\u001b[0;31mImportError\u001b[0m                               Traceback (most recent call last)",
      "\u001b[0;32m<ipython-input-22-adfe590b2741>\u001b[0m in \u001b[0;36m<module>\u001b[0;34m()\u001b[0m\n\u001b[1;32m      1\u001b[0m \u001b[0;32mfrom\u001b[0m \u001b[0mnltk\u001b[0m\u001b[0;34m.\u001b[0m\u001b[0mstem\u001b[0m \u001b[0;32mimport\u001b[0m \u001b[0mLancasterStemmer\u001b[0m\u001b[0;34m,\u001b[0m \u001b[0mWordNetLemmatizer\u001b[0m\u001b[0;34m\u001b[0m\u001b[0m\n\u001b[0;32m----> 2\u001b[0;31m \u001b[0;32mimport\u001b[0m \u001b[0mcontractions\u001b[0m\u001b[0;34m\u001b[0m\u001b[0m\n\u001b[0m\u001b[1;32m      3\u001b[0m \u001b[0;32mimport\u001b[0m \u001b[0minflect\u001b[0m \u001b[0;32mas\u001b[0m \u001b[0minflect\u001b[0m\u001b[0;34m\u001b[0m\u001b[0m\n",
      "\u001b[0;31mImportError\u001b[0m: No module named 'contractions'"
     ]
    }
   ],
   "source": [
    "from nltk.stem import LancasterStemmer, WordNetLemmatizer\n",
    "import contractions\n",
    "import inflect as inflect"
   ]
  },
  {
   "cell_type": "code",
   "execution_count": 23,
   "metadata": {},
   "outputs": [],
   "source": [
    "\n",
    "def replace_numbers(words):\n",
    "    \"\"\"Replace all interger occurrences in list of tokenized words with textual representation\"\"\"\n",
    "    p = inflect.engine()\n",
    "    new_words = []\n",
    "    for word in words:\n",
    "        if word.isdigit():\n",
    "            new_word = p.number_to_words(word)\n",
    "            new_words.append(new_word)\n",
    "        else:\n",
    "            new_words.append(word)\n",
    "    return new_words"
   ]
  },
  {
   "cell_type": "code",
   "execution_count": 24,
   "metadata": {},
   "outputs": [
    {
     "ename": "NameError",
     "evalue": "name 'inflect' is not defined",
     "output_type": "error",
     "traceback": [
      "\u001b[0;31m---------------------------------------------------------------------------\u001b[0m",
      "\u001b[0;31mNameError\u001b[0m                                 Traceback (most recent call last)",
      "\u001b[0;32m<ipython-input-24-13ea18ed9760>\u001b[0m in \u001b[0;36m<module>\u001b[0;34m()\u001b[0m\n\u001b[0;32m----> 1\u001b[0;31m \u001b[0mdf_small\u001b[0m\u001b[0;34m[\u001b[0m\u001b[0;34m'cleaned_hm'\u001b[0m\u001b[0;34m]\u001b[0m \u001b[0;34m=\u001b[0m \u001b[0;34m[\u001b[0m\u001b[0mreplace_numbers\u001b[0m\u001b[0;34m(\u001b[0m\u001b[0mi\u001b[0m\u001b[0;34m)\u001b[0m \u001b[0;32mfor\u001b[0m \u001b[0mi\u001b[0m \u001b[0;32min\u001b[0m \u001b[0mdf_small\u001b[0m\u001b[0;34m[\u001b[0m\u001b[0;34m'cleaned_hm'\u001b[0m\u001b[0;34m]\u001b[0m\u001b[0;34m]\u001b[0m\u001b[0;34m\u001b[0m\u001b[0m\n\u001b[0m",
      "\u001b[0;32m<ipython-input-24-13ea18ed9760>\u001b[0m in \u001b[0;36m<listcomp>\u001b[0;34m(.0)\u001b[0m\n\u001b[0;32m----> 1\u001b[0;31m \u001b[0mdf_small\u001b[0m\u001b[0;34m[\u001b[0m\u001b[0;34m'cleaned_hm'\u001b[0m\u001b[0;34m]\u001b[0m \u001b[0;34m=\u001b[0m \u001b[0;34m[\u001b[0m\u001b[0mreplace_numbers\u001b[0m\u001b[0;34m(\u001b[0m\u001b[0mi\u001b[0m\u001b[0;34m)\u001b[0m \u001b[0;32mfor\u001b[0m \u001b[0mi\u001b[0m \u001b[0;32min\u001b[0m \u001b[0mdf_small\u001b[0m\u001b[0;34m[\u001b[0m\u001b[0;34m'cleaned_hm'\u001b[0m\u001b[0;34m]\u001b[0m\u001b[0;34m]\u001b[0m\u001b[0;34m\u001b[0m\u001b[0m\n\u001b[0m",
      "\u001b[0;32m<ipython-input-23-267282829252>\u001b[0m in \u001b[0;36mreplace_numbers\u001b[0;34m(words)\u001b[0m\n\u001b[1;32m      2\u001b[0m \u001b[0;32mdef\u001b[0m \u001b[0mreplace_numbers\u001b[0m\u001b[0;34m(\u001b[0m\u001b[0mwords\u001b[0m\u001b[0;34m)\u001b[0m\u001b[0;34m:\u001b[0m\u001b[0;34m\u001b[0m\u001b[0m\n\u001b[1;32m      3\u001b[0m     \u001b[0;34m\"\"\"Replace all interger occurrences in list of tokenized words with textual representation\"\"\"\u001b[0m\u001b[0;34m\u001b[0m\u001b[0m\n\u001b[0;32m----> 4\u001b[0;31m     \u001b[0mp\u001b[0m \u001b[0;34m=\u001b[0m \u001b[0minflect\u001b[0m\u001b[0;34m.\u001b[0m\u001b[0mengine\u001b[0m\u001b[0;34m(\u001b[0m\u001b[0;34m)\u001b[0m\u001b[0;34m\u001b[0m\u001b[0m\n\u001b[0m\u001b[1;32m      5\u001b[0m     \u001b[0mnew_words\u001b[0m \u001b[0;34m=\u001b[0m \u001b[0;34m[\u001b[0m\u001b[0;34m]\u001b[0m\u001b[0;34m\u001b[0m\u001b[0m\n\u001b[1;32m      6\u001b[0m     \u001b[0;32mfor\u001b[0m \u001b[0mword\u001b[0m \u001b[0;32min\u001b[0m \u001b[0mwords\u001b[0m\u001b[0;34m:\u001b[0m\u001b[0;34m\u001b[0m\u001b[0m\n",
      "\u001b[0;31mNameError\u001b[0m: name 'inflect' is not defined"
     ]
    }
   ],
   "source": [
    "df_small['cleaned_hm'] = [replace_numbers(i) for i in df_small['cleaned_hm']]"
   ]
  },
  {
   "cell_type": "markdown",
   "metadata": {},
   "source": [
    "def stem_words(words):\n",
    "    \"\"\"Stem words in list of tokenized words\"\"\"\n",
    "    stemmer = LancasterStemmer()\n",
    "    stems = []\n",
    "    for word in words:\n",
    "        stem = stemmer.stem(word)\n",
    "        stems.append(stem)\n",
    "    return stems"
   ]
  },
  {
   "cell_type": "code",
   "execution_count": 25,
   "metadata": {},
   "outputs": [
    {
     "data": {
      "text/html": [
       "<div>\n",
       "<style scoped>\n",
       "    .dataframe tbody tr th:only-of-type {\n",
       "        vertical-align: middle;\n",
       "    }\n",
       "\n",
       "    .dataframe tbody tr th {\n",
       "        vertical-align: top;\n",
       "    }\n",
       "\n",
       "    .dataframe thead th {\n",
       "        text-align: right;\n",
       "    }\n",
       "</style>\n",
       "<table border=\"1\" class=\"dataframe\">\n",
       "  <thead>\n",
       "    <tr style=\"text-align: right;\">\n",
       "      <th></th>\n",
       "      <th>hmid</th>\n",
       "      <th>wid</th>\n",
       "      <th>reflection_period</th>\n",
       "      <th>original_hm</th>\n",
       "      <th>cleaned_hm</th>\n",
       "      <th>modified</th>\n",
       "      <th>num_sentence</th>\n",
       "      <th>ground_truth_category</th>\n",
       "      <th>predicted_category</th>\n",
       "    </tr>\n",
       "  </thead>\n",
       "  <tbody>\n",
       "    <tr>\n",
       "      <th>0</th>\n",
       "      <td>27673</td>\n",
       "      <td>2053</td>\n",
       "      <td>24h</td>\n",
       "      <td>I went on a successful date with someone I fel...</td>\n",
       "      <td>went successful date someone felt sympathy con...</td>\n",
       "      <td>True</td>\n",
       "      <td>1</td>\n",
       "      <td>NaN</td>\n",
       "      <td>affection</td>\n",
       "    </tr>\n",
       "    <tr>\n",
       "      <th>1</th>\n",
       "      <td>27674</td>\n",
       "      <td>2</td>\n",
       "      <td>24h</td>\n",
       "      <td>I was happy when my son got 90% marks in his e...</td>\n",
       "      <td>happy son got 90 marks examination</td>\n",
       "      <td>True</td>\n",
       "      <td>1</td>\n",
       "      <td>NaN</td>\n",
       "      <td>affection</td>\n",
       "    </tr>\n",
       "    <tr>\n",
       "      <th>2</th>\n",
       "      <td>27675</td>\n",
       "      <td>1936</td>\n",
       "      <td>24h</td>\n",
       "      <td>I went to the gym this morning and did yoga.</td>\n",
       "      <td>went gym morning yoga</td>\n",
       "      <td>True</td>\n",
       "      <td>1</td>\n",
       "      <td>NaN</td>\n",
       "      <td>exercise</td>\n",
       "    </tr>\n",
       "  </tbody>\n",
       "</table>\n",
       "</div>"
      ],
      "text/plain": [
       "    hmid   wid reflection_period  \\\n",
       "0  27673  2053               24h   \n",
       "1  27674     2               24h   \n",
       "2  27675  1936               24h   \n",
       "\n",
       "                                         original_hm  \\\n",
       "0  I went on a successful date with someone I fel...   \n",
       "1  I was happy when my son got 90% marks in his e...   \n",
       "2       I went to the gym this morning and did yoga.   \n",
       "\n",
       "                                          cleaned_hm  modified  num_sentence  \\\n",
       "0  went successful date someone felt sympathy con...      True             1   \n",
       "1                 happy son got 90 marks examination      True             1   \n",
       "2                              went gym morning yoga      True             1   \n",
       "\n",
       "  ground_truth_category predicted_category  \n",
       "0                   NaN          affection  \n",
       "1                   NaN          affection  \n",
       "2                   NaN           exercise  "
      ]
     },
     "execution_count": 25,
     "metadata": {},
     "output_type": "execute_result"
    }
   ],
   "source": [
    "df_small.head(3)"
   ]
  },
  {
   "cell_type": "markdown",
   "metadata": {},
   "source": [
    "## Below, WordNetLemmatizer is implemented using NLTK."
   ]
  },
  {
   "cell_type": "code",
   "execution_count": 26,
   "metadata": {},
   "outputs": [
    {
     "name": "stderr",
     "output_type": "stream",
     "text": [
      "/Users/matthewvitha/anaconda/lib/python3.5/site-packages/ipykernel_launcher.py:4: SettingWithCopyWarning: \n",
      "A value is trying to be set on a copy of a slice from a DataFrame.\n",
      "Try using .loc[row_indexer,col_indexer] = value instead\n",
      "\n",
      "See the caveats in the documentation: http://pandas.pydata.org/pandas-docs/stable/indexing.html#indexing-view-versus-copy\n",
      "  after removing the cwd from sys.path.\n"
     ]
    }
   ],
   "source": [
    "from nltk.stem import WordNetLemmatizer\n",
    "from nltk.tokenize import word_tokenize\n",
    "lemmatizer=WordNetLemmatizer()\n",
    "df_small['cleaned_hm'] = [lemmatizer.lemmatize(word) for word in df_small['cleaned_hm']]"
   ]
  },
  {
   "cell_type": "code",
   "execution_count": 27,
   "metadata": {},
   "outputs": [
    {
     "data": {
      "text/html": [
       "<div>\n",
       "<style scoped>\n",
       "    .dataframe tbody tr th:only-of-type {\n",
       "        vertical-align: middle;\n",
       "    }\n",
       "\n",
       "    .dataframe tbody tr th {\n",
       "        vertical-align: top;\n",
       "    }\n",
       "\n",
       "    .dataframe thead th {\n",
       "        text-align: right;\n",
       "    }\n",
       "</style>\n",
       "<table border=\"1\" class=\"dataframe\">\n",
       "  <thead>\n",
       "    <tr style=\"text-align: right;\">\n",
       "      <th></th>\n",
       "      <th>hmid</th>\n",
       "      <th>wid</th>\n",
       "      <th>reflection_period</th>\n",
       "      <th>original_hm</th>\n",
       "      <th>cleaned_hm</th>\n",
       "      <th>modified</th>\n",
       "      <th>num_sentence</th>\n",
       "      <th>ground_truth_category</th>\n",
       "      <th>predicted_category</th>\n",
       "    </tr>\n",
       "  </thead>\n",
       "  <tbody>\n",
       "    <tr>\n",
       "      <th>0</th>\n",
       "      <td>27673</td>\n",
       "      <td>2053</td>\n",
       "      <td>24h</td>\n",
       "      <td>I went on a successful date with someone I fel...</td>\n",
       "      <td>went successful date someone felt sympathy con...</td>\n",
       "      <td>True</td>\n",
       "      <td>1</td>\n",
       "      <td>NaN</td>\n",
       "      <td>affection</td>\n",
       "    </tr>\n",
       "  </tbody>\n",
       "</table>\n",
       "</div>"
      ],
      "text/plain": [
       "    hmid   wid reflection_period  \\\n",
       "0  27673  2053               24h   \n",
       "\n",
       "                                         original_hm  \\\n",
       "0  I went on a successful date with someone I fel...   \n",
       "\n",
       "                                          cleaned_hm  modified  num_sentence  \\\n",
       "0  went successful date someone felt sympathy con...      True             1   \n",
       "\n",
       "  ground_truth_category predicted_category  \n",
       "0                   NaN          affection  "
      ]
     },
     "execution_count": 27,
     "metadata": {},
     "output_type": "execute_result"
    }
   ],
   "source": [
    "df_small.head(1)"
   ]
  },
  {
   "cell_type": "code",
   "execution_count": 28,
   "metadata": {},
   "outputs": [
    {
     "data": {
      "text/plain": [
       "(10000, 9)"
      ]
     },
     "execution_count": 28,
     "metadata": {},
     "output_type": "execute_result"
    }
   ],
   "source": [
    "df_small.shape"
   ]
  },
  {
   "cell_type": "code",
   "execution_count": 29,
   "metadata": {},
   "outputs": [],
   "source": [
    "from nltk.tokenize import regexp_tokenize, wordpunct_tokenize, blankline_tokenize\n",
    "lemma=nltk.stem.WordNetLemmatizer()\n",
    "\n",
    "lemma_books = []\n",
    "for book in df_small['cleaned_hm']:\n",
    "    lemma_book = [lemma.lemmatize(word) for word in wordpunct_tokenize(book)]\n",
    "    lemma_book = (' ').join(lemma_book)\n",
    "    lemma_books.append(lemma_book)"
   ]
  },
  {
   "cell_type": "code",
   "execution_count": 30,
   "metadata": {},
   "outputs": [
    {
     "data": {
      "text/plain": [
       "['went successful date someone felt sympathy connection',\n",
       " 'happy son got 90 mark examination',\n",
       " 'went gym morning yoga',\n",
       " 'serious talk friend flaky lately understood good evening hanging',\n",
       " 'went grandchild butterfly display crohn conservatory',\n",
       " 'meditated last night',\n",
       " 'made new recipe peasant bread came spectacular',\n",
       " 'got gift elder brother really surprising',\n",
       " 'yesterday mom birthday enjoyed',\n",
       " 'watching cupcake war three teen child',\n",
       " 'came 3rd place call duty video game',\n",
       " 'completed 5 mile run without break make feel strong',\n",
       " 'went movie friend fun',\n",
       " 'shorting gold made 200 trade',\n",
       " 'hearing song nearly impossible go angry happy looking thought eas angry feeling move direction happiness may take long headed positive direction youall world good',\n",
       " 'son performed well test preparation',\n",
       " 'helped neighbour fix car damage',\n",
       " 'managed get final trophy game playing',\n",
       " 'hot kiss girl friend last night made day',\n",
       " 'new bcaas came mail yay strawberry lemonade flavored amino make heart happy',\n",
       " 'got class',\n",
       " 'sister called abroad morning long year happy occassion family member',\n",
       " 'cake made today came amazing tasted amazing well',\n",
       " 'two type people world choose happy choose unhappy contrary popular belief happiness come fame fortune people material possession',\n",
       " 'grandmother start walk bed long time',\n",
       " 'able hit top spin serve tennis',\n",
       " 'napped husband bed afternoon sweet cuddle close',\n",
       " 'co woker started playing carley rae jepsen song phone ringing customer',\n",
       " 'son woke fantastic breakfast egg special hamburger patty pancake',\n",
       " 'long time brother gave suprise visit house yesterday',\n",
       " 'went movie sister today first time since long time',\n",
       " 'consumed well garnished bowl ramen twice today delicious',\n",
       " 'picked daughter airport fun good conversation way home',\n",
       " 'daughter waved said mama first time came home morning',\n",
       " 'going mountain hiking trail top',\n",
       " 'competing another team online game playing friend childhood friend grew together went school since kid playing game together almost 2 year kinda formed team game game started smoothly everyone hyped fight slowly thing started become interesting exciting know became close fight score 2 2 1 point winner declared everyone looking since knew best within friend particular game started commanding expect enemy game team based game 5 v 5 team starting fail demoralization ensues tried best knew maneuvered attack enemy skill luck dodged countered',\n",
       " 'went run neighborhood enjoyed perfect weather',\n",
       " 'hang fiancee dinner together',\n",
       " 'offsite colleague great fun stimulating discussion',\n",
       " 'older daughter keep patting younger daughter head',\n",
       " 'feeling lonely long day work called husband said way pick meeting surprised excited',\n",
       " 'received award work tough loan process helped develop',\n",
       " 'received flower best friend',\n",
       " 'spouse gave kiss big hug morning go office',\n",
       " 'son gave big hug morning',\n",
       " 'cooked ate wonderful sausage cheese omelet',\n",
       " 'achieved daily income goal',\n",
       " 'met favorite superstar first time',\n",
       " 'remember yesterday totally different many monday felt like spring finally sun bright temperature warm',\n",
       " 'ate good dinner family',\n",
       " 'went shopping',\n",
       " 'phone ordered local online store delivered morning like phone much',\n",
       " 'today morning son exam result came got distinction first grade subject felt happy',\n",
       " 'bought new tv',\n",
       " 'national cricket team test match series morning win sealed position 1 test team world made happy today',\n",
       " 'made bunch extra sale side business last night',\n",
       " 'walked work back partner',\n",
       " 'got promotion today 2 year service job',\n",
       " 'sister long chat happening life right enjoyed reconnecting',\n",
       " 'woke early morning 7 daily 8 30',\n",
       " 'partner buy big cake nice tasty never expect cake partner really love lot cake delicious cold taste different compared cake day went interesting spent time partner went movie fun really miss partner day love spent',\n",
       " 'logged account turk saw pending hit got approved still 100 acceptance',\n",
       " 'slow cooked chuck roast stove came great',\n",
       " 'saw two close friend seen couple month',\n",
       " 'cooked girlfriend wonderful breakfast',\n",
       " 'today morning selected junior engineer leading familiar mobile sale company',\n",
       " 'smile son face make happy everyday today also got',\n",
       " 'happy one day trade gave good profit today',\n",
       " 'took dog long walk beautiful day',\n",
       " 'running around kid husband grabbed told beautiful perfect smart special loved',\n",
       " '3yrs son felt bad kicking said mom sorry kicking wont repeat felt happy age realizes mistake',\n",
       " 'long ago men went sea woman waited standing edge water scanning horizon tiny ship wait henry vanishes unwillingly without warning wait moment wait feel like year eternity husband comedy man moment happy mood baby born moment',\n",
       " 'lost 2 kg weight month long effort put achieve',\n",
       " 'finally learned cook chicken',\n",
       " 'girlfriend told loved hoped marry one day',\n",
       " 'tired work still managed go 12 mile bicycle ride great since knee surgery 2 month ago',\n",
       " 'took girlfriend nice birthday dinner got watch open present really fun evening',\n",
       " 'going running exercising three day break',\n",
       " 'income tax year nice refund coming',\n",
       " 'everyone work pace compare others think better someone else gain unhealthy sense superiority think someone else better end feeling bad youall happier focus progress praise others',\n",
       " 'able 150 push ups today highest done',\n",
       " 'mother gave surprise visit home',\n",
       " 'celebrated anniversary boyfriend',\n",
       " 'booked beach vacation may year',\n",
       " 'long time waiting finally got ticket favourite movie released yesterday first day first show really awesome feeling still could feel way get goosebump relive moment theatre',\n",
       " 'met city mayor given valuable advice development city',\n",
       " 'india series australia made feel happy',\n",
       " 'finished painting granddaughter bedroom',\n",
       " 'taking gym due illness able wake early complete normal squat workout weight done prior break',\n",
       " 'last night sister born baby got new relation uncle happiest moment',\n",
       " 'got new phone great never phone',\n",
       " 'son result today got good scored 99 school happy see result',\n",
       " 'got travel visa tourist 3 month australia',\n",
       " 'hi thing made happy finished task office got appreciation team leader work done yesterday moment made happy past 24 hour yesterday performed well first time got team topper position moment made happy',\n",
       " 'could 108 suryanamaskars 40 min would otherwise take 60 min',\n",
       " 'know sleep help body recover day repair help u focus productive turn itas also important happiness commute office surprisingly powerful impact happiness',\n",
       " 'went sport club running exercise feel fresh happy',\n",
       " 'got engaged parent support',\n",
       " 'found poet really love lot twitter',\n",
       " 'hardly traffic way work morning',\n",
       " 'got happy task mechanical turk got reward point made feel happy last 24 hour',\n",
       " 'seeing friend able catch filled joy',\n",
       " 'came office right time',\n",
       " 'family went wildlife park beautiful',\n",
       " 'day got degree industrial engineering',\n",
       " 'frankly constipated past 2 day able defecate today bowel got cleared moment really make feel happy bowel feel well moment make feel happy really',\n",
       " 'read great book motivation attitude',\n",
       " 'cricket match played really well',\n",
       " 'one happy moment happened past 24 hour would went back work today first time 4 year',\n",
       " 'woke early morning witnessed beautiful sunrise',\n",
       " 'taking nice warm shower really good relaxing',\n",
       " 'went vacation native place parent sibling great feel family ate lot family fun',\n",
       " 'saw rainbow made feel happy since never seen rainbow reality',\n",
       " 'saw dad went office popular among staff many people know thing make happy dad',\n",
       " 'yesterday night went movie family great fun spending time together',\n",
       " 'went office hour one professor realized caring professor mentor ever',\n",
       " 'lady member family went lunch seven star hotel n much fun lady go together n gossip',\n",
       " 'made quite progress old rusty workbench restoring moment new paint look like new',\n",
       " 'wife came home work shared steak dinner together bottle wine',\n",
       " 'julia good girl last night lunge trying hard asked without getting panicky throwing resulting wobble',\n",
       " 'son went football match friend came home happy team match seeing happy felt happy',\n",
       " 'morning 2 year daughter apply ointment severe headache',\n",
       " 'getting errand done completed',\n",
       " 'gathering old friend school',\n",
       " 'today happier usual ate veggie put plate usually leave leaf plate today',\n",
       " 'able beat record bench press',\n",
       " 'summer holiday began kid happy',\n",
       " 'second essay two part series journey visit taj mahal read first part whole story gra uttar pradesh india soon train agra leaf delhi find confused iam lying reserved upper berth though train car bed arenat used almost passenger sitting lower seat feel ridiculous like iam emperor train car overseeing rest passenger meanwhile men pas offering mysterious vegetarian curry industrial sized bucket motion one serve paper plate try pay food wonat accept money first time iave gotten anything free india conclude food going kill iam eating train make stop passenger disembark conductor make announcement canat see trainas tiny lower window upper bunk idea ai agra ask man sitting ask nicely possible attempt avoid appearing self righteous train car emperor shouting question serf remember taj mahal builder mughal emperor shah jahan overthrown son soon taj mahalas completion man shake head hindi think tell still long ride agra another man walk selling non vegetarian food foil tin first shot intestinal war already fired result free bucket food decline train chug toward agra stopping station along way find continuously recruiting new serf keep track time iam halfway journey eighteen year old kid two indian soldier young woman none speak english trying assist itas easy accidentally aggregate helper train mercifully indian tend especially protective clueless westerner trying make sense indian public transportation one point two indian soldier demand teenager move foot resting berth young woman make food recommendation bucket whisk theyare kind like four train fairy godmother soon fall asleep suddenly awake sound four indian chanting aagra agra unison abruptly end time train car emperor jump bed thank four catch taxi agra guesthouse leaf arrange taxi driver pick 6 next morning take taj mahal morning tell driver take east gate taj mahal promptly take roundabout near west gate instead though aeast gate announcement upon arrival quite convincing indiaas perpetually dishonest taxi driver always ulterior sometimes mysterious motif case trying save gas taking gate closer hotel according lonely planet possibly collect kickback camel rickshaw driver sitting near west gate waiting take tourist tajas ticket office donat bother argue since thereas much time sunrise walk quickly entrance standing line twenty mostly indian tourist iam surprised see lack westerner imagined every white person india would flocking taj mahal finally door open catch first glimpse building considered beautiful world one whose creator boasted made athe sun moon shed tear eye see famous white marble dome peeking arch great gate tourist hold camera high head get first snapshot walk deliberately toward around taj soaking dawn slowly taking photo every possible angle handful photographer gather front adjacent taj mahal mosque capture sun rise behind everyone reverent taking care interfere othersa photograph offering help take posed picture moment perfect photographer gaggle mist blanket yamuna river behind structure building look like risen spontaneously clouded heaven concrete manifestation nirvana simple presence taj built symbol eternal love emperor jahan memory third wife died childbirth seems encourage even rabid photographer cooperate spend almost two hour touring photographing taj walking around wall admiring calligraphy entrance arch gazing minaret touching intricate lattice screen mausoleum interior iam finished taking final classic taj mahal reflection pool photograph outside beautiful young blond woman performing playful provocative pose friend camera catch eye soon string indian men indian family start interrupting ask pose souvenir photo athe indian tourist seem interested white skin blond hair white marble taj mahal say aiam pretty sure lot indian guy leaving picture taj chuckle introduces sophie france quickly weare trading funny story travel india like immediately find chatting front tajas reflection pool half hour indian men gawk u sophie realize weare headed opposite direction toward amritsar northern india toward kerala southern india share awkward moment realize one meeting entire life well truly pleasure hank say eye hold mine long moment doesnat look away canat tell whether sheas staring exquisite reflection taj mahal pool behind walk past front rising sun glance back one last time smile shift gaze toward world beautiful symbol eternal love',\n",
       " 'father bought bicycle',\n",
       " 'cracked interview ibm made feel happy like never',\n",
       " 'flew one rc model plane around yard able maneuver around tree yard power line side road sometimes minor crash due confined space often able fly nice long flight without incident one time super fun',\n",
       " 'went home given ice cream family pack family particularly hand son creates joyful moment',\n",
       " 'son came home said study word wanted bond working together',\n",
       " 'went grocery store buy cooked whole chicken deli found half price day',\n",
       " 'went movie friend popcorn coke fun',\n",
       " 'neice nephew gave hug kiss today morning',\n",
       " 'laughed english class silliness last period',\n",
       " 'today 10 00 got driving license 2 wheeler 4 wheeler since last week waiting driving license',\n",
       " 'completed flashcard upcoming test',\n",
       " 'little thing went gym today squat leg lift power cage open afternoon',\n",
       " 'daughter good big test school',\n",
       " 'able sleep longer usual',\n",
       " 'yesterday solved big issue related family',\n",
       " 'past 24 hour talked friend call often',\n",
       " 'long talk son life far away fro always good conversation',\n",
       " 'finally mastered make crispy tofu',\n",
       " '3 long week deep snow covered ground finally enough warm day northeast snow melt able start day fantastic hike appalachian trail run nearby home felt though entire life suddenly came back balance held back week due enormous amount snowfall',\n",
       " 'working principal applied post ceo today morning received confirmed notification mail happy whatever expected gave everything post thanks remembering incident',\n",
       " 'got bonus work creative idea came enhance safety buy something nice',\n",
       " 'husband say love u woke morning',\n",
       " 'run run run run finally catch bus disappearing form eye make feel nice',\n",
       " 'left key motor cycle searched half hour neighbor house uncle came gave key happy',\n",
       " 'able get xbox game',\n",
       " 'saw girl loved much mui ne bay face loved missed much',\n",
       " 'riding home sunny cool afternoon along riverside path',\n",
       " 'got promoted senior manager yesterday happy',\n",
       " 'met college friend today good time together enough time chatting went favourite destination cream centre explored delicious taste ice cream',\n",
       " 'took time played pet rabbit',\n",
       " 'husband told love morning',\n",
       " 'oldest dog suffers congestive heart failure seemed feeling much better today felt quite relieved',\n",
       " '1 super good mail day yesterday received lot item ordered amazon',\n",
       " 'family went watch film',\n",
       " 'ate peanut butter m watching john oliver delicious hilarious',\n",
       " 'day morning trained neighbor child run cycle enjoyed lot',\n",
       " 'went dinner friend enjoyed lot',\n",
       " 'able play video game enjoy quite bit made relaxed happy',\n",
       " 'run 6 mile feeling great',\n",
       " 'got pet gift parent',\n",
       " 'intimate relation wonderful person love',\n",
       " 'sore throat cleared',\n",
       " 'got see girlfriend help celebrate birthday',\n",
       " 'brought new mobile day morning',\n",
       " 'enjoyed play soccer brother',\n",
       " 'went power walking local mall many walker smiled waved',\n",
       " 'happy moment granddaughter gave big hug kind girl give hug lot got hug wonderful',\n",
       " 'past 24 hour made happy mother day card 7 year old son written kindest sweetest note surrounded beautiful drawing',\n",
       " 'went long run trail near house',\n",
       " 'came home work dog wagging tail previously convinced hurt yesterday wagging',\n",
       " 'got engaged lover yesterday',\n",
       " 'able full hour research topic nagging',\n",
       " 'playing rock band family',\n",
       " 'wife celebrating ten year anniversary today',\n",
       " 'happy daughter called across country',\n",
       " 'daughter came first sport race feeling proud',\n",
       " 'well yesterday started early waking 5 mturk task woke find got unexpected bonus someone hardly scraping disability check small side job dont pay enough cover bill even 75 cent bonus help honestly nice see work helping',\n",
       " '2 month bought new tcl 32 inch led tv look cool really loved',\n",
       " 'solving engineering mechanic problem made happy',\n",
       " 'went lunch girlfriend family',\n",
       " 'took dog walk around local park almost 70 degree beautiful day',\n",
       " 'woke took care daughter smiley first thing morning amazing seeing smile',\n",
       " 'happy realized biggest concern sang drinking',\n",
       " 'got train station pulled able get seat',\n",
       " 'wife told despite lost overtime hour happy around',\n",
       " 'went support cousin product launch last night happy proud watch shine',\n",
       " 'went park son work yesterday',\n",
       " 'turbo kick class full last night',\n",
       " 'able successfully assist friend job search setting interview',\n",
       " 'cooked new recipe dinner turned great',\n",
       " 'spending time daughter good friend service last night',\n",
       " 'met buddy drink dinner last night great able hang watch hockey',\n",
       " 'played new game fun got enjoy mechanic',\n",
       " 'happy family brings beautiful gift',\n",
       " 'husband passed dot physical worry anymore',\n",
       " 'weather warm gorgeous first time long time loving',\n",
       " 'great lunch daughter grandchild enjoyed time together',\n",
       " 'met old time friend',\n",
       " 'weighed morning found weight thought',\n",
       " 'met childhood friend 10 year',\n",
       " 'go hotel party mom birthday',\n",
       " 'child kissing goodnight',\n",
       " 'girlfriend surprised favorite dinner taco',\n",
       " 'get come home earlier bos vacation',\n",
       " 'went restaurant family member',\n",
       " 'playing kitten',\n",
       " 'great way sum feeling happiness itas everything feel like itas clicking itas sync part equation break start lose handle happy feeling thatas itas important always speak true feeling act according way feeling inside',\n",
       " 'able resist drink last night',\n",
       " 'cooked food mother law liked',\n",
       " 'dinner family dad getting sick',\n",
       " 'hot chat dating partner make feel sexy',\n",
       " 'finally tricked dog letting give bath sweet smelling puppy best',\n",
       " 'talked old friend',\n",
       " 'seen parent filled tear receiving phone call huge amount happiness word explain',\n",
       " 'deal annoying customer work morning happens blue moon',\n",
       " 'mucha salade perigourdine full goody glass nice red wine personal ai assistant writing better email happiest moment last 24 hour reunited best mate luke took 2',\n",
       " 'finally completed project enthusiastically',\n",
       " 'got job interview dream job',\n",
       " 'mother law offered money could buy yogurt afford buy',\n",
       " 'friend came visited work talked minute',\n",
       " 'mobile home park manager called said coming morning fix leaky swamp cooler finally',\n",
       " 'finally decorated son room birthday',\n",
       " 'cooked entire breakfast family',\n",
       " 'went local gym lift weight cardio shower afterwards refreshing',\n",
       " 'rain stopped beautiful sunlight appeared went walk took photograph',\n",
       " 'application adopt cat came',\n",
       " 'taking dog walk conversation stranger',\n",
       " 'traveled family went beautiful beach enjoyed attraction area entertainer everywhere lot people gathering music band partying pleasant experience hope return anytime soon',\n",
       " 'son gave big hug morning woke',\n",
       " 'brother got interview job applied likely get hired',\n",
       " 'offsite colleague great fun stimulating discussion',\n",
       " 'older daughter keep telling want go bathroom',\n",
       " 'weather sultry place ac unit damaged rodent electrician came earlier today repaired thank god need sweat today',\n",
       " 'celebrated 7th wedding anniversary wife',\n",
       " 'met weight loss goal bet easy',\n",
       " 'went walking morning',\n",
       " 'wife wear favorite saree office meeting',\n",
       " 'spoke ex wife phone made plan see son thursday',\n",
       " 'purchased product wanted fifty percent retail price',\n",
       " 'got promotion',\n",
       " 'anything else daughter birthday turned 9 special day made day special',\n",
       " 'played tennis friend',\n",
       " 'daughter visited evening',\n",
       " 'wife told passed qualifying exam job promotion',\n",
       " 'garden planted rose plant last month yesterday morning beautiful colorful rose flourished made happy',\n",
       " 'delicious lunch',\n",
       " 'two wheeler running found issue front tyre managed made happy',\n",
       " 'really good carbonara chicken dinner',\n",
       " 'cleaned bathroom tile look nice shiny',\n",
       " 'brought new game system today',\n",
       " 'made dinner boyfriend complimented felt happy compliment able make happy',\n",
       " 'measured weight found 1 pound lesser earlier day',\n",
       " 'today morning went shopping time seen one accident unforgettable small boy crossing road time one man ride cycle fast kick boy cycle unfortunately boy fell get wound leg hand shouted lot cry went closer boy took hospital return safe home',\n",
       " 'received call new client ready pay usual simple design',\n",
       " 'doubled daily goal mturk reward short amount time',\n",
       " 'smoked bowl marijuana',\n",
       " 'able eat dinner one best friend',\n",
       " 'appointment order given surprised salary doubled getting',\n",
       " 'yesterday son want ride bike move got happy',\n",
       " 'buying medicine regular pharmacy store came know unused point old purchase pay anything medicine bought',\n",
       " 'found tool looking long time',\n",
       " 'daughter said donald duck first time said daisy',\n",
       " 'happy yummy mango year today',\n",
       " 'always think night song moment song feel much know eye eagle slope mountain wave understanding influence moon tree read memory leaf insignificant pedestrian street crazy city watching watching watching',\n",
       " 'kid got promoted next class',\n",
       " 'completed long time pending project',\n",
       " 'received enough funding start research project abroad summer',\n",
       " 'play competitive game online able get top score among friend also play usually get somewhere top 5 score',\n",
       " 'finally went run worked felt great taking care body',\n",
       " 'nice conversation wife neighbour rarely speaks seems nice',\n",
       " 'spoke college friend angie 30 minute first time since last summer',\n",
       " 'home extension within wall abode shape mood affect productivity influence outlook life scientific study shown impact happiness adjusting tiny little habit routine constitute daily life fact control outlook life',\n",
       " 'lot favorite show updated recently able watch today',\n",
       " 'able leave early office amazing evening mother wife',\n",
       " 'ate really good chinese food',\n",
       " 'paid bill money usual left transfer saving',\n",
       " 'long debate finally convinced parent buy new laptop today promised also bought new one happy satisfied',\n",
       " 'get back home wife make good food like',\n",
       " 'friend gifted ring paper selected national conference',\n",
       " 'took shower wife',\n",
       " 'able go grocery store saved money buying impulse item alcohol trying stay away',\n",
       " 'today early morning bos call surprised bos say got promotion salary increased',\n",
       " 'took walk girlfriend night',\n",
       " 'went movie 9 30 telugu movie favourite hero new movie released awesome movie',\n",
       " 'daughter got rewarded best english speech class',\n",
       " 'next thing made happy got one special offer telecom service reduced package plan moment made happy',\n",
       " 'could finally eat favourite restaurant long time',\n",
       " 'recently became friend really great group people yesterday ordered pizza chinese taco bell sat around talking eating good time talking sister law eating chocolate custard spending time youngest child',\n",
       " 'yesterday evening friend played badminton enjoyed',\n",
       " 'got surprise gift parent',\n",
       " 'husband purchased thing like market',\n",
       " 'got home work girlfriend greeted hug dinner already prepared setup table',\n",
       " 'met childhood friend long time got hug moment wonderful',\n",
       " 'able celebrate father birthday treating dinner able see happy truly made happy',\n",
       " 'ride bike speed 100 km per hour',\n",
       " 'cleaned kitchen feel great',\n",
       " 'find new job',\n",
       " 'ordered product amazon got delivered today moment make feel happy',\n",
       " 'story advice got reading',\n",
       " 'puzzle game website requires fast reflex',\n",
       " 'another happy moment happened past 24 hour one year old daughter took step morning',\n",
       " 'woke young daughter morning school insisted would make breakfast consisted coffee toast',\n",
       " 'reading comic book whilst drinking cocoa drink',\n",
       " 'offsite colleague great fun enjoyed perfect weather enjoyed watching sunset porch',\n",
       " 'completed work target bos appreciated good work moment felt happiness',\n",
       " 'eat sugar candy party long reminds childhood',\n",
       " 'today got bonus amount 10 dollar requester mturk',\n",
       " 'went get sushi high school friend like small reunion',\n",
       " 'early morning got many message n wish friend n family member new year today felt loved everyone',\n",
       " 'joked around mum got home work made happy turn made happy well',\n",
       " 'wife shared pleasure u happy',\n",
       " 'watching field full horse work mad happy hon getting stunning recall little dogleg',\n",
       " 'returning home work helped old couple reach destination blessed u made happy',\n",
       " 'received call letter university job',\n",
       " 'spending time parent',\n",
       " 'online game get new event give many diamond',\n",
       " 'worked back biceps',\n",
       " 'got finish tv series watching mom',\n",
       " 'got offer pizza nearby hotel happy',\n",
       " 'sunset time sun go night begin sunset nature assumes fresh bright charming sun seems disc gold time sunset one enjoy serenity sunset nature seems hurry people finish work return home bird return nest cowboy become busy returning home cattle sun set nature look beautiful nature start getting dark slight darkness sunset creates feeling joy tranquility u beauty sunset help poet generate idea compose poem',\n",
       " 'celebrated birthday friend',\n",
       " 'got respect friend social welfare thing',\n",
       " 'got early daylight went outside fly one rc quadcopters equipped led light light make easy see orient quadcopter still somewhat difficult see tree obstruction yard able fly 10 minute around yard home neighbor yard permission flying total darkness challenging super fun',\n",
       " 'given aadhar card update poor man minimum cost moment felt happy',\n",
       " 'found new community moving pond kayak launch',\n",
       " 'extra memory purchased computer arrived today easy install',\n",
       " 'husband bought favourite sweet really made happy',\n",
       " 'finally got driver license',\n",
       " 'really good rehearsal friday night play',\n",
       " 'today afternoon 2 00 p husband suddenly planned vacation tour booked ticket whole trip expect husband',\n",
       " 'made tasty chocolate pudding every one enjoyed',\n",
       " 'payday everyday payday happy day able finally pay last remaining balance birth twin',\n",
       " 'husband made favorite food dinner',\n",
       " 'level game',\n",
       " 'happy solving major issue',\n",
       " 'watched series movie',\n",
       " 'one last azalea bloom came today happy see flower killed late frost week back',\n",
       " 'got offer help photographer friend shoot cub season opener game',\n",
       " 'able find time go hair cut something putting month look great',\n",
       " 'met old friend studying 20 year back link unexpectedly met airport surprise later remembered childhood day present life',\n",
       " 'got computer fixed finally get back thing need get done',\n",
       " 'participated ugadi food festival office',\n",
       " 'done job planned pleased',\n",
       " 'wrote mba assignment sent study center courier saw 3 paper inserted phoned courier office told send cover went kept paper time really happy',\n",
       " 'got new iphone 7 plus product red',\n",
       " 'basketball medal team leader mvp match',\n",
       " 'triathlon gear waiting arrived last pleasing positive resolution seller pleased purchase fit performs really well',\n",
       " 'friend thrown surprise party promotion yesterday happy',\n",
       " 'friend went favourite amusement park end street great time went amazing ride elated ecstasy',\n",
       " 'finally finished new york time crossword working',\n",
       " 'friend called tell possible job opening field',\n",
       " 'mechanic contacted repair truck much le expensive anticipated',\n",
       " 'able stay 700 calorie yesterday continue fast eat friend weekend',\n",
       " 'hole family dinner',\n",
       " 'played dog outside sunny fun',\n",
       " 'last night went hotel dinner girl friend',\n",
       " 'got gift brother without reason',\n",
       " 'able go workout coworker mine prepped day made happy',\n",
       " 'managed earn 100 dollar one hour work',\n",
       " 'day make breakfast parent',\n",
       " 'felt baby move belly first time',\n",
       " 'got positive comment work',\n",
       " 'able run outside complete 5k new record time nice weather feel like spring',\n",
       " 'yesterday received message got promoted manager company',\n",
       " 'love watching sunset beach',\n",
       " 'went costco daughter buy anything',\n",
       " 'driving home house saw beautiful sunset',\n",
       " 'sitting outside drinking cup tea sunshine surrounded recently bloomed tulip',\n",
       " 'eating lunch mom dad',\n",
       " 'someone need retire work breathing heavily like lung going quit lazy worker want leave',\n",
       " 'brought dress parent day',\n",
       " 'able hit earnings goal day thought originally high',\n",
       " 'got extra sleep last night',\n",
       " 'mother called blue tell proud',\n",
       " 'happy lunch husband',\n",
       " 'maid cooked delicious meal today family',\n",
       " 'like said wake early get started mturk yesterday morning daughter stoped got coffee morning nice much needed',\n",
       " '2 month bought new tcl 32 inch led tv look cool really loved',\n",
       " 'playing cricket friend',\n",
       " 'found bag thought lost',\n",
       " 'watched kid playing together fighting',\n",
       " 'made delicious homemade pad thai husband happy eat give many compliment',\n",
       " 'bet 50 morning',\n",
       " 'job provided lunch really good',\n",
       " 'ran longest duration far',\n",
       " 'made chappati first time turned amazing',\n",
       " 'cooked dinner son made meatball',\n",
       " '6 year old came sat lap watched tv',\n",
       " 'made delicious meal using fresh ingredient without go grocery store',\n",
       " 'passed evaluation work flying color',\n",
       " 'service looking forward attending ended great time 4 friend daughter',\n",
       " 'really happy find friend mine getting married even asked wedding',\n",
       " 'listened music heard entire album heard',\n",
       " 'happy got new incentive hardworking work',\n",
       " 'went bible study tonight special need friend',\n",
       " 'fiance found old magic gathering card brother going throw brought home',\n",
       " 'made vacation plan daughter today florida july',\n",
       " 'ate favorite dinner',\n",
       " 'difficult dog hardly ever listens finally decided come today called',\n",
       " 'mother prepared special biriyani friend',\n",
       " 'go theatre make happy family',\n",
       " 'husband kissing hello',\n",
       " 'played tug war new dog leo',\n",
       " 'shared big breakfast boyfriend',\n",
       " 'got bonus work getting regularly',\n",
       " 'got email old friend',\n",
       " 'may take long youare headed positive direction world good going internal system guidance sure way feel le perfectly happy always strive lining three aspect happy life',\n",
       " 'mother recovering weakness chemotherapy cycle',\n",
       " 'brought gift sibling',\n",
       " 'watched new episode show like',\n",
       " 'good win sport team',\n",
       " 'managed get eight minute mile pace kind awesome',\n",
       " 'bought new wallet looking',\n",
       " 'car loan cleared yesterday happy',\n",
       " 'got test barely studied',\n",
       " 'might think would money power fame well think positive psychology guru martin seligman studied happiness found characteristic happy people rate come feeling happy',\n",
       " 'become leader great squad achieved highest rank',\n",
       " 'gt exam',\n",
       " 'thinking dream life death reflection made feel complete peace',\n",
       " 'got new underwear mail purchased online',\n",
       " 'pen pal vermont called unexpectedly friend 30 year hope meet person day',\n",
       " 'enjoyed dinner brother family garden restaurant yesterday',\n",
       " 'beat final bos dark soul',\n",
       " 'drove around town run errand much traffic spring break',\n",
       " 'cat sick yesterday ate food scampered around apartment',\n",
       " 'husband got promoted job making money',\n",
       " 'meeting girlfriend park talking',\n",
       " 'family went travel nearby beach saw beautiful performance pyro dancer first time encountered talent really impressive say anything performance petrified awe saw could move scenario even performance ended could help think thought time would see performance visit place hopefully come across specific performer',\n",
       " 'offsite colleague great fun stimulating discussion',\n",
       " 'computer hard drive failure got finally repaired',\n",
       " 'son gave big hug morning woke',\n",
       " 'younger daughter lift head',\n",
       " 'struggling relocate wardrobe near window husband without knowledge back dropping kid school',\n",
       " 'worked able keep entire tape',\n",
       " 'completed office work went nice brunch parter',\n",
       " 'enjoyed watch soccer',\n",
       " 'offsite colleague great fun stimulating discussion',\n",
       " 'received message seemingly charming lady plenty fish dating app',\n",
       " 'found something lost week',\n",
       " 'bought new phone',\n",
       " 'got see good old friend came daughter birthday',\n",
       " 'finished work earlier usually',\n",
       " 'went park',\n",
       " 'able reach target weight today 85kg need lose still happy',\n",
       " 'last evening office got gift containing tour package including family success project felt surprise happy',\n",
       " 'went gym',\n",
       " 'made tea morning ginger wife liked much made happy',\n",
       " 'found great deal samsonite backpack',\n",
       " 'talked mother phone half hour',\n",
       " 'went co worker celebrate promotion',\n",
       " 'picked cat turned arm seemed hug back purring happy happy',\n",
       " 'bought new shirt',\n",
       " 'eagerly waiting see friend engagement function really cute beautiful happy engagement loved one friend character really good adjustable partner also kind humble made loved long year living together relationship understand well get soon get married',\n",
       " 'went movie without much expectation turned one best movie seen',\n",
       " 'rain stopped able take long walk dog daybreak',\n",
       " 'met group people seen almost half year',\n",
       " 'able play favorite game 3 hour',\n",
       " 'lunch time lovely wife gave special hug sweet kiss',\n",
       " 'went son school open house yesterday teacher told positively made happy',\n",
       " 'india cricket test match australia today',\n",
       " 'great dinner baked chicken hominy bread salad',\n",
       " 'mom took u dinner ate shrimp chimichanga',\n",
       " 'went ride enfield bullet morning weather husband awesome',\n",
       " 'formative year company employed foreign expert improve production management foresight establish r department even though product range small',\n",
       " 'long time best friend came visit family many year',\n",
       " 'replaced television home',\n",
       " 'found going start new highly potent new medication ibs believe could finally provide relief',\n",
       " 'former manager extended sick leave due injury came back work yesterday first manager got current job mentored',\n",
       " 'played guitar first time really satisfying make music',\n",
       " 'good dinner nice restaurant coworkers',\n",
       " 'take kid school today first day spring break',\n",
       " 'one reason experience memory experience make u happier material thing due entire cycle enjoyment experience provide planning experience looking forward experience enjoying experience remembering experience make home gallery positive memory',\n",
       " 'lunch friend seen awhile',\n",
       " 'watched favorite movie wife late night',\n",
       " 'finally got job interview',\n",
       " 'spent time relaxing husband watching television',\n",
       " 'today travelling bus met stranger long talk man met equal 100 book amazed many fact experience life also gave many life hack deal many day day problem glad new friend today',\n",
       " 'claim back 95 insurance money insurance company',\n",
       " 'got appreciation academic performance head mechanical department',\n",
       " 'made love wife',\n",
       " 'finally able complete several small task work list awhile always superseded task',\n",
       " 'last night father give gift bike special also happiest moment',\n",
       " 'saw dig work',\n",
       " 'cousin came native see son staying london today came home happy see house',\n",
       " 'cousin brother got engaged love 3 year',\n",
       " 'third thing made happy got one credit card offer increased reward point purchase also offered free movie ticket exclusively credit card make happy',\n",
       " 'could help rescue one puppy suffering street seeing since one month gave inner peace happiness',\n",
       " 'failed programming class last 24 hour started completed basic python big achievement really happy moment went get bed noticed daughter tucked picture drew saying bedtime surprise super sweet made day',\n",
       " 'got challenging work bos',\n",
       " 'got huge amount gift friend engagement gift',\n",
       " 'son sang song',\n",
       " 'brother called night check',\n",
       " 'got offer avail loan bank low interest rate made happy',\n",
       " 'completed goal 30 bicep curl gym working couple week able accomplish easily today',\n",
       " 'ate favourite food item lunch',\n",
       " 'husband made delicious breakfast',\n",
       " 'best friend birthday',\n",
       " 'running business got order normal moment make feel happy',\n",
       " 'feeling motivation moving right direction know',\n",
       " 'dinner family went new restaurant nearby',\n",
       " 'one thing made happy past 24 hour would almost three year old son gave kiss cheek told love',\n",
       " 'due cooler weather afternoon finally managed prune tree garden',\n",
       " 'got wanted seat cinema made watching movie experience whole lot better',\n",
       " 'met old friend 5 year talk half day played football like old day',\n",
       " 'usually play game got struck level yesterday completed level made happy',\n",
       " 'today make eye contact crush also look eye second two still memorize beautiful eye',\n",
       " 'drizzling morning went walk love weather',\n",
       " 'took mom small hill lake elsinore filled lot flower',\n",
       " 'last night sister got new car went drive new car',\n",
       " 'managed 30 one legged squat right leg weaker left process leveling happy progress',\n",
       " 'finally got tax completed feel happiness relief done',\n",
       " 'lol vix made giggle mine horse ultra soppy today grooming brushed good boy one buck today yesterday riding',\n",
       " 'little one 13 month old waiting first step took first step yesterday seeing felt happy',\n",
       " 'play along daughter friend',\n",
       " 'good nap',\n",
       " 'holiday sunday im happy',\n",
       " 'drank 6 12 ounce glass water',\n",
       " 'finished paper college class',\n",
       " 'made cake tasty everyone home enjoyed',\n",
       " 'morning walk good exercise early riser regular morning walker benefit morning walk manifold early morning everything look fresh fair atmosphere remains pleasant calm morning walker breathes pollution free air enjoys lovely sight sound nature soothes soul regular morning walk keep one fit help form sound health science say morning walk control blood pressure lessens stress strain energizes one work zealously day live fast life work round clock hardly time care health habit morning walk formed right early day sure sound body sound mind besides health benefit extremely delightful experience take walk early morning',\n",
       " 'went temple parent',\n",
       " 'finally succeed making tomato soup',\n",
       " 'took small 5 refractor telescope yard look star planet able view jupiter 4 moon surrounding planet though would love much larger telescope one performs well short focal length eyepiece view jupiter nice indeed',\n",
       " 'given r 100 donation expense temple fund happy',\n",
       " 'daughter told best cook',\n",
       " 'dinner able enjoy quiet moment porch coffee cigar',\n",
       " 'long time today cousin came home surprisingly made day',\n",
       " 'enjoyed meditation shaolin temple nearby',\n",
       " 'nice conversation good friend work',\n",
       " 'went birthday party son friend today 11 30 talked friend mother openly chatted happily nice lunch party got new friend son enjoyed lot',\n",
       " 'managed throw item cluttering room enjoyed space',\n",
       " 'son great soccer practice really coming along learning new skill well really learning control body',\n",
       " 'bought brand new dress look beautiful',\n",
       " 'got book movie ticket',\n",
       " 'elder blessed daring powerful gut',\n",
       " 'live tweeted group fan',\n",
       " 'able fit back pair jean able wear year',\n",
       " 'warm enough drive car window open',\n",
       " 'good friend informed dave chappelle 2 stand comedy act released netflix ended evening yesterday huge grin face',\n",
       " 'spouse underwent cancer medical treatment major scanning doctor said nothing worry perfectly good take home happy',\n",
       " 'got get together people church help retirement home always good feeling help people',\n",
       " 'log walk friend heavy lunch',\n",
       " 'came home 4 year son hug waiting',\n",
       " 'got r 500 cash gift quiz participated three month useful correct time felt happy',\n",
       " 'seeing friend seen long time',\n",
       " 'day saw working coffe house beautiful',\n",
       " 'finished reading crime novel john harvey think would read rest last night got hooked towards end',\n",
       " 'finally purchased dream house yesterday feeling happy',\n",
       " 'friend went favourite restaurant ate special dish went astonished taste delicacy',\n",
       " 'spent time kitchen making chicken soup',\n",
       " 'cooked tasty dinner leftover',\n",
       " 'called sister wish happy birthday nice telephone chat',\n",
       " 'weather starting warm super happy',\n",
       " 'enjoyed week end family',\n",
       " 'colored adult coloring book watching netflix relaxing enjoyable',\n",
       " 'day morning joined gim',\n",
       " 'met school friend enjoyed lot',\n",
       " 'able play outside child weather nice made happy',\n",
       " 'got wet spring rain',\n",
       " 'day went cinema girlfriend',\n",
       " 'satisfied many food craving dinner',\n",
       " 'meeting older friend seen',\n",
       " 'got ticket see favorite movie playing right even though sold currently',\n",
       " 'went temple parent',\n",
       " 'went run neighborhood enjoyed perfect weather',\n",
       " 'watched bates motel favorite television show',\n",
       " 'son took eat nice restaurant',\n",
       " 'walking first morning light dog sun creeping behind rush bird full song',\n",
       " 'watching new episode favorite television show',\n",
       " 'made delicious meal',\n",
       " 'received lottery amount 5000 today',\n",
       " 'talked mom phone amazing call',\n",
       " 'cat snuggled leg sleeping',\n",
       " 'today took day part time job go brunch date wonderful wife',\n",
       " 'happy made sale business',\n",
       " 'rained today made surroundings beautiful',\n",
       " 'finished mturk work bit early since weather nice went worked pile firewood yard smaller piece good stacking tossed grill fired right smoked chicken turned amazing',\n",
       " '2 month bought new tcl 32 inch led tv look cool really loved',\n",
       " 'getting approval coffee girl crush',\n",
       " 'bakery gave extra pastry end day',\n",
       " 'went shopping local thrift store found great deal two chair',\n",
       " 'watched always sunny philadelphia show always make laugh happy',\n",
       " 'accomplished errand day spare time relax',\n",
       " 'started new project work something really interesting seems like fun work',\n",
       " 'spent time friend creative endeavor',\n",
       " 'husband cuddled watched movie together',\n",
       " 'got talk mother phone last night spoke needed',\n",
       " 'pork cooked dinner last night turned well worried',\n",
       " 'able go bed early accomplishing chore earlier anticipated',\n",
       " 'got unexpected call daughter nyc',\n",
       " 'four daycare kid give hug goodnight laid nap',\n",
       " 'happy come work find huge project canceled big relief',\n",
       " 'hanging friend',\n",
       " 'able walk dog around neighborhood fun see flower people planting',\n",
       " 'wonderful meal girl',\n",
       " 'enjoying key lime yogurt morning breakfast',\n",
       " 'completed fitness goal morning set ago run full mile going work',\n",
       " 'walking home work saw family park walked past joined',\n",
       " 'happy return home russia morning',\n",
       " 'mowed lawn yesterday make happy outside working',\n",
       " 'old friend renee invited dinner',\n",
       " 'sitting porch rocking chair holding little girl son came spontaneously hugged u',\n",
       " 'got accepted college applied',\n",
       " 'getting work particularly busy night made happy',\n",
       " 'happy wife work friend came visit',\n",
       " 'one thing made happy past 24 hour spending quality time girlfriend',\n",
       " 'shopping made happy',\n",
       " 'went meeting peruvian dance friend',\n",
       " 'snuggling dog give stinky breath kiss',\n",
       " 'found ordered book online like lot',\n",
       " 'went walk great talk random stranger morning',\n",
       " 'one student told pretty',\n",
       " 'received birthday gift mail good friend mine',\n",
       " 'suffering fairly severe constipation last week experienced relief morning',\n",
       " 'talked girlfriend recently told loved',\n",
       " 'finally chance talk thing really bothering good friend',\n",
       " 'made happy getting lunch felt fulfilling even burger fry',\n",
       " 'enough time make doro wat chicken store berbere sauce great',\n",
       " 'neighbor came see completion project gave many positive compliment made happy',\n",
       " 'finally able order thing saving past month',\n",
       " 'able make older woman day grocery store',\n",
       " 'able find good batch mechanical turk hit',\n",
       " 'able go restaurant like',\n",
       " 'started watching black mirror good',\n",
       " 'shoveling neighbor driveway couple week back surprised ordering pizza dinner',\n",
       " 'got take patient floor hospital never',\n",
       " 'daughter helped clean kitchen without asked',\n",
       " 'watched 6 hour training dvd zbrush',\n",
       " 'really tough workout morning managed complete running incredibly quickly',\n",
       " 'great cup coffee woke',\n",
       " 'daughter smiling first woke saw face',\n",
       " 'looked time realized half hour got work',\n",
       " 'finally enough money amazon payment account buy vertical smoker wanting',\n",
       " 'went grocery shopping purchase food cook wife',\n",
       " 'went see get wife',\n",
       " 'played cat licked face hour',\n",
       " 'woke wife giving huge hug smile',\n",
       " 'got really excited periodically thinking upcoming weekend plan husband going go weekend trip filled new food shopping watching new movie coming ghost shell',\n",
       " 'past 24 hour family saying trust responsible thing made happy',\n",
       " 'went walk early morning air clear crisp',\n",
       " 'wife came home work day',\n",
       " 'talked preacher church fiance wanting get married',\n",
       " 'finished project working hard work',\n",
       " 'cat sat lap purred read book',\n",
       " 'made pizza home wife delicious',\n",
       " 'partner woke give kiss left work',\n",
       " 'diet seems working clothes fit bit looser',\n",
       " '13 year old son excellent job completing science project',\n",
       " 'got home grocery store husband vacuumed floor taken trash without asking',\n",
       " 'enjoyed swimming beach near chennai',\n",
       " 'getting call client confirming purchase order',\n",
       " 'happy run dungeon dragon campaign friend',\n",
       " 'piece richest moist chocolate cake ever',\n",
       " 'went last night friend made awesome drink chocolate syrup bailey irish cream',\n",
       " 'finished caloric logging day calorie counting app provided feedback stating would weigh 2lbs le next week',\n",
       " 'finally able take necessary step start learning japanese finally read first sentence felt really great inside',\n",
       " 'ran two mile fast pace never achieved',\n",
       " 'played grandchild local park happy',\n",
       " 'giant chocolate cup cake',\n",
       " 'happiest last evening painting garden',\n",
       " 'got raise work went evaluation yesterday morning heard back hour ago',\n",
       " 'morning nephew sister law came visit along mother law',\n",
       " 'conversation girl met online today',\n",
       " 'sold motorcycle got 2 thousand dollar lot',\n",
       " 'hung close friend last night dinner drink',\n",
       " 'went 2 hour run made feel great feel getting better shape make feel good',\n",
       " 'checked weight lost 10 pound since started dieting 2 month ago',\n",
       " 'sat outside backyard enjoyed greenery sun shone face',\n",
       " 'went gym today run 30 minute straight',\n",
       " 'wife made chicken soup',\n",
       " 'going gym lunch break made happy',\n",
       " 'beautiful weather outside make happy',\n",
       " 'package arrive door',\n",
       " 'received bonus work',\n",
       " 'ordered dress fitted nicely',\n",
       " 'day work able binge watch tv show interruption',\n",
       " 'saw baby ultrasound monitor',\n",
       " 'last night favorite hockey team played really well playing bad game night',\n",
       " 'visited new park area enjoyed nice walk',\n",
       " 'hit work goal earlier expected could actually quit wanted like hit',\n",
       " 'getting see relative life another state',\n",
       " 'went eat favorite burger joint burger delicious complete bliss',\n",
       " 'able run 5 mile ever done',\n",
       " 'happy went dinner last night friend seen month',\n",
       " 'coffee made incredibly happy',\n",
       " 'son good took play mall even though child',\n",
       " 'best day turk ever yesterday working hard help supplement income start working towards full garden hen house',\n",
       " 'able cell phone service plan significantly reduced caused great deal happiness yesterday',\n",
       " 'art contest today first prize free dvd',\n",
       " 'got go yoga relax hour',\n",
       " 'lottery scratch 10 never win thing time',\n",
       " 'finally cleaned basement',\n",
       " 'got spend time playing board game online girlfriend currently 1600 mile away time spend together treasured valuable',\n",
       " 'woke good night sleep sense satisfaction hit',\n",
       " 'got new laptop awesome',\n",
       " 'reminded love eli manning much honestly talented quarterback forgotten long saw funny gif brought back many happy memory',\n",
       " 'past 24hrs happy amazed bos told entitled 5000 bonus relation new project made perfectly big help wife happy felt fortunate happy life received amount money company first time',\n",
       " 'pleasant conversation girl like',\n",
       " 'strength training 30 minute',\n",
       " 'djed online',\n",
       " 'new bos appreciated work put',\n",
       " 'mowing raking maintaining lawn two oldest child happily helping entire time',\n",
       " 'basketball team game last second',\n",
       " 'happy got home work ate piece tiramisu wife made',\n",
       " 'friend sent funny picture',\n",
       " 'felt really happy work yesterday relaxed worth place lunch break went outside sat padio cold beer vape pen watched youtube phone basking sun 15 minute great felt rejuvenated good mood felt happy',\n",
       " 'bought new pistol took range able shoot good',\n",
       " 'finally received pep boy rebate form 40 prepaid visa card mail promptly used purchase item wanting amazon',\n",
       " 'lunch took long walk around block near office lot sun many car passing',\n",
       " 'went jog',\n",
       " 'went gym able bench press 315 lb',\n",
       " 'feeling warmth sun walked outside dog',\n",
       " 'went friend drink bar',\n",
       " 'went running park work got better shape',\n",
       " 'given nice compliment work',\n",
       " 'made happy started new instagram account uploaded picture show point view',\n",
       " 'youngest daughter called chatted awhile',\n",
       " 'met friend lunch nice time socializing',\n",
       " 'pet cat curled napping made happy close',\n",
       " 'woke exercised half hour happy starting hurt le made brighter beginning day',\n",
       " 'happy going physical therapy morning made feel better later day',\n",
       " 'saw friend seen good reconnect',\n",
       " 'cat snuggled slept',\n",
       " 'begun looking home buy feel hope future',\n",
       " 'within past 24 hour made happy taking long nap stressful day studying',\n",
       " 'ran morning 4 mile usually go 2 mile pushed today see far could go',\n",
       " 'got spend evening husband enjoying company',\n",
       " 'hit goal walking 5 mile day',\n",
       " 'working problem morning found solution problem happy word describe feeling',\n",
       " 'son got cold drink kissed forehead feeling well',\n",
       " 'made goal losing 10 pound',\n",
       " 'went walk around block',\n",
       " 'roommate made breakfast morning',\n",
       " 'wife came home early work got spend extra time together',\n",
       " 'husband kind sweet morning sat talked ate breakfast waited see',\n",
       " 'teen daughter made cup tea last night set next bed',\n",
       " 'went gym really enjoyed awesome workout afterwards',\n",
       " 'boyfriend gone spring break visiting family got back yesterday nice wake next cuddle apart',\n",
       " 'carnival corp reported beat estimate stock going way right bunch invested',\n",
       " 'got eat really delicious noodle mom made',\n",
       " 'bought new laptop',\n",
       " 'friend mine verge cry threw clutched clothes sighed relief held tightly overwhelmed found comfort embrace',\n",
       " 'tried book doctor appointment opening next day',\n",
       " 'talking phone mom morning',\n",
       " 'monday work service day',\n",
       " 'bought new pair headphone',\n",
       " 'adapted stage musical 2008 film theater actor oh man seok debuting director oh also lyricist polished script story center around two guy crazy music one high school music teacher beom jin broken girlfriend eats sadly alone front mirror habit another younger sae ki whose mother left whose father died sudden accident leaving orphan rather dull world thing make two feel alive music offering happy life yoo jun sang im choon gil alternated beom jin kim mu yeol ryan alternated sae ki',\n",
       " 'dinner parent',\n",
       " 'bought jacket admired got great deal',\n",
       " 'girlfriend came cuddled fell asleep',\n",
       " 'found good amount thing watch twitch enjoyed quite lot',\n",
       " 'able make time playing video game gotten around',\n",
       " 'received free sushi coworker',\n",
       " 'last 24 hour husband decided going renew vowel made excited know still love 43 year marriage',\n",
       " 'went watch soccer match stadium fun cheering team',\n",
       " 'watched tv show stepdaughter',\n",
       " 'friend treated nice lunch seafood delicious pay anything',\n",
       " 'woke morning back pain gone away completely',\n",
       " 'happy picked 6 month old daughter first day day care yesterday saw bright beaming smile',\n",
       " 'managed eat calorie goal day felt accomplished',\n",
       " 'got paid monday immediately used money pay long time credit card debt dentist finally free',\n",
       " 'favorite hockey team winning yesterday',\n",
       " 'got finally help mom get new doctor make appointment asking help month know use internet search new doctor kp website',\n",
       " 'receiving high score hard college exam paper',\n",
       " 'received praise bos project completed',\n",
       " 'spouse gave big hug morning',\n",
       " 'watched movie spouse rubbed sore foot',\n",
       " 'enjoyed cup coffee morning',\n",
       " 'watching bob burger streaming fox',\n",
       " 'got ten dollar bonus requester mechanical turk even remember hit',\n",
       " 'got new role project manager team working side job',\n",
       " 'deciding skip gym night spend couple extra hour together girlfriend',\n",
       " 'wildlife center volunteer injured beaver made full recovery able bring back home',\n",
       " 'talked phone girlfriend sick',\n",
       " '4 year old son trying impress mother yesterday dinner asked piece chocolate mini hershey bar put one counter son pointed chocolate bar finger moving across letter said mom say turkey made laugh',\n",
       " 'daughter climbed bed snuggled pretending kitten',\n",
       " 'got relax spend time girlfriend worry anything else',\n",
       " 'went nice evening walk around neighborhood wife',\n",
       " 'got complimented looking buff',\n",
       " 'child got morning received big hug kiss',\n",
       " 'able take 10 minute relax prior starting work made happy focused',\n",
       " 'picked new bedspread bed bedspread hole needed replaced husband happy length width spread',\n",
       " 'talking sister law phone yesterday evening since last time talked really enjoyed reconnecting',\n",
       " 'made money expected mturk',\n",
       " 'managed make next prize level hearthstone tournament mode previous high',\n",
       " 'well videogame playing',\n",
       " 'son eighth birthday four day fun going baby picture old birthday photo',\n",
       " 'poker local bar 600 bought round drink everyone cause felt good still happy event even morning',\n",
       " 'ate nice dinner delicious steak',\n",
       " 'got home work dog greeted kiss wanting pet made happy greeted see happy',\n",
       " 'got done test nervous taking think pretty good',\n",
       " 'lunch mom one favorite spot',\n",
       " 'last night watching movie three friend home place amazing day tired wanted spend time couple hour great divine feeling working hard loved one enjoying moment 3 hour',\n",
       " 'received award excellence teaching university wonderful honor beautiful reception part',\n",
       " 'found wrong internet modem able fix',\n",
       " 'able see doctor receive medicine horrible cold',\n",
       " 'son told loved beautiful face',\n",
       " 'finally repaired problem car needed help managed mostly',\n",
       " 'beautiful garden',\n",
       " 'got puppy saturday make happy cuddle',\n",
       " 'relaxed played mass effect computer',\n",
       " 'fall love girl iall never know sat across starbucks unknowingly stealing breath away yes iall never see hour love',\n",
       " 'helped client learn stretch le pain',\n",
       " 'met 88 year old aunt lunch caught family news',\n",
       " 'employer offered switch part time full time work',\n",
       " 'favorite tv show new episode watched',\n",
       " 'eating sriracha sour cream mashed potato turned exceptionally well',\n",
       " 'went shoot pool friend game',\n",
       " 'got 21 bonus mturk task',\n",
       " 'able master song practiced instrument',\n",
       " 'went bouldering gym good friend',\n",
       " 'managed 20 pushup finally',\n",
       " 'morning wife gave hug told important person world',\n",
       " 'managed vape good portion day yesterday trying quit smoking every time make healthier choice job well done',\n",
       " 'saw man help lady get something top shelf grocery store made happy thought nice something see everyday',\n",
       " 'daughter took nap day totaling 3 hour allowed 3 hour quiet time',\n",
       " 'went date cute guy crush awhile',\n",
       " 'able complete everything schedule yesterday made feel productive',\n",
       " 'boyfriend told smart beautiful left work felt loved appreciated',\n",
       " 'came home work two little grandson playing front yard',\n",
       " 'went gym felt proud',\n",
       " 'managed make 80 writing',\n",
       " 'yesterday donut work celebrate co worker birthday nice surprise',\n",
       " 'colleague finished project working',\n",
       " 'went short day hike wilderness park',\n",
       " 'went walk husband dog sun shining bird singing perfect spring day',\n",
       " 'gym hit new record different lift',\n",
       " 'finally convinced girlfriend go movie lot fun nice night',\n",
       " 'friend took lunch today',\n",
       " 'laughing joking mother morning made happy',\n",
       " 'went swimming florida vacation family',\n",
       " 'today son birthday excited open gift u',\n",
       " 'yesterday found bought persimmon tree home depot later planted tree front yard',\n",
       " 'played dog',\n",
       " 'made delicious cheeseburger afternoon came great',\n",
       " 'listened happy song',\n",
       " 'gave homeless person money',\n",
       " 'seeing sister today away 3 month college',\n",
       " 'coworkers making step help getting hour work would give benefit higher pay',\n",
       " 'playing video game friend',\n",
       " 'made new friend online',\n",
       " 'husband drove mall day weather perfect',\n",
       " 'went walk since nice day',\n",
       " 'ran lap around neighborhood broke previous record 3',\n",
       " 'managed make 46 mechanical turk made happy putting money towards new 250 office chair 1 5 way',\n",
       " 'watched wonderful movie seen year family thrilled',\n",
       " 'played hour video game closest friend',\n",
       " 'son actually acknowledged woke morning instead grunting',\n",
       " 'finally receiving package waiting',\n",
       " 'long match online card game called hearthstone',\n",
       " 'spending time girlfriend last night',\n",
       " 'found fifty dollar floor broke needed buy lunch',\n",
       " 'gave fiancee hug',\n",
       " 'watched entirety pharrell new 24 hour music video happy aon mute 2 hour chunk course several day still alive',\n",
       " 'basically got eye exam really helped eye diabetes suffering vision problem ended getting prescription glass eye',\n",
       " 'weather nice planted first vegetable season grow weather nicely',\n",
       " 'went lunch father seen since christmas',\n",
       " 'felt happy today guy interested asked hang later tonight',\n",
       " 'daughter told loved hugged bed time',\n",
       " 'sent home early work',\n",
       " 'worked gym got lot done',\n",
       " 'coworker brought donut breakfast',\n",
       " 'daughter blurting happy birthday happened wife birthday passed away april',\n",
       " 'given promotion work',\n",
       " 'wife horny morning',\n",
       " 'got call job interview think qualified',\n",
       " 'happy listened album wildflower vinyl',\n",
       " 'set new personal record squat one repetition 250 pound',\n",
       " 'happiness mental emotional state well defined positive pleasant emotion ranging contentment intense joy 1 happy mental state may also reflect judgement person overall well 2 variety biological psychological economic religious philosophical approach striven define happiness identify source various research group including positive psychology happiness economics employing scientific method research question happiness might attained',\n",
       " 'went dunkin donut girl wrote sexy cup name noticed couple hour later made happy',\n",
       " 'walked 2000 step equaled whole mile continue confidence breaker',\n",
       " 'able achieve something difficult work made co worker really happy',\n",
       " 'finished backlog paperwork work help',\n",
       " 'got chinese food dinner good',\n",
       " 'friend sheryl came visit puppy',\n",
       " 'started small business',\n",
       " 'sitting talking neighbor',\n",
       " 'talking girlfriend phone making weekend plan',\n",
       " 'made final table poker tournament',\n",
       " 'benched pressed 200 pound last week passed one rep max',\n",
       " 'small young calf really sick think would make got last night standing really well happy proud little guy',\n",
       " 'getting new vape pax 2 mail today waiting joy',\n",
       " 'made happy got get fry lunch earlier',\n",
       " 'got period course suck let know everything good health wise',\n",
       " 'bought new top favorite store',\n",
       " 'went outside see warm enough bike ride went three mile ride never rode far one session happy good excercise',\n",
       " 'bos rewarded ticket pro hockey game played later week',\n",
       " 'helped plan surprise party mom 70th birthday party coming',\n",
       " 'went bathroom',\n",
       " 'ate delicious dinner husband',\n",
       " '5 dollar lottery scratch',\n",
       " 'able get established better ground therapist',\n",
       " 'free session school mean 35 minute learning',\n",
       " 'great workout gym',\n",
       " 'husband walked way nearby store picked beautiful card make feel better walk made even special',\n",
       " 'progressed barbell bench press plateauing',\n",
       " 'finished making mega cake friend birthday came great',\n",
       " 'really happy finished midterm felt decently well happy',\n",
       " 'husband gave lingering hug kiss left work',\n",
       " 'got korean barbecue nearby food cart',\n",
       " 'made big dinner girlfriend last evening',\n",
       " 'came home okay new puppy happy see',\n",
       " 'baby woke silly happy felt happy refreshed fairly good night sleep enjoyed silliness',\n",
       " 'got full night sleep often happen 3 month old house',\n",
       " 'today dog birthday fun playing present',\n",
       " 'found interesting book library book know existed',\n",
       " 'went gym exercised elliptical lifted weight work',\n",
       " 'finally completed long tiring task work',\n",
       " 'went local bar dinner old friend',\n",
       " 'increased max bench press morning heaviest ever lifted',\n",
       " 'took daughter lacrosse practice watched play',\n",
       " 'way home purchased purple flower plant gave significant arrived home work seeing reaction made heart glow',\n",
       " 'saw son trying make grilled cheese stove working well bread falling apart cheese burning came helped made one ate together made feel warm teach something even simple',\n",
       " 'happy got email discount triathlon wanted',\n",
       " 'cooked new recipe wanting try turned well',\n",
       " 'watched funny movie together husband enjoyed',\n",
       " 'dog listened asked stay door went mailbox',\n",
       " 'got stay home work today take care stuff around house',\n",
       " 'picked daughter school happy see',\n",
       " 'husband came home morning get changed ready work nice see bit',\n",
       " 'got lot hour work yesterday good need money',\n",
       " 'ate pretty healthy today felt good',\n",
       " 'made happy today learn made 88 hard biology test',\n",
       " 'watched blackhawks game last night',\n",
       " 'boyfriend got phone call saying lost phone found',\n",
       " 'met friend tea bible study session really fun engaging',\n",
       " 'husband get long really well lovely day yesterday coffee watched news discussed thought simple thing make happiest',\n",
       " 'nest bird horse stall beam watching mother bird build awhile went stall today saw could hear baby bird chirping made happy see hatched',\n",
       " 'got eat dinner girlfriend sat bar watch game',\n",
       " 'trying study individual frame animation pleased result',\n",
       " 'weighed morning lost weight 5lbs exact',\n",
       " 'today made happy able enjoy time co worker outside work',\n",
       " 'happy take sunday afternoon nap',\n",
       " 'playing videogame friend',\n",
       " 'complete pending job task today',\n",
       " 'couple hour ago found got 10 10 exam prepared long time',\n",
       " 'im pilot flew today',\n",
       " 'accepted new apartment',\n",
       " 'enjoyed fishing family early morning',\n",
       " 'realized aca people count support getting keeping health coverage',\n",
       " 'got really lucky drafted possibly best deck ever hearthstone video game destroying first 3 opponent simultaneously going bag lindt chocolate truffle realized really really happy feeling euphoria lasted another 15 minute lost three straight game back normal',\n",
       " 'favorite tv show came',\n",
       " 'went sister saw new baby smile',\n",
       " 'today received new laptop amazon even arrived day early',\n",
       " 'completed online course putting',\n",
       " 'happy online order arrived incredibly quickly',\n",
       " 'worked garden nice warm weather plant growing nicely air clean',\n",
       " 'cream chicken soup dinner made feel lot better sick',\n",
       " 'supervisor told really good worker consider applying higher job workplace',\n",
       " 'got take walk 12 month old son husband weather ver beautiful right cool sunny',\n",
       " 'talked phone best friend laughed lot',\n",
       " 'booked flight colombia',\n",
       " 'gave daughter present witnessed joy',\n",
       " 'received large unexpected bonus mturk requester earlier today great every little bit help',\n",
       " 'ran mile 6 minute today made feel fast',\n",
       " 'went hike dog beautiful sunny day park almost',\n",
       " 'given 10 stranger line coffee today',\n",
       " 'talked boyfriend',\n",
       " 'able help friend get money ssi',\n",
       " 'girl crush showed gym working morning',\n",
       " 'get money ssi',\n",
       " 'completed book reading really enjoyed',\n",
       " 'got babysit grandchild love spend time',\n",
       " 'picking girlfriend airport since seen two week',\n",
       " 'got meet old friend celebrate one birthday',\n",
       " 'received new instrument classroom expecting arrive',\n",
       " 'danced soca music mom sister',\n",
       " 'made happy receiving grade college getting 4 1 b',\n",
       " 'suffering stomach bug husband made multiple trip walgreens grab gatorade medicine made feel loved',\n",
       " 'got sitting plane several hour stretched',\n",
       " 'picture published college newspaper',\n",
       " 'ex girlfriend texted talked phone well',\n",
       " '25th birthday',\n",
       " 'girlfriend told really happy happy met',\n",
       " 'spring break right work job much calm normal gotten spend quality time student relax',\n",
       " 'watched tv show',\n",
       " 'watched particularly compelling episode show enjoy netflix',\n",
       " 'got new dart electronic dart board basement got finally play',\n",
       " 'trying lose weight lately diet exercise morning woke weighed lost whole 2 pound made happy felt rewarding',\n",
       " 'professor gave extension assignment',\n",
       " 'told school teach closed week teacher still paid',\n",
       " 'got government job friend meeting friend get gather party going movie friend also movie',\n",
       " 'happy someone owed money paid back last night',\n",
       " 'went n work starving double double tasted good',\n",
       " 'happy read email requester giving 3 bonus',\n",
       " 'kid twin boy woke today kiss hug',\n",
       " 'went beach girlfriend nice seeing beautiful sunset go holding arm grateful life',\n",
       " 'ate chik fil',\n",
       " 'walked classroom student ran excitedly hugged',\n",
       " 'stray cat hanging back porch last night finally found way home getting worried',\n",
       " 'purchased new pant two size smaller usually buy',\n",
       " 'daughter committed college',\n",
       " ...]"
      ]
     },
     "execution_count": 30,
     "metadata": {},
     "output_type": "execute_result"
    }
   ],
   "source": [
    "lemma_books"
   ]
  },
  {
   "cell_type": "code",
   "execution_count": 31,
   "metadata": {},
   "outputs": [],
   "source": [
    "##the code above is from metis project and for lemma"
   ]
  },
  {
   "cell_type": "code",
   "execution_count": null,
   "metadata": {},
   "outputs": [],
   "source": []
  },
  {
   "cell_type": "markdown",
   "metadata": {},
   "source": [
    "## After the corpus is lemmatized, the corpus is vectorized using a TF_IDF vectorizer.\n",
    "\n",
    "## The document term matrix is termed 'dtm', after which the vocabulary is retrieved using .get_feature_names()"
   ]
  },
  {
   "cell_type": "code",
   "execution_count": 32,
   "metadata": {},
   "outputs": [
    {
     "data": {
      "text/plain": [
       "(10000, 8323)"
      ]
     },
     "execution_count": 32,
     "metadata": {},
     "output_type": "execute_result"
    }
   ],
   "source": [
    "import numpy as np\n",
    "from sklearn.feature_extraction.text import TfidfVectorizer\n",
    "\n",
    "vectorizer = TfidfVectorizer()\n",
    "dtm = vectorizer.fit_transform(lemma_books).toarray()\n",
    "vocab = np.array(vectorizer.get_feature_names())\n",
    "dtm.shape"
   ]
  },
  {
   "cell_type": "code",
   "execution_count": 33,
   "metadata": {},
   "outputs": [
    {
     "data": {
      "text/plain": [
       "array(['00', '000', '00am', ..., 'zootopia', 'zumba', 'zverev'],\n",
       "      dtype='<U17')"
      ]
     },
     "execution_count": 33,
     "metadata": {},
     "output_type": "execute_result"
    }
   ],
   "source": [
    "vocab"
   ]
  },
  {
   "cell_type": "code",
   "execution_count": 34,
   "metadata": {},
   "outputs": [
    {
     "data": {
      "text/plain": [
       "8323"
      ]
     },
     "execution_count": 34,
     "metadata": {},
     "output_type": "execute_result"
    }
   ],
   "source": [
    "len(vocab)"
   ]
  },
  {
   "cell_type": "code",
   "execution_count": 35,
   "metadata": {},
   "outputs": [],
   "source": [
    "##code above is from metis project on tfidf "
   ]
  },
  {
   "cell_type": "markdown",
   "metadata": {},
   "source": [
    "## The first topic model employed is an NMF model. Topics are set to 7 TO MATCH THE NUMBER OF PREDICTED TOPICS. "
   ]
  },
  {
   "cell_type": "code",
   "execution_count": 36,
   "metadata": {},
   "outputs": [
    {
     "name": "stderr",
     "output_type": "stream",
     "text": [
      "/Users/matthewvitha/anaconda/lib/python3.5/importlib/_bootstrap.py:222: RuntimeWarning: numpy.dtype size changed, may indicate binary incompatibility. Expected 96, got 88\n",
      "  return f(*args, **kwds)\n"
     ]
    }
   ],
   "source": [
    "from sklearn.decomposition import NMF\n",
    "import sklearn.feature_extraction.text as text\n",
    "from sklearn import decomposition\n",
    "\n",
    "\n",
    "num_topics = 7\n",
    "NMFmodel = decomposition.NMF(n_components=num_topics, random_state=1)\n",
    "doctopic = NMFmodel.fit_transform(dtm)\n",
    "\n",
    "# make a list of the topic words for each topic\n",
    "num_top_words = 10\n",
    "topic_words = []\n",
    "word_weights = []\n",
    "for topic in NMFmodel.components_:\n",
    "#     topic = NMFmodel.components_[j]\n",
    "#     print(len(word_idx),word_idx)\n",
    "#     print(len([NMFmodel.components_[j][i] for i in word_idx]),[NMFmodel.components_[j][i] for i in word_idx])\n",
    "#     print(len([topic[i] for i in word_idx]),[topic[i] for i in word_idx])\n",
    "    word_idx = np.argsort(topic)[::-1][0:num_top_words]\n",
    "    topic_words.append([vocab[i] for i in word_idx])\n",
    "    word_weights.append([topic[i] for i in word_idx])\n",
    "\n",
    "import csv\n",
    "\n",
    "topicsdf = pd.DataFrame()\n",
    "topicsdf['topic_num'] = list(range(len(NMFmodel.components_)))\n",
    "topicsdf['topic_words'] = topic_words\n",
    "topicsdf['word_weights'] = word_weights\n",
    "topicsdf.head()\n",
    "topicsdf.to_csv('topicsdf_happymoments.csv')\n",
    "    \n",
    "###code above is NMF model from metis project "
   ]
  },
  {
   "cell_type": "code",
   "execution_count": 37,
   "metadata": {},
   "outputs": [
    {
     "name": "stdout",
     "output_type": "stream",
     "text": [
      "Topic 0: happy made month moment feel yesterday past make hour last\n",
      "Topic 1: went movie shopping temple walk family gym park watched girlfriend\n",
      "Topic 2: work got day today home job good go promotion finished\n",
      "Topic 3: friend old best met seen birthday year talked lunch came\n",
      "Topic 4: new bought car job purchased got phone game tv buy\n",
      "Topic 5: dinner night good family last ate favorite really husband delicious\n",
      "Topic 6: time first long able spend daughter spent game together great\n"
     ]
    }
   ],
   "source": [
    "for t in range(len(topic_words)):\n",
    "    print(\"Topic {}: {}\".format(t, ' '.join(topic_words[t][:15])))"
   ]
  },
  {
   "cell_type": "code",
   "execution_count": 38,
   "metadata": {},
   "outputs": [
    {
     "data": {
      "text/html": [
       "<div>\n",
       "<style scoped>\n",
       "    .dataframe tbody tr th:only-of-type {\n",
       "        vertical-align: middle;\n",
       "    }\n",
       "\n",
       "    .dataframe tbody tr th {\n",
       "        vertical-align: top;\n",
       "    }\n",
       "\n",
       "    .dataframe thead th {\n",
       "        text-align: right;\n",
       "    }\n",
       "</style>\n",
       "<table border=\"1\" class=\"dataframe\">\n",
       "  <thead>\n",
       "    <tr style=\"text-align: right;\">\n",
       "      <th></th>\n",
       "      <th>hmid</th>\n",
       "      <th>wid</th>\n",
       "      <th>reflection_period</th>\n",
       "      <th>original_hm</th>\n",
       "      <th>cleaned_hm</th>\n",
       "      <th>modified</th>\n",
       "      <th>num_sentence</th>\n",
       "      <th>ground_truth_category</th>\n",
       "      <th>predicted_category</th>\n",
       "    </tr>\n",
       "  </thead>\n",
       "  <tbody>\n",
       "    <tr>\n",
       "      <th>0</th>\n",
       "      <td>27673</td>\n",
       "      <td>2053</td>\n",
       "      <td>24h</td>\n",
       "      <td>I went on a successful date with someone I fel...</td>\n",
       "      <td>went successful date someone felt sympathy con...</td>\n",
       "      <td>True</td>\n",
       "      <td>1</td>\n",
       "      <td>NaN</td>\n",
       "      <td>affection</td>\n",
       "    </tr>\n",
       "    <tr>\n",
       "      <th>1</th>\n",
       "      <td>27674</td>\n",
       "      <td>2</td>\n",
       "      <td>24h</td>\n",
       "      <td>I was happy when my son got 90% marks in his e...</td>\n",
       "      <td>happy son got 90 marks examination</td>\n",
       "      <td>True</td>\n",
       "      <td>1</td>\n",
       "      <td>NaN</td>\n",
       "      <td>affection</td>\n",
       "    </tr>\n",
       "    <tr>\n",
       "      <th>2</th>\n",
       "      <td>27675</td>\n",
       "      <td>1936</td>\n",
       "      <td>24h</td>\n",
       "      <td>I went to the gym this morning and did yoga.</td>\n",
       "      <td>went gym morning yoga</td>\n",
       "      <td>True</td>\n",
       "      <td>1</td>\n",
       "      <td>NaN</td>\n",
       "      <td>exercise</td>\n",
       "    </tr>\n",
       "  </tbody>\n",
       "</table>\n",
       "</div>"
      ],
      "text/plain": [
       "    hmid   wid reflection_period  \\\n",
       "0  27673  2053               24h   \n",
       "1  27674     2               24h   \n",
       "2  27675  1936               24h   \n",
       "\n",
       "                                         original_hm  \\\n",
       "0  I went on a successful date with someone I fel...   \n",
       "1  I was happy when my son got 90% marks in his e...   \n",
       "2       I went to the gym this morning and did yoga.   \n",
       "\n",
       "                                          cleaned_hm  modified  num_sentence  \\\n",
       "0  went successful date someone felt sympathy con...      True             1   \n",
       "1                 happy son got 90 marks examination      True             1   \n",
       "2                              went gym morning yoga      True             1   \n",
       "\n",
       "  ground_truth_category predicted_category  \n",
       "0                   NaN          affection  \n",
       "1                   NaN          affection  \n",
       "2                   NaN           exercise  "
      ]
     },
     "execution_count": 38,
     "metadata": {},
     "output_type": "execute_result"
    }
   ],
   "source": [
    "df_small.head(3)"
   ]
  },
  {
   "cell_type": "markdown",
   "metadata": {},
   "source": [
    "## Using the below assign_topic function, each of the ten topics are assigned to a topic number, which is then added back to the dataframe containing article content."
   ]
  },
  {
   "cell_type": "code",
   "execution_count": 39,
   "metadata": {},
   "outputs": [
    {
     "name": "stderr",
     "output_type": "stream",
     "text": [
      "/Users/matthewvitha/anaconda/lib/python3.5/site-packages/ipykernel_launcher.py:4: SettingWithCopyWarning: \n",
      "A value is trying to be set on a copy of a slice from a DataFrame.\n",
      "Try using .loc[row_indexer,col_indexer] = value instead\n",
      "\n",
      "See the caveats in the documentation: http://pandas.pydata.org/pandas-docs/stable/indexing.html#indexing-view-versus-copy\n",
      "  after removing the cwd from sys.path.\n"
     ]
    }
   ],
   "source": [
    "def assign_topic(indx):\n",
    "    return np.argmax(doctopic[indx])\n",
    "\t\n",
    "df_small['nmf_topic_#']=[assign_topic(x) for x in df_small.index]"
   ]
  },
  {
   "cell_type": "code",
   "execution_count": 40,
   "metadata": {},
   "outputs": [
    {
     "data": {
      "text/html": [
       "<div>\n",
       "<style scoped>\n",
       "    .dataframe tbody tr th:only-of-type {\n",
       "        vertical-align: middle;\n",
       "    }\n",
       "\n",
       "    .dataframe tbody tr th {\n",
       "        vertical-align: top;\n",
       "    }\n",
       "\n",
       "    .dataframe thead th {\n",
       "        text-align: right;\n",
       "    }\n",
       "</style>\n",
       "<table border=\"1\" class=\"dataframe\">\n",
       "  <thead>\n",
       "    <tr style=\"text-align: right;\">\n",
       "      <th></th>\n",
       "      <th>hmid</th>\n",
       "      <th>wid</th>\n",
       "      <th>reflection_period</th>\n",
       "      <th>original_hm</th>\n",
       "      <th>cleaned_hm</th>\n",
       "      <th>modified</th>\n",
       "      <th>num_sentence</th>\n",
       "      <th>ground_truth_category</th>\n",
       "      <th>predicted_category</th>\n",
       "      <th>nmf_topic_#</th>\n",
       "    </tr>\n",
       "  </thead>\n",
       "  <tbody>\n",
       "    <tr>\n",
       "      <th>0</th>\n",
       "      <td>27673</td>\n",
       "      <td>2053</td>\n",
       "      <td>24h</td>\n",
       "      <td>I went on a successful date with someone I fel...</td>\n",
       "      <td>went successful date someone felt sympathy con...</td>\n",
       "      <td>True</td>\n",
       "      <td>1</td>\n",
       "      <td>NaN</td>\n",
       "      <td>affection</td>\n",
       "      <td>1</td>\n",
       "    </tr>\n",
       "    <tr>\n",
       "      <th>1</th>\n",
       "      <td>27674</td>\n",
       "      <td>2</td>\n",
       "      <td>24h</td>\n",
       "      <td>I was happy when my son got 90% marks in his e...</td>\n",
       "      <td>happy son got 90 marks examination</td>\n",
       "      <td>True</td>\n",
       "      <td>1</td>\n",
       "      <td>NaN</td>\n",
       "      <td>affection</td>\n",
       "      <td>2</td>\n",
       "    </tr>\n",
       "  </tbody>\n",
       "</table>\n",
       "</div>"
      ],
      "text/plain": [
       "    hmid   wid reflection_period  \\\n",
       "0  27673  2053               24h   \n",
       "1  27674     2               24h   \n",
       "\n",
       "                                         original_hm  \\\n",
       "0  I went on a successful date with someone I fel...   \n",
       "1  I was happy when my son got 90% marks in his e...   \n",
       "\n",
       "                                          cleaned_hm  modified  num_sentence  \\\n",
       "0  went successful date someone felt sympathy con...      True             1   \n",
       "1                 happy son got 90 marks examination      True             1   \n",
       "\n",
       "  ground_truth_category predicted_category  nmf_topic_#  \n",
       "0                   NaN          affection            1  \n",
       "1                   NaN          affection            2  "
      ]
     },
     "execution_count": 40,
     "metadata": {},
     "output_type": "execute_result"
    }
   ],
   "source": [
    "df_small.head(2)"
   ]
  },
  {
   "cell_type": "markdown",
   "metadata": {},
   "source": [
    "## We can see the distribution of topics in below histogram. Along with the distribution of predicted topics. "
   ]
  },
  {
   "cell_type": "code",
   "execution_count": 43,
   "metadata": {},
   "outputs": [
    {
     "data": {
      "text/plain": [
       "Text(0.5,0,'Topic')"
      ]
     },
     "execution_count": 43,
     "metadata": {},
     "output_type": "execute_result"
    },
    {
     "data": {
      "image/png": "[encoded data removed]",
      "text/plain": [
       "<Figure size 432x288 with 1 Axes>"
      ]
     },
     "metadata": {},
     "output_type": "display_data"
    }
   ],
   "source": [
    "import matplotlib\n",
    "import matplotlib.pyplot as plt\n",
    "import seaborn as sns\n",
    "nmf_topic_historgram = df_small['nmf_topic_#'].plot(kind='hist',title='Frequency of Topics')\n",
    "plt.xlabel('Topic')"
   ]
  },
  {
   "cell_type": "code",
   "execution_count": 44,
   "metadata": {},
   "outputs": [
    {
     "data": {
      "text/plain": [
       "<matplotlib.axes._subplots.AxesSubplot at 0x12a3824a8>"
      ]
     },
     "execution_count": 44,
     "metadata": {},
     "output_type": "execute_result"
    },
    {
     "data": {
      "image/png": "[encoded data removed]",
      "text/plain": [
       "<Figure size 432x288 with 1 Axes>"
      ]
     },
     "metadata": {},
     "output_type": "display_data"
    }
   ],
   "source": [
    "df_small['predicted_category'].value_counts().plot(kind='bar')"
   ]
  },
  {
   "cell_type": "code",
   "execution_count": 45,
   "metadata": {},
   "outputs": [
    {
     "data": {
      "text/plain": [
       "(<Figure size 432x288 with 3 Axes>,\n",
       " OrderedDict([(('affection', '1'),\n",
       "               (0.0, 0.0, 0.340485436893204, 0.08330677580413404)),\n",
       "              (('affection', '2'),\n",
       "               (0.0,\n",
       "                0.08657474966034318,\n",
       "                0.340485436893204,\n",
       "                0.17024773981448865)),\n",
       "              (('affection', '3'),\n",
       "               (0.0,\n",
       "                0.26009046333104097,\n",
       "                0.340485436893204,\n",
       "                0.08470454049883423)),\n",
       "              (('affection', '5'),\n",
       "               (0.0,\n",
       "                0.3480629776860844,\n",
       "                0.340485436893204,\n",
       "                0.17500013977646953)),\n",
       "              (('affection', '4'),\n",
       "               (0.0,\n",
       "                0.526331091318763,\n",
       "                0.340485436893204,\n",
       "                0.058147011299529726)),\n",
       "              (('affection', '6'),\n",
       "               (0.0,\n",
       "                0.5877460764745019,\n",
       "                0.340485436893204,\n",
       "                0.23007206874765876)),\n",
       "              (('affection', '0'),\n",
       "               (0.0,\n",
       "                0.8210861190783699,\n",
       "                0.340485436893204,\n",
       "                0.17891388092163013)),\n",
       "              (('exercise', '1'),\n",
       "               (0.3453398058252428,\n",
       "                0.0,\n",
       "                0.013786407766990284,\n",
       "                0.3590168461750898)),\n",
       "              (('exercise', '2'),\n",
       "               (0.3453398058252428,\n",
       "                0.3622848200312989,\n",
       "                0.013786407766990284,\n",
       "                0.1726042529687932)),\n",
       "              (('exercise', '3'),\n",
       "               (0.3453398058252428,\n",
       "                0.5381570468563013,\n",
       "                0.013786407766990284,\n",
       "                0.013808340237503434)),\n",
       "              (('exercise', '5'),\n",
       "               (0.3453398058252428,\n",
       "                0.5552333609500139,\n",
       "                0.013786407766990284,\n",
       "                0.08975421154377243)),\n",
       "              (('exercise', '4'),\n",
       "               (0.3453398058252428,\n",
       "                0.6482555463499954,\n",
       "                0.013786407766990284,\n",
       "                0.03452085059375858)),\n",
       "              (('exercise', '6'),\n",
       "               (0.3453398058252428,\n",
       "                0.6860443707999632,\n",
       "                0.013786407766990284,\n",
       "                0.2347417840375587)),\n",
       "              (('exercise', '0'),\n",
       "               (0.3453398058252428,\n",
       "                0.924054128693731,\n",
       "                0.013786407766990284,\n",
       "                0.075945871306269)),\n",
       "              (('bonding', '1'),\n",
       "               (0.3639805825242719,\n",
       "                0.0,\n",
       "                0.10805825242718449,\n",
       "                0.049327907263534344)),\n",
       "              (('bonding', '2'),\n",
       "               (0.3639805825242719,\n",
       "                0.0525958811197435,\n",
       "                0.10805825242718449,\n",
       "                0.046685340802987856)),\n",
       "              (('bonding', '3'),\n",
       "               (0.3639805825242719,\n",
       "                0.1025491957789405,\n",
       "                0.10805825242718449,\n",
       "                0.6747353029262019)),\n",
       "              (('bonding', '5'),\n",
       "               (0.3639805825242719,\n",
       "                0.7805524725613516,\n",
       "                0.10805825242718449,\n",
       "                0.04051935239504601)),\n",
       "              (('bonding', '4'),\n",
       "               (0.3639805825242719,\n",
       "                0.8243397988126068,\n",
       "                0.10805825242718449,\n",
       "                0.03963849690819728)),\n",
       "              (('bonding', '6'),\n",
       "               (0.3639805825242719,\n",
       "                0.8672462695770132,\n",
       "                0.10805825242718449,\n",
       "                0.10129838098761519)),\n",
       "              (('bonding', '0'),\n",
       "               (0.3639805825242719,\n",
       "                0.9718126244208376,\n",
       "                0.10805825242718449,\n",
       "                0.02818737557916243)),\n",
       "              (('leisure', '1'),\n",
       "               (0.47689320388349526,\n",
       "                0.0,\n",
       "                0.06495145631067964,\n",
       "                0.2769717752571881)),\n",
       "              (('leisure', '2'),\n",
       "               (0.47689320388349526,\n",
       "                0.2802397491133972,\n",
       "                0.06495145631067964,\n",
       "                0.09232392508572936)),\n",
       "              (('leisure', '3'),\n",
       "               (0.47689320388349526,\n",
       "                0.3758316480553357,\n",
       "                0.06495145631067964,\n",
       "                0.030774641695243153)),\n",
       "              (('leisure', '5'),\n",
       "               (0.47689320388349526,\n",
       "                0.409874263606788,\n",
       "                0.06495145631067964,\n",
       "                0.1817169319147689)),\n",
       "              (('leisure', '4'),\n",
       "               (0.47689320388349526,\n",
       "                0.5948591693777661,\n",
       "                0.06495145631067964,\n",
       "                0.1612005041179401)),\n",
       "              (('leisure', '6'),\n",
       "               (0.47689320388349526,\n",
       "                0.7593276473519154,\n",
       "                0.06495145631067964,\n",
       "                0.16852779975966473)),\n",
       "              (('leisure', '0'),\n",
       "               (0.47689320388349526,\n",
       "                0.9311234209677892,\n",
       "                0.06495145631067964,\n",
       "                0.06887657903221081)),\n",
       "              (('achievement', '1'),\n",
       "               (0.5466990291262137,\n",
       "                0.0,\n",
       "                0.313495145631068,\n",
       "                0.02550416264368863)),\n",
       "              (('achievement', '2'),\n",
       "               (0.5466990291262137,\n",
       "                0.02877213649989778,\n",
       "                0.313495145631068,\n",
       "                0.38256243965532943)),\n",
       "              (('achievement', '3'),\n",
       "               (0.5466990291262137,\n",
       "                0.41460255001143637,\n",
       "                0.313495145631068,\n",
       "                0.02823675149836958)),\n",
       "              (('achievement', '5'),\n",
       "               (0.5466990291262137,\n",
       "                0.44610727536601513,\n",
       "                0.313495145631068,\n",
       "                0.06679661644775592)),\n",
       "              (('achievement', '4'),\n",
       "               (0.5466990291262137,\n",
       "                0.5161718656699802,\n",
       "                0.313495145631068,\n",
       "                0.19158484081151822)),\n",
       "              (('achievement', '6'),\n",
       "               (0.5466990291262137,\n",
       "                0.7110246803377076,\n",
       "                0.313495145631068,\n",
       "                0.13389685387936526)),\n",
       "              (('achievement', '0'),\n",
       "               (0.5466990291262137,\n",
       "                0.848189508073282,\n",
       "                0.313495145631068,\n",
       "                0.15181049192671803)),\n",
       "              (('enjoy_the_moment', '1'),\n",
       "               (0.8650485436893206,\n",
       "                0.0,\n",
       "                0.10932038834951462,\n",
       "                0.048758402117507746)),\n",
       "              (('enjoy_the_moment', '2'),\n",
       "               (0.8650485436893206,\n",
       "                0.0520263759737169,\n",
       "                0.10932038834951462,\n",
       "                0.18458537944485073)),\n",
       "              (('enjoy_the_moment', '3'),\n",
       "               (0.8650485436893206,\n",
       "                0.2398797292747768,\n",
       "                0.10932038834951462,\n",
       "                0.047017030613311056)),\n",
       "              (('enjoy_the_moment', '5'),\n",
       "               (0.8650485436893206,\n",
       "                0.290164733744297,\n",
       "                0.10932038834951462,\n",
       "                0.2612057256295057)),\n",
       "              (('enjoy_the_moment', '4'),\n",
       "               (0.8650485436893206,\n",
       "                0.5546384332300118,\n",
       "                0.10932038834951462,\n",
       "                0.07226691742416334)),\n",
       "              (('enjoy_the_moment', '6'),\n",
       "               (0.8650485436893206,\n",
       "                0.6301733245103844,\n",
       "                0.10932038834951462,\n",
       "                0.10796503326019574)),\n",
       "              (('enjoy_the_moment', '0'),\n",
       "               (0.8650485436893206,\n",
       "                0.7414063316267893,\n",
       "                0.10932038834951462,\n",
       "                0.2585936683732107)),\n",
       "              (('nature', '1'),\n",
       "               (0.979223300970874,\n",
       "                0.0,\n",
       "                0.020776699029126194,\n",
       "                0.14660069635330766)),\n",
       "              (('nature', '2'),\n",
       "               (0.979223300970874,\n",
       "                0.1498686702095168,\n",
       "                0.020776699029126194,\n",
       "                0.19699468572475717)),\n",
       "              (('nature', '3'),\n",
       "               (0.979223300970874,\n",
       "                0.3501313297904831,\n",
       "                0.020776699029126194,\n",
       "                0.05039398937144952)),\n",
       "              (('nature', '5'),\n",
       "               (0.979223300970874,\n",
       "                0.4037932930181418,\n",
       "                0.020776699029126194,\n",
       "                0.07330034817665385)),\n",
       "              (('nature', '4'),\n",
       "               (0.979223300970874,\n",
       "                0.4803616150510048,\n",
       "                0.020776699029126194,\n",
       "                0.0458127176104086)),\n",
       "              (('nature', '6'),\n",
       "               (0.979223300970874,\n",
       "                0.5294423065176226,\n",
       "                0.020776699029126194,\n",
       "                0.31610775151181975)),\n",
       "              (('nature', '0'),\n",
       "               (0.979223300970874,\n",
       "                0.8488180318856515,\n",
       "                0.020776699029126194,\n",
       "                0.1511819681143485))]))"
      ]
     },
     "execution_count": 45,
     "metadata": {},
     "output_type": "execute_result"
    },
    {
     "data": {
      "image/png": "[encoded data removed]",
      "text/plain": [
       "<Figure size 432x288 with 3 Axes>"
      ]
     },
     "metadata": {},
     "output_type": "display_data"
    }
   ],
   "source": [
    "from statsmodels.graphics.mosaicplot import mosaic\n",
    "plt.rcParams['font.size'] = 16.0\n",
    "mosaic(df_small, ['predicted_category', 'nmf_topic_#'])"
   ]
  },
  {
   "cell_type": "markdown",
   "metadata": {},
   "source": [
    "## The below catplot shows the relatoinship beteween our topic models and the predicted categories. \n",
    "\n",
    "## ASSUMING Predicted categories are correct, our model has hard time predicted nature and exercise. "
   ]
  },
  {
   "cell_type": "code",
   "execution_count": 46,
   "metadata": {},
   "outputs": [
    {
     "name": "stderr",
     "output_type": "stream",
     "text": [
      "/Users/matthewvitha/anaconda/lib/python3.5/site-packages/seaborn/categorical.py:3692: UserWarning: The `size` paramter has been renamed to `height`; please update your code.\n",
      "  warnings.warn(msg, UserWarning)\n"
     ]
    },
    {
     "data": {
      "text/plain": [
       "<seaborn.axisgrid.FacetGrid at 0x12a4749b0>"
      ]
     },
     "execution_count": 46,
     "metadata": {},
     "output_type": "execute_result"
    },
    {
     "data": {
      "image/png": "[encoded data removed]",
      "text/plain": [
       "<Figure size 1008x504 with 1 Axes>"
      ]
     },
     "metadata": {},
     "output_type": "display_data"
    }
   ],
   "source": [
    "sns.catplot(x=\"predicted_category\", y=\"nmf_topic_#\",kind='swarm', data=df_small,size=7, aspect = 2)"
   ]
  },
  {
   "cell_type": "markdown",
   "metadata": {},
   "source": [
    "## Above we have nmf model below. \n",
    "\n",
    "## to test if a different model will generate nicer results, we try to implement an LDA model. \n",
    "\n",
    "### note - a count_vectorizer is used compared to a TF_IDF vectorizer. \n",
    "\n",
    "#### Again - 7 topics used to match predicted categories. "
   ]
  },
  {
   "cell_type": "code",
   "execution_count": null,
   "metadata": {},
   "outputs": [],
   "source": []
  },
  {
   "cell_type": "code",
   "execution_count": 47,
   "metadata": {},
   "outputs": [
    {
     "name": "stderr",
     "output_type": "stream",
     "text": [
      "/Users/matthewvitha/anaconda/lib/python3.5/importlib/_bootstrap.py:222: RuntimeWarning: numpy.dtype size changed, may indicate binary incompatibility. Expected 96, got 88\n",
      "  return f(*args, **kwds)\n"
     ]
    }
   ],
   "source": [
    "from __future__ import print_function\n",
    "from gensim import corpora, models, similarities, matutils\n",
    "from sklearn.cluster import KMeans"
   ]
  },
  {
   "cell_type": "code",
   "execution_count": 48,
   "metadata": {},
   "outputs": [],
   "source": [
    "from sklearn.decomposition import LatentDirichletAllocation"
   ]
  },
  {
   "cell_type": "code",
   "execution_count": 49,
   "metadata": {},
   "outputs": [],
   "source": [
    "from sklearn.feature_extraction.text import CountVectorizer\n",
    "# LDA can only use raw term counts for LDA because it is a probabilistic graphical model\n",
    "\n",
    "no_features = 1000\n",
    "\n",
    "tf_vectorizer = CountVectorizer(max_df=0.95, min_df=2, max_features=no_features, stop_words='english')\n",
    "tf = tf_vectorizer.fit_transform(lemma_books)\n",
    "tf_feature_names = tf_vectorizer.get_feature_names()"
   ]
  },
  {
   "cell_type": "code",
   "execution_count": 99,
   "metadata": {},
   "outputs": [
    {
     "data": {
      "text/plain": [
       "<10000x1000 sparse matrix of type '<class 'numpy.int64'>'\n",
       "\twith 61140 stored elements in Compressed Sparse Row format>"
      ]
     },
     "execution_count": 99,
     "metadata": {},
     "output_type": "execute_result"
    }
   ],
   "source": [
    "tf"
   ]
  },
  {
   "cell_type": "code",
   "execution_count": 50,
   "metadata": {},
   "outputs": [
    {
     "name": "stderr",
     "output_type": "stream",
     "text": [
      "/Users/matthewvitha/anaconda/lib/python3.5/site-packages/sklearn/decomposition/online_lda.py:294: DeprecationWarning: n_topics has been renamed to n_components in version 0.19 and will be removed in 0.21\n",
      "  DeprecationWarning)\n"
     ]
    }
   ],
   "source": [
    "no_topics = 7\n",
    "\n",
    "lda = LatentDirichletAllocation(n_topics=no_topics, max_iter=5, learning_method='online', learning_offset=50.,random_state=0).fit(tf)"
   ]
  },
  {
   "cell_type": "code",
   "execution_count": 51,
   "metadata": {},
   "outputs": [],
   "source": [
    "def display_topics(model, feature_names, no_top_words):\n",
    "    for topic_idx, topic in enumerate(model.components_):\n",
    "        print(topic_idx)\n",
    "        print([feature_names[i]\n",
    "                        for i in topic.argsort()[:-no_top_words - 1:-1]])"
   ]
  },
  {
   "cell_type": "code",
   "execution_count": 52,
   "metadata": {},
   "outputs": [
    {
     "name": "stdout",
     "output_type": "stream",
     "text": [
      "0\n",
      "['getting', 'told', 'girlfriend', 'happiness', 'happy', 'completed', 'kid']\n",
      "1\n",
      "['dinner', 'favorite', 'husband', 'dog', 'received', 'good', 'watched']\n",
      "2\n",
      "['happy', 'got', 'work', 'day', 'able', 'moment', 'home']\n",
      "3\n",
      "['went', 'family', 'time', 'nice', 'enjoyed', 'long', 'place']\n",
      "4\n",
      "['new', 'got', 'happy', 'old', 'birthday', 'job', 'bought']\n",
      "5\n",
      "['great', 'like', 'happy', 'lunch', 'feel', 'life', 'going']\n",
      "6\n",
      "['friend', 'time', 'game', 'daughter', 'lot', 'got', 'happy']\n"
     ]
    }
   ],
   "source": [
    "no_top_words = 7\n",
    "display_topics(lda, tf_feature_names, no_top_words)"
   ]
  },
  {
   "cell_type": "markdown",
   "metadata": {},
   "source": [
    "## The below visualization is a nice representation of each topic. "
   ]
  },
  {
   "cell_type": "code",
   "execution_count": 53,
   "metadata": {},
   "outputs": [
    {
     "name": "stderr",
     "output_type": "stream",
     "text": [
      "/Users/matthewvitha/anaconda/lib/python3.5/site-packages/pyLDAvis/_prepare.py:257: FutureWarning: Sorting because non-concatenation axis is not aligned. A future version\n",
      "of pandas will change to not sort by default.\n",
      "\n",
      "To accept the future behavior, pass 'sort=False'.\n",
      "\n",
      "To retain the current behavior and silence the warning, pass 'sort=True'.\n",
      "\n",
      "  return pd.concat([default_term_info] + list(topic_dfs))\n"
     ]
    },
    {
     "data": {
      "text/html": [
       "\n",
       "<link rel=\"stylesheet\" type=\"text/css\" href=\"https://cdn.rawgit.com/bmabey/pyLDAvis/files/ldavis.v1.0.0.css\">\n",
       "\n",
       "\n",
       "<div id=\"ldavis_el599750352980329689146719\"></div>\n",
       "<script type=\"text/javascript\">\n",
       "\n",
       "var ldavis_el599750352980329689146719_data = {\"lambda.step\": 0.01, \"mdsDat\": {\"cluster\": [1, 1, 1, 1, 1, 1, 1], \"y\": [0.0981477332060549, 0.25225502457365157, 0.022059663593941903, 0.023820091298670996, -0.28829924260660295, -0.16183446819263725, 0.05385119812692057], \"topics\": [1, 2, 3, 4, 5, 6, 7], \"Freq\": [21.548684938716082, 14.957556680750011, 14.916020462482296, 14.303295300461693, 12.856692970267153, 12.433265363355051, 8.984484283967726], \"x\": [0.10460154341830559, 0.10544192151067087, 0.12799823573489885, 0.019759867575814914, 0.08916545539881919, -0.04458851818783622, -0.40237850545067305]}, \"plot.opts\": {\"ylab\": \"PC2\", \"xlab\": \"PC1\"}, \"R\": 30, \"topic.order\": [3, 5, 7, 6, 4, 2, 1], \"token.table\": {\"Topic\": [1, 3, 4, 1, 4, 1, 5, 1, 4, 3, 7, 4, 6, 4, 6, 1, 1, 5, 2, 4, 5, 6, 7, 5, 3, 2, 3, 5, 1, 4, 5, 2, 2, 3, 2, 6, 2, 4, 3, 2, 5, 6, 3, 6, 1, 2, 3, 2, 4, 1, 1, 4, 5, 2, 2, 2, 1, 3, 7, 7, 1, 5, 3, 3, 7, 2, 4, 3, 4, 3, 4, 3, 6, 6, 4, 7, 2, 4, 2, 6, 7, 3, 5, 6, 7, 2, 7, 3, 2, 1, 3, 4, 1, 3, 4, 5, 6, 7, 6, 1, 6, 4, 6, 7, 6, 3, 2, 1, 2, 5, 1, 3, 6, 3, 6, 3, 5, 5, 5, 6, 3, 2, 4, 1, 6, 5, 1, 4, 2, 4, 5, 6, 1, 2, 6, 6, 1, 4, 5, 7, 4, 1, 2, 6, 2, 4, 5, 6, 7, 6, 7, 2, 4, 6, 1, 2, 3, 3, 4, 5, 3, 3, 5, 1, 2, 7, 2, 3, 7, 7, 1, 3, 4, 6, 1, 3, 4, 6, 1, 2, 3, 6, 1, 1, 4, 2, 4, 5, 7, 1, 4, 7, 1, 2, 3, 4, 6, 7, 4, 4, 1, 2, 3, 4, 5, 5, 1, 3, 4, 5, 1, 5, 2, 1, 6, 7, 3, 4, 5, 4, 2, 5, 3, 7, 2, 3, 7, 1, 1, 3, 4, 3, 1, 3, 4, 5, 1, 2, 4, 7, 3, 7, 1, 3, 4, 5, 6, 2, 4, 3, 4, 5, 5, 3, 5, 3, 4, 5, 6, 7, 4, 4, 1, 2, 3, 4, 5, 7, 4, 5, 6, 6, 7, 2, 3, 6, 4, 5, 6, 1, 2, 3, 2, 2, 6, 1, 3, 4, 5, 1, 3, 4, 7, 1, 2, 4, 5, 1, 2, 3, 4, 5, 6, 2, 5, 6, 3, 5, 5, 1, 2, 2, 4, 6, 3, 4, 5, 1, 1, 5, 6, 7, 2, 3, 4, 5, 2, 4, 7, 2, 5, 1, 2, 5, 4, 5, 6, 3, 2, 1, 3, 4, 2, 3, 4, 5, 2, 4, 2, 5, 1, 3, 3, 7, 3, 4, 5, 7, 5, 1, 6, 7, 1, 6, 7, 2, 7, 7, 7, 1, 3, 2, 4, 1, 2, 7, 5, 1, 3, 4, 6, 7, 3, 6, 3, 3, 7, 4, 6, 1, 3, 4, 5, 2, 7, 1, 6, 5, 1, 2, 4, 5, 2, 4, 1, 2, 3, 4, 6, 4, 1, 7, 5, 7, 1, 2, 4, 5, 7, 1, 2, 3, 6, 1, 2, 4, 2, 1, 2, 7, 4, 1, 5, 3, 3, 7, 6, 2, 7, 4, 4, 7, 6, 5, 2, 6, 5, 3, 4, 5, 6, 2, 3, 3, 5, 5, 1, 7, 3, 6, 4, 1, 5, 7, 1, 2, 3, 4, 5, 4, 4, 6, 1, 3, 4, 5, 6, 1, 2, 3, 4, 6, 7, 1, 1, 4, 5, 6, 4, 5, 6, 4, 2, 1, 6, 7, 3, 5, 6, 1, 1, 7, 5, 1, 5, 6, 6, 1, 5, 6, 1, 4, 6, 5, 2, 1, 5, 6, 1, 1, 2, 3, 4, 5, 6, 7, 1, 6, 1, 2, 1, 2, 3, 4, 6, 7, 7, 4, 4, 1, 2, 3, 4, 5, 6, 1, 2, 3, 5, 6], \"Freq\": [0.9707866252180133, 0.010008109538330034, 0.010008109538330034, 0.7410961257738422, 0.2590651213306841, 0.9692116915499172, 0.9856153471668607, 0.9430343706715768, 0.04963338793008299, 0.9812125574626922, 0.9708856201861447, 0.9873461774325385, 0.9923230609913506, 0.9939006032504661, 0.9737687502623507, 0.9885333200807522, 0.979084471123911, 0.9869419706402581, 0.12396148175468152, 0.017708783107811644, 0.8411671976210532, 0.017708783107811644, 0.008854391553905822, 0.9899500060592761, 0.996495813987112, 0.7263786104864087, 0.21290407548739565, 0.05635696115842826, 0.12239781560501728, 0.8690244907956227, 0.9804331026947952, 0.9946712073685383, 0.9855780299594107, 0.983289590749279, 0.9878785262984512, 0.9822030668022338, 0.99823827328992, 0.991302517603697, 0.9855459481382275, 0.9764584624688889, 0.9819662162460778, 0.9696903553729163, 0.985402153863307, 0.989539509073707, 0.7098831614978515, 0.23106000942871244, 0.05567711070571384, 0.8077537677843997, 0.189404331756342, 0.9856790737593363, 0.04284804873776175, 0.8712436576678223, 0.0856960974755235, 0.9951374370039341, 0.9730915672686831, 0.9895502921665089, 0.9892259478700136, 0.9848212958862822, 0.9828221143535258, 0.9744597387039524, 0.8190614217911198, 0.17093455759119025, 0.9883288652196485, 0.9832958892535285, 0.983178705683271, 0.9734828240502484, 0.015958734820495875, 0.9943118468852091, 0.991427015866877, 0.9830731738395739, 0.9925336082284039, 0.9917463284269113, 0.9851561746912747, 0.9878356065407041, 0.9809897421889228, 0.9891160185073335, 0.9851908132796924, 0.980568817829895, 0.015791552061873916, 0.9317015716505611, 0.047374656185621755, 0.9922191744471182, 0.9863635333103853, 0.9867454615480761, 0.991333063442877, 0.9870838342034847, 0.9864770021964718, 0.9788732041123225, 0.9846065214532119, 0.34241551313378643, 0.6529784203946625, 0.0026543838227425305, 0.524122899421896, 0.08978550739561389, 0.10100869582006562, 0.15600231909987913, 0.06958376823160076, 0.058360579807149024, 0.9921317330220519, 0.0025034760089723738, 0.9963834515710048, 0.9834792883116028, 0.9798084045340735, 0.9810301859781845, 0.9967158085090074, 0.9812682051956991, 0.963864349633049, 0.9738722625386851, 0.20126504251557747, 0.7924811049050863, 0.9798480759765791, 0.10926459681372974, 0.8825217434955095, 0.06878066936388637, 0.9113438690714943, 0.23076826071883944, 0.7663247903116177, 0.9863082752228729, 0.9855827428569656, 0.9823621119324654, 0.9910853932731145, 0.25548833831446366, 0.7398516463689677, 0.9858269484889547, 0.9938120927166513, 0.9829527621614073, 0.9881051979230977, 0.982021655340566, 0.9853673244833158, 0.0022789277874850763, 0.8204140034946276, 0.17775636742383596, 0.15151477968203048, 0.8402183236912598, 0.9982525536153906, 0.9854968068897252, 0.38256197376006645, 0.610346965769877, 0.0029203204103821867, 0.0029203204103821867, 0.9939422904202226, 0.6444467575710149, 0.12292915028811267, 0.23095779751099957, 0.34311818477059186, 0.13724727390823674, 0.11666018282200123, 0.1818526379284137, 0.2195956382531788, 0.7646327053513424, 0.2301321734552584, 0.9849155065254036, 0.011378979725664576, 0.9842817462699859, 0.0009439496089513697, 0.16896698000229518, 0.829731706268254, 0.5281652234363077, 0.30009387695244755, 0.1680525710933706, 0.971252525150861, 0.9966481856630688, 0.9889448652156297, 0.30472069422480624, 0.6940860257342809, 0.9961277664705475, 0.9901032959482956, 0.007616179199602274, 0.9947932295492675, 0.9927322315881479, 0.0036580861716299633, 0.11340067132052886, 0.7243010619827328, 0.15729770538008842, 0.28367823992798746, 0.21532203753570134, 0.15721926550225812, 0.3417810119614307, 0.4382570538742054, 0.3911237480801871, 0.16951452083813603, 0.0008269001016494442, 0.9880076496212573, 0.9834277293858055, 0.9773619841068275, 0.12295625868026647, 0.7069984874115322, 0.16650326696286083, 0.9864764519126445, 0.9896401472737036, 0.45798931432556245, 0.5380262818776025, 0.503499556944653, 0.15811253055185032, 0.09113114152844398, 0.10434515705006836, 0.0893085186978751, 0.05331171779413973, 0.9919513955127597, 0.9899522603096311, 0.6296728590830161, 0.22443785076226316, 0.010390641238993664, 0.0020781282477987328, 0.1330002078591189, 0.9867233207694801, 0.7226869405147676, 0.12734571639026743, 0.13689664511953747, 0.009550928729270056, 0.961846736549641, 0.0316099866471713, 0.9816869217167913, 0.00583123013931002, 0.8280346797820228, 0.16619005897033556, 0.9787964536240076, 0.9710968976787681, 0.9816368785171792, 0.9909357906087914, 0.9951882188272979, 0.9675771815998786, 0.39301687924450646, 0.6041901277937936, 0.964333121419538, 0.9813392788883446, 0.9796978354668253, 0.9706588583190956, 0.9837976056066364, 0.9774929698554716, 0.020797722762882376, 0.9688665169503247, 0.2854530164107115, 0.17127180984642693, 0.5371706763365208, 0.005190054843831119, 0.03859156569163423, 0.01157746970749027, 0.9493525160142021, 0.9815907733476785, 0.9651629948414944, 0.01821062254417914, 0.16806114664330513, 0.2204080611715477, 0.05785711605753127, 0.47387733151882755, 0.0771428214100417, 0.11179551812292744, 0.8803897052180536, 0.10012715383445245, 0.7787667520457412, 0.12237763246433077, 0.9881929498987007, 0.7773008582950732, 0.21806630413707936, 0.5280865362218535, 0.21466932366742014, 0.008586772946696805, 0.24901641545420736, 0.9856181690900195, 0.9958512299717933, 0.9918239067977793, 0.4906109445501575, 0.08073344657154491, 0.009315397681332105, 0.3384594490883998, 0.08073344657154491, 0.9905199234673554, 0.9524019708491663, 0.03228481257115818, 0.9771970767567563, 0.9550675715738257, 0.030319605446788116, 0.1179794120481787, 0.8651823550199772, 0.013108823560908745, 0.011820589358808059, 0.9811089167810688, 0.011820589358808059, 0.106289925976731, 0.1275479111720772, 0.7652874670324632, 0.9776390607224889, 0.719457415829626, 0.2719899986672976, 0.8008487574867122, 0.11269428623316011, 0.07672802466938561, 0.0071932523127549, 0.6301995819964439, 0.17046382135969385, 0.03099342206539888, 0.1652982510154607, 0.6412013230471337, 0.3239992551086224, 0.013594374340221916, 0.020391561510332876, 0.232079320125702, 0.2570340857306162, 0.042423101528354136, 0.09482810929867394, 0.27699789821454757, 0.09482810929867394, 0.9944310041146454, 0.4526552632130409, 0.5431863158556491, 0.9892542812209429, 0.9878437929634576, 0.9794193673022394, 0.9806660402414409, 0.9813419515902617, 0.9690534078237679, 0.0013823871723591553, 0.029030130619542262, 0.2742477718224024, 0.171781571361285, 0.5545229672013411, 0.9711290481702838, 0.46931972192989746, 0.13332946645735724, 0.3919886313846303, 0.002666589329147145, 0.19604108374464924, 0.0054455856595735895, 0.7787187493190233, 0.021782342638294358, 0.7756208984898265, 0.22316110061812552, 0.984905162727761, 0.9808790372488209, 0.9901055485276287, 0.9858643827709971, 0.1392176937964103, 0.8551944047493776, 0.010665346175890388, 0.9492158096542446, 0.03199603852767116, 0.988311082259824, 0.9942484108565244, 0.9447449916723198, 0.02699271404778057, 0.02699271404778057, 0.013513621022456406, 0.8175740718586126, 0.006756810511228203, 0.16216345226947687, 0.9936703072142427, 0.9669528749539019, 0.01943416470117897, 0.9717082350589484, 0.04323373780212171, 0.9511422316466777, 0.9161275963762064, 0.07634396636468387, 0.9919866952284742, 0.2901471322722831, 0.02637701202475301, 0.6858023126435783, 0.9792124854393476, 0.12613228567831922, 0.8689113013395323, 0.9783983769468165, 0.9759684796944326, 0.292624722352579, 0.7036927847050114, 0.9791291804026259, 0.9839509433573754, 0.9791715945883227, 0.9905660940732376, 0.9779736929058337, 0.9662928890354124, 0.9701537240895325, 0.030798530923477223, 0.02068049809587551, 0.9513029124102735, 0.02068049809587551, 0.988353980296077, 0.12638394092624478, 0.24905070711936472, 0.1765657998234302, 0.28808104181717564, 0.1598385135243684, 0.004649284565742661, 0.9902976125031867, 0.976348139859808, 0.9660789532740681, 0.9891660785836305, 0.9812039190864512, 0.9888893992578341, 0.9708596479548285, 0.019594424662534703, 0.9797212331267352, 0.9857565684657101, 0.9778200797256013, 0.977033436610433, 0.9861328662791188, 0.9872102010014544, 0.9898397187001199, 0.15971335299214107, 0.3233221536182368, 0.0194772381697733, 0.49472184951224185, 0.013840878390311439, 0.9827023657121122, 0.2886823431971015, 0.08660470295913046, 0.6062329207139132, 0.016496133896977228, 0.979035240260487, 0.9880568008152063, 0.9923946419388651, 0.9880024843469577, 0.17172259513795557, 0.8242684566621867, 0.9855196091365473, 0.10081122864062282, 0.03600401022879387, 0.7128794025301185, 0.14401604091517548, 0.6825631516799434, 0.26512783577650695, 0.022564071129915486, 0.028205088912394358, 0.9925293576206181, 0.19522144173496528, 0.791160579662754, 0.9729249604909409, 0.25162010028270054, 0.573920004015598, 0.17245872041848018, 0.9856307344998847, 0.989699076602726, 0.9736902595753253, 0.9934278174617128, 0.9927351192917562, 0.9922044400638493, 0.9695541436706682, 0.17071812336138734, 0.8266351236446123, 0.9683733007998205, 0.9895036013049967, 0.992184744594153, 0.9927951950136027, 0.983933748450428, 0.9937316105682366, 0.9843451359552834, 0.9746984729040514, 0.01088242538889011, 0.2720606347222527, 0.6855927995000769, 0.03264727616667033, 0.7688309409577767, 0.22255632501409328, 0.9682555459718357, 0.9909741283282262, 0.9851653703652185, 0.022116497682498473, 0.9731258980299328, 0.27798107392161236, 0.7148084757984319, 0.9860623563533983, 0.060605620447513275, 0.9242357118245774, 0.9912451621800931, 0.48919585685154776, 0.06610754822318213, 0.33053774111591067, 0.057293208460091186, 0.057293208460091186, 0.9934329228279495, 0.9869489725544723, 0.9872730016189265, 0.24910773860894833, 0.42285515293283665, 0.0533802297019175, 0.25224775212082584, 0.020933423412516666, 0.4208136102277433, 0.19155314874166093, 0.10558047568438003, 0.12669657082125604, 0.15535412850701633, 0.9968094706376515, 0.9875648027425082, 0.1960497617107341, 0.43294322377787114, 0.02042185017820147, 0.347171453029425, 0.013816348771823025, 0.9809607627994347, 0.9952205283645077, 0.9907363585917961, 0.9949105339323597, 0.9901073703010274, 0.9660605287259426, 0.981876539554859, 0.9950154221434957, 0.9785559079507433, 0.013591054277093657, 0.9818077671863727, 0.9271333178293983, 0.06760347109172697, 0.9867208837346075, 0.22780641172812216, 0.4935805587442647, 0.2733676940737466, 0.9981092305517238, 0.21791112361639717, 0.20509282222719735, 0.5704144118193927, 0.9722328409296022, 0.871875651817981, 0.12549725291319425, 0.994530950314277, 0.9723069095667939, 0.7616792793397374, 0.10563435260916067, 0.13065301506922503, 0.9920303906998704, 0.0019446830041524236, 0.0029170245062286357, 0.18085551938617542, 0.006806390514533483, 0.7418965660841497, 0.06320219763495377, 0.0029170245062286357, 0.9970250533896151, 0.9882029296089694, 0.3282014708594996, 0.6644078556424016, 0.6834916481545532, 0.010336357628046173, 0.010336357628046173, 0.13954082797862333, 0.14858514090316374, 0.0064602235175288585, 0.9896543969022358, 0.9874972629174786, 0.9865856285440273, 0.22525174083114513, 0.31954316722557796, 0.3221623735143122, 0.08119539495076161, 0.04452650690848217, 0.005238412577468491, 0.39264761694949374, 0.28072469809940437, 0.1284361363853484, 0.09907930521155449, 0.09724450326319237], \"Term\": [\"24\", \"24\", \"24\", \"able\", \"able\", \"account\", \"afternoon\", \"ago\", \"ago\", \"amazing\", \"arrived\", \"asked\", \"ate\", \"away\", \"awesome\", \"baby\", \"bank\", \"beach\", \"beautiful\", \"beautiful\", \"beautiful\", \"beautiful\", \"beautiful\", \"bed\", \"best\", \"big\", \"big\", \"big\", \"bike\", \"bike\", \"bird\", \"birthday\", \"blessed\", \"bonus\", \"book\", \"bos\", \"bought\", \"break\", \"breakfast\", \"bright\", \"bus\", \"business\", \"cake\", \"called\", \"came\", \"came\", \"came\", \"car\", \"car\", \"card\", \"care\", \"care\", \"care\", \"cat\", \"caught\", \"celebrate\", \"change\", \"chat\", \"cheese\", \"chicken\", \"child\", \"child\", \"childhood\", \"chocolate\", \"church\", \"city\", \"city\", \"class\", \"cleaned\", \"close\", \"colleague\", \"college\", \"company\", \"competition\", \"complete\", \"completed\", \"computer\", \"conversation\", \"cooked\", \"cooked\", \"cooked\", \"cream\", \"cup\", \"customer\", \"cute\", \"dad\", \"daily\", \"dance\", \"date\", \"daughter\", \"daughter\", \"daughter\", \"day\", \"day\", \"day\", \"day\", \"day\", \"day\", \"delicious\", \"dinner\", \"dinner\", \"discussion\", \"dish\", \"doctor\", \"dog\", \"dollar\", \"dress\", \"drink\", \"drive\", \"drive\", \"earlier\", \"eat\", \"eat\", \"eating\", \"eating\", \"enjoyed\", \"enjoyed\", \"enjoying\", \"entire\", \"episode\", \"evening\", \"event\", \"event\", \"exam\", \"excited\", \"experience\", \"extra\", \"eye\", \"face\", \"family\", \"family\", \"family\", \"father\", \"father\", \"favorite\", \"favourite\", \"feel\", \"feel\", \"feel\", \"feel\", \"feeling\", \"felt\", \"felt\", \"felt\", \"finally\", \"finally\", \"finally\", \"finally\", \"finally\", \"finished\", \"finished\", \"fixed\", \"food\", \"food\", \"friend\", \"friend\", \"friend\", \"fun\", \"fun\", \"fun\", \"function\", \"game\", \"garden\", \"gave\", \"gave\", \"getting\", \"gift\", \"gift\", \"girlfriend\", \"goal\", \"going\", \"going\", \"going\", \"going\", \"good\", \"good\", \"good\", \"good\", \"got\", \"got\", \"got\", \"got\", \"grade\", \"grandma\", \"grandpa\", \"great\", \"great\", \"great\", \"grocery\", \"happiest\", \"happiness\", \"happiness\", \"happy\", \"happy\", \"happy\", \"happy\", \"happy\", \"happy\", \"hard\", \"help\", \"home\", \"home\", \"home\", \"home\", \"home\", \"hot\", \"hour\", \"hour\", \"hour\", \"hour\", \"house\", \"house\", \"hug\", \"husband\", \"husband\", \"husband\", \"ice\", \"important\", \"issue\", \"itas\", \"job\", \"joke\", \"kid\", \"kid\", \"kiss\", \"large\", \"learned\", \"leave\", \"left\", \"let\", \"let\", \"level\", \"life\", \"life\", \"life\", \"life\", \"like\", \"like\", \"like\", \"liked\", \"living\", \"living\", \"long\", \"long\", \"long\", \"long\", \"long\", \"look\", \"look\", \"looking\", \"looking\", \"looking\", \"lost\", \"lot\", \"lot\", \"love\", \"love\", \"love\", \"love\", \"loved\", \"lunch\", \"lying\", \"make\", \"make\", \"make\", \"make\", \"make\", \"making\", \"man\", \"man\", \"match\", \"meal\", \"meal\", \"meet\", \"meet\", \"meet\", \"member\", \"member\", \"member\", \"met\", \"met\", \"met\", \"mobile\", \"mom\", \"mom\", \"moment\", \"moment\", \"moment\", \"moment\", \"money\", \"money\", \"money\", \"money\", \"month\", \"month\", \"month\", \"month\", \"morning\", \"morning\", \"morning\", \"morning\", \"morning\", \"morning\", \"mother\", \"movie\", \"movie\", \"mturk\", \"music\", \"near\", \"need\", \"nephew\", \"new\", \"new\", \"new\", \"nice\", \"nice\", \"nice\", \"niece\", \"night\", \"night\", \"night\", \"night\", \"office\", \"office\", \"office\", \"office\", \"old\", \"old\", \"order\", \"ordered\", \"outside\", \"paid\", \"parent\", \"parent\", \"park\", \"park\", \"park\", \"partner\", \"party\", \"past\", \"past\", \"past\", \"people\", \"people\", \"people\", \"people\", \"phone\", \"photo\", \"place\", \"place\", \"play\", \"play\", \"played\", \"played\", \"playing\", \"positive\", \"positive\", \"positive\", \"pound\", \"prepared\", \"prepared\", \"price\", \"problem\", \"project\", \"project\", \"promotion\", \"proud\", \"purchase\", \"purchased\", \"raise\", \"ran\", \"read\", \"read\", \"reading\", \"reading\", \"reading\", \"realized\", \"really\", \"really\", \"really\", \"really\", \"really\", \"received\", \"received\", \"relative\", \"relax\", \"research\", \"rest\", \"restaurant\", \"result\", \"right\", \"right\", \"road\", \"room\", \"running\", \"salary\", \"sale\", \"sat\", \"saw\", \"saw\", \"saw\", \"saw\", \"say\", \"say\", \"school\", \"school\", \"school\", \"school\", \"season\", \"second\", \"seeing\", \"send\", \"sent\", \"sent\", \"shared\", \"shopping\", \"shopping\", \"shopping\", \"shopping\", \"sister\", \"sister\", \"sister\", \"sister\", \"sleep\", \"smile\", \"smile\", \"sofa\", \"son\", \"son\", \"son\", \"song\", \"special\", \"spending\", \"spent\", \"started\", \"state\", \"stopped\", \"store\", \"store\", \"story\", \"street\", \"student\", \"summer\", \"sun\", \"surprise\", \"surprised\", \"sweet\", \"taking\", \"taking\", \"taking\", \"taking\", \"talked\", \"talked\", \"task\", \"tax\", \"tea\", \"teacher\", \"teacher\", \"team\", \"team\", \"tell\", \"temple\", \"temple\", \"test\", \"thing\", \"thing\", \"thing\", \"thing\", \"thing\", \"think\", \"thought\", \"ticket\", \"time\", \"time\", \"time\", \"time\", \"time\", \"today\", \"today\", \"today\", \"today\", \"today\", \"told\", \"tonight\", \"took\", \"took\", \"took\", \"took\", \"town\", \"town\", \"trip\", \"trying\", \"tv\", \"uncle\", \"university\", \"variety\", \"video\", \"walk\", \"walk\", \"want\", \"wanted\", \"wanted\", \"warm\", \"watch\", \"watch\", \"watch\", \"watched\", \"watching\", \"watching\", \"watching\", \"water\", \"way\", \"way\", \"weather\", \"wedding\", \"week\", \"week\", \"week\", \"weekend\", \"went\", \"went\", \"went\", \"went\", \"went\", \"went\", \"went\", \"wife\", \"win\", \"woke\", \"woke\", \"work\", \"work\", \"work\", \"work\", \"work\", \"work\", \"worked\", \"workout\", \"world\", \"year\", \"year\", \"year\", \"year\", \"year\", \"year\", \"yesterday\", \"yesterday\", \"yesterday\", \"yesterday\", \"yesterday\"]}, \"tinfo\": {\"Total\": [1059.0, 1028.0, 723.0, 1209.0, 399.0, 301.0, 438.0, 302.0, 955.0, 342.0, 241.0, 367.0, 258.0, 773.0, 470.0, 198.0, 253.0, 253.0, 190.0, 259.0, 376.0, 390.0, 227.0, 215.0, 233.0, 2194.0, 273.0, 197.0, 342.0, 284.0, 273.8145837678541, 123.27713294179708, 121.97206974136685, 115.3223646428908, 108.82767342334479, 96.72257980372486, 66.96974812893394, 61.87463617312714, 61.87698570575589, 59.97168489103914, 58.8426817044929, 57.56951388279233, 57.03764206356063, 69.7181614403963, 50.20653947281318, 50.98575656570095, 49.61699714684543, 46.55374761380426, 46.33781687900805, 42.70776463282246, 41.14240778140546, 38.17535459238153, 39.01949101717077, 39.42476446758621, 42.59060967968201, 38.781522290715095, 36.43696484920965, 36.05798236942897, 35.78828372776081, 35.74768166818414, 99.91897032802274, 221.44900211865203, 46.350674986642076, 222.28220509353858, 100.73864002681712, 103.54497908106129, 417.05752413000624, 470.9240648580899, 359.7314610389785, 773.9670286071746, 140.40461061945575, 359.2140422966939, 314.1055791575653, 2194.6394684146003, 441.35903939673733, 481.2022554716027, 891.0123952132177, 1209.3359258334447, 268.44731231491414, 177.27297423277454, 663.0013697727264, 193.58946512390486, 375.01087590410106, 545.0179518790428, 322.0474425919516, 955.4099014708437, 585.1700153037455, 342.4281789233971, 376.73526768513534, 226.9029846540263, 253.21843168214932, 253.35004987897554, 233.41120675737648, 157.87922877543335, 146.93002189962925, 137.79252599657397, 124.60590405816457, 109.32518232243847, 90.46039511138473, 131.29943161686916, 71.0394979219602, 67.42263130956255, 61.278941738134606, 60.78511056603036, 55.052659858507866, 56.02600868290578, 51.7973412614894, 43.81754996850856, 43.45408246594152, 43.012582321020304, 41.11313988677593, 41.139273624849366, 41.61630361078107, 39.88463809307771, 39.050795709452196, 38.55605425941258, 37.34965403970537, 37.331498006629204, 36.55135873228478, 35.8005335569699, 723.3863421152985, 62.66160890872724, 64.93816230940523, 367.4475514454414, 179.51014997766305, 48.35473475367784, 159.69633236078127, 177.21146290170157, 353.7078313696187, 72.60017816799552, 1209.3359258334447, 98.8513806498506, 113.97477904295916, 124.9232670792989, 2194.6394684146003, 441.35903939673733, 545.0179518790428, 381.7950515395482, 1059.37858389591, 291.4447687080759, 663.0013697727264, 400.7250622314304, 481.2022554716027, 256.7099070421336, 359.2140422966939, 258.867676389089, 199.69978519405376, 162.17820531509122, 138.7894556745956, 143.14708118871957, 127.63621263920948, 114.0164114686538, 103.85720324609277, 100.66156618757462, 71.03698700633271, 71.02662248496421, 64.20627163895158, 62.164451754385, 57.44698496857954, 55.169795313483455, 55.02684052468672, 54.917697195239626, 52.88336966350579, 52.56484706421621, 48.826477293167436, 48.13856664565228, 42.90647636849669, 42.49674090870745, 41.63191857371684, 40.47235834917187, 38.18895518906352, 38.21305248798053, 37.26403507497499, 35.18601904846883, 33.97674564076344, 54.91300462540425, 48.082187237570864, 115.65042150379658, 144.08473287141805, 1059.37858389591, 284.3171953839598, 147.99882257142465, 188.1645867772869, 376.73526768513534, 76.28449611466712, 955.4099014708437, 242.48105798492364, 232.91637177495977, 166.6145291192427, 1209.3359258334447, 381.7950515395482, 1028.4452508349482, 538.043041715905, 2194.6394684146003, 585.1700153037455, 331.8167341717907, 362.9631310886334, 891.0123952132177, 226.9029846540263, 227.945694264423, 160.9751406516314, 124.24841573827896, 92.20334843094177, 91.55845132037585, 97.78704928365845, 72.03509135297597, 67.50401139523109, 82.10133784285638, 71.46934470209453, 62.2087903376324, 59.75614363892267, 53.00768985001847, 48.39568765283514, 48.42114203041845, 46.48795612197204, 46.43011190725156, 45.30958764792068, 44.402473315620334, 44.6219244822593, 43.787221764562375, 42.97281936782321, 42.70552567721471, 41.495590097828924, 40.76624565181309, 40.50644138680782, 40.345884628759165, 38.20840575575569, 37.23035623811165, 72.24974974854169, 259.12397750080845, 51.03492535364096, 61.94863283136144, 151.39773627668325, 390.3827305352422, 183.63497748712373, 273.366988387379, 187.87550272028454, 81.70080446754382, 71.55921931685498, 342.4281789233971, 97.32537487247228, 385.35238262023245, 70.01485688089494, 89.8857068770811, 224.8960767822244, 244.8357987337044, 322.0474425919516, 2194.6394684146003, 470.9240648580899, 773.9670286071746, 538.043041715905, 585.1700153037455, 891.0123952132177, 367.4475514454414, 663.0013697727264, 117.17763451688303, 104.02931298907453, 86.47292472177317, 80.95584977427816, 76.30071646076163, 73.05081054892572, 62.895852772759575, 58.76738625511458, 53.5924720014031, 47.652444150262816, 47.57837254714484, 45.40986360149989, 44.93406758417539, 43.85816827462396, 49.502964039822444, 72.37802233535055, 40.05380521831433, 39.570498045601376, 147.15561863149918, 38.51130220614054, 37.67950402758857, 37.960457545153304, 37.43598016260942, 37.49793949831072, 84.59815070513845, 45.9455892974122, 35.527030337074144, 36.17282493384959, 34.47004968430945, 33.6173189110911, 154.3673240465028, 93.76160731290241, 38.620486450276985, 438.80284644892396, 1028.4452508349482, 150.84289523363358, 66.00047933613928, 229.66763208643098, 112.93830794718842, 138.8734190504506, 331.8167341717907, 79.49716354126244, 362.9631310886334, 256.7099070421336, 955.4099014708437, 243.0105401165496, 91.89128013879167, 400.7250622314304, 891.0123952132177, 131.69076222404047, 390.3827305352422, 481.2022554716027, 284.3171953839598, 302.528652600227, 241.79409811961668, 399.4446107795855, 197.373187192252, 154.18365854276323, 138.66273460695373, 119.2473862013433, 105.16848504802707, 111.88030410225052, 215.08685602260257, 82.59508145471683, 82.22046623763337, 79.49188843541666, 74.32271641918882, 62.98603785940435, 61.236461865758024, 58.74768164924172, 55.26009162780342, 175.7626824388416, 44.57004187696312, 42.104452406132225, 42.50139191210387, 41.25028136906353, 38.68227361216919, 37.26474576854664, 36.099067007740594, 34.50036546268031, 33.406368206915026, 32.685238165161365, 31.416410014559386, 65.963919072432, 342.9808037445509, 118.97723854838289, 63.324997826802225, 58.15587485544623, 71.35365819781543, 134.70519803710508, 243.0105401165496, 100.72628184714364, 585.1700153037455, 375.01087590410106, 156.02691333854239, 538.043041715905, 2194.6394684146003, 773.9670286071746, 244.8357987337044, 663.0013697727264, 438.80284644892396, 1028.4452508349482, 301.1661858026022, 198.63374680152356, 190.9944643331433, 110.19940832066492, 95.83055736088049, 93.88570894606457, 96.91879761887887, 85.2257016300275, 81.63640146055744, 75.54907316751154, 71.55925384545407, 72.15806893556936, 65.67949397634122, 62.679060010606825, 62.54759404186188, 60.1408609472818, 58.18120438414518, 52.796961542959636, 51.872563660293046, 51.310483146795605, 50.68544708092804, 50.08184922884794, 46.55858738088571, 46.34943505638934, 42.98726985814143, 42.89340114860893, 44.82519721527093, 35.64602940392843, 35.479793165040476, 34.59425617662693, 45.21511562797457, 111.29456923433696, 143.52854284606497, 170.47613865540234, 224.8960767822244, 58.23345490420973, 75.8235996603079, 538.043041715905, 2194.6394684146003, 291.4447687080759, 353.7078313696187, 342.9808037445509, 891.0123952132177], \"loglift\": [30.0, 29.0, 28.0, 27.0, 26.0, 25.0, 24.0, 23.0, 22.0, 21.0, 20.0, 19.0, 18.0, 17.0, 16.0, 15.0, 14.0, 13.0, 12.0, 11.0, 10.0, 9.0, 8.0, 7.0, 6.0, 5.0, 4.0, 3.0, 2.0, 1.0, 1.5317, 1.5279, 1.5278, 1.5274, 1.5269, 1.526, 1.522, 1.521, 1.521, 1.5205, 1.5201, 1.5199, 1.5198, 1.5192, 1.5177, 1.5177, 1.5175, 1.5163, 1.516, 1.5147, 1.5136, 1.5122, 1.5122, 1.5121, 1.5118, 1.5116, 1.5112, 1.5109, 1.5108, 1.5106, 1.5083, 1.4974, 1.509, 1.4798, 1.4773, 1.4564, 1.3129, 1.234, 1.2624, 1.1547, 1.3374, 1.192, 1.2103, 0.8484, 1.0897, 1.0721, 0.8887, 0.7098, 1.093, 1.1554, 0.6699, 1.0713, 0.7758, 0.6017, 0.825, 0.1467, 0.2777, 0.5757, 0.4598, 0.8206, 1.8966, 1.8966, 1.8963, 1.8945, 1.8942, 1.8938, 1.8931, 1.8921, 1.8905, 1.8897, 1.8879, 1.8873, 1.886, 1.8859, 1.8844, 1.8842, 1.8834, 1.8803, 1.8802, 1.8799, 1.8791, 1.8791, 1.8789, 1.8784, 1.8777, 1.8776, 1.8769, 1.8766, 1.8764, 1.8757, 1.8689, 1.8734, 1.8639, 1.6465, 1.6844, 1.8496, 1.5798, 1.5327, 1.343, 1.7303, 0.9617, 1.6395, 1.573, 1.4906, 0.0565, 0.7712, 0.632, 0.7606, 0.122, 0.8335, 0.2462, 0.5435, 0.4035, 0.769, 0.4397, 1.8995, 1.8985, 1.8973, 1.8966, 1.8966, 1.8956, 1.8952, 1.8945, 1.8943, 1.8907, 1.8906, 1.8894, 1.889, 1.8879, 1.8872, 1.8872, 1.8871, 1.8866, 1.886, 1.8851, 1.8849, 1.8827, 1.8825, 1.8822, 1.8816, 1.8803, 1.8801, 1.8797, 1.8783, 1.8773, 1.8732, 1.873, 1.8511, 1.8182, 1.7157, 1.6521, 1.699, 1.632, 1.478, 1.7576, 1.0421, 1.3989, 1.2611, 1.2601, 0.1273, 0.7711, 0.1932, 0.5132, -0.4906, 0.3656, 0.6043, 0.3958, -0.5041, 0.7927, 1.941, 1.9392, 1.937, 1.9355, 1.9354, 1.934, 1.9327, 1.9321, 1.9321, 1.9317, 1.931, 1.9303, 1.9286, 1.9271, 1.927, 1.9263, 1.9262, 1.9259, 1.9255, 1.9254, 1.9252, 1.9248, 1.9248, 1.9241, 1.9237, 1.9236, 1.9236, 1.9223, 1.9217, 1.9212, 1.8928, 1.9167, 1.8958, 1.8049, 1.5993, 1.693, 1.6229, 1.6458, 1.8003, 1.8208, 1.4514, 1.7151, 1.3215, 1.8042, 1.6977, 1.1669, 1.11, 0.8644, -0.3149, 0.5905, -0.0224, 0.212, 0.0974, -0.3457, 0.4388, -0.1167, 2.0432, 2.0419, 2.0416, 2.0409, 2.0402, 2.0397, 2.0379, 2.0369, 2.0353, 2.0335, 2.0335, 2.0327, 2.0325, 2.032, 2.0312, 2.0307, 2.03, 2.0295, 2.0289, 2.0288, 2.0287, 2.0287, 2.0286, 2.0284, 2.0279, 2.0278, 2.0274, 2.0269, 2.0266, 2.0259, 2.0253, 1.9993, 2.0232, 1.853, 1.7528, 1.8933, 1.9733, 1.7856, 1.8752, 1.7138, 1.4608, 1.8183, 1.3031, 1.3485, 0.6756, 1.2573, 1.6783, 0.7672, 0.1914, 1.3439, 0.2602, 0.0369, 0.5337, 2.0819, 2.0813, 2.0809, 2.0804, 2.079, 2.0785, 2.0776, 2.0767, 2.0764, 2.0753, 2.0744, 2.0744, 2.074, 2.073, 2.0711, 2.0708, 2.0702, 2.067, 2.0668, 2.0656, 2.0644, 2.0641, 2.0639, 2.0626, 2.0616, 2.0599, 2.0598, 2.0591, 2.0579, 2.0574, 2.0412, 1.8956, 1.9624, 2.012, 1.9889, 1.9423, 1.8192, 1.4778, 1.7559, 1.0116, 1.1509, 1.5274, 0.8375, -0.3308, 0.1785, 1.0258, 0.2186, 0.3514, -0.6724, 2.4068, 2.4055, 2.4047, 2.401, 2.4009, 2.4006, 2.4006, 2.3998, 2.3994, 2.3986, 2.3979, 2.3971, 2.3968, 2.3962, 2.3962, 2.3956, 2.3952, 2.3937, 2.3934, 2.3933, 2.3931, 2.3929, 2.3913, 2.3911, 2.3898, 2.3884, 2.3873, 2.3859, 2.3854, 2.3852, 2.3783, 2.2176, 2.0592, 1.9078, 1.7888, 2.2164, 2.0293, 0.5735, -0.5224, 0.8882, 0.6553, 0.609, -0.4262], \"logprob\": [30.0, 29.0, 28.0, 27.0, 26.0, 25.0, 24.0, 23.0, 22.0, 21.0, 20.0, 19.0, 18.0, 17.0, 16.0, 15.0, 14.0, 13.0, 12.0, 11.0, 10.0, 9.0, 8.0, 7.0, 6.0, 5.0, 4.0, 3.0, 2.0, 1.0, -3.9407, -4.7425, -4.7532, -4.8096, -4.8681, -4.987, -5.3585, -5.4387, -5.4387, -5.4704, -5.4898, -5.5119, -5.5213, -5.3212, -5.6509, -5.6356, -5.663, -5.7279, -5.7328, -5.8158, -5.8542, -5.9304, -5.9086, -5.8983, -5.8214, -5.9153, -5.978, -5.9887, -5.9964, -5.9977, -4.9722, -4.1873, -5.7396, -4.2011, -4.995, -4.9884, -3.7387, -3.6961, -3.9371, -3.2786, -4.8029, -4.0089, -4.1248, -2.5427, -3.9053, -3.8364, -3.4038, -3.2772, -4.3992, -4.7518, -3.9181, -4.7478, -4.382, -4.1823, -4.4852, -4.076, -4.4353, -4.6731, -4.6935, -4.8396, -3.654, -3.6535, -3.7357, -4.1284, -4.2007, -4.2653, -4.3665, -4.4983, -4.6894, -4.3177, -4.9337, -4.9866, -5.0834, -5.0916, -5.1922, -5.1748, -5.2541, -5.4244, -5.4329, -5.4434, -5.4894, -5.4888, -5.4775, -5.5205, -5.5423, -5.5551, -5.5876, -5.5884, -5.6097, -5.6312, -2.632, -5.0737, -5.0475, -3.5317, -4.2102, -5.3567, -4.4317, -4.3748, -3.8734, -5.0696, -3.0253, -4.8517, -4.7759, -4.7665, -3.3346, -4.2238, -4.152, -4.3794, -3.9974, -4.5764, -4.3419, -4.548, -4.505, -4.7679, -4.7612, -3.629, -3.8895, -4.0988, -4.2553, -4.2244, -4.3401, -4.4532, -4.5473, -4.5788, -4.9309, -4.9312, -5.0333, -5.0661, -5.1461, -5.1872, -5.1898, -5.1918, -5.2302, -5.2367, -5.3114, -5.3258, -5.4431, -5.4529, -5.4738, -5.5026, -5.562, -5.5615, -5.5871, -5.6459, -5.6818, -5.2059, -5.3389, -4.4831, -4.2962, -2.4037, -3.7827, -4.3886, -4.2155, -3.6752, -4.9928, -3.1806, -4.195, -4.373, -4.709, -3.8597, -4.3689, -3.9558, -4.2837, -3.8817, -4.3473, -4.6759, -4.7947, -4.7965, -4.8676, -3.7147, -4.0644, -4.3255, -4.6253, -4.6324, -4.568, -4.875, -4.9405, -4.7448, -4.8839, -5.0233, -5.0643, -5.1857, -5.2783, -5.2779, -5.3193, -5.3206, -5.3454, -5.366, -5.3612, -5.3803, -5.3995, -5.4057, -5.4352, -5.4532, -5.4597, -5.4638, -5.5194, -5.546, -4.8835, -3.6347, -5.2356, -5.0628, -4.26, -3.5184, -4.1789, -3.8511, -4.2033, -4.8815, -4.9935, -3.7973, -4.7917, -3.8091, -5.0319, -4.8886, -4.5023, -4.4742, -4.4457, -3.706, -4.3396, -4.4557, -4.5848, -4.6155, -4.6382, -4.7395, -4.7047, -4.278, -4.3982, -4.5834, -4.65, -4.7099, -4.7539, -4.9055, -4.9743, -5.0681, -5.1874, -5.1889, -5.2364, -5.2472, -5.2719, -5.1516, -4.7722, -5.3646, -5.3772, -4.0644, -5.4051, -5.427, -5.4196, -5.4336, -5.4321, -4.619, -5.2296, -5.4871, -5.4696, -5.5181, -5.5438, -4.0201, -4.5447, -5.4078, -3.1478, -2.3962, -4.1752, -4.9219, -3.8625, -4.4828, -4.4375, -3.8194, -4.8908, -3.8874, -4.1884, -3.547, -4.3344, -4.8859, -4.3244, -4.1011, -4.8605, -4.8575, -4.8716, -4.901, -3.2907, -3.5155, -3.0138, -3.7194, -3.9677, -4.0742, -4.226, -4.3526, -4.291, -3.6385, -4.5964, -4.601, -4.6351, -4.7034, -4.8708, -4.8993, -4.9413, -5.0058, -3.8489, -5.2222, -5.2803, -5.2711, -5.3013, -5.3668, -5.4051, -5.4386, -5.484, -5.517, -5.5399, -5.5801, -4.8545, -3.3515, -4.3435, -4.9245, -5.0328, -4.8749, -4.3625, -4.1139, -4.7166, -3.7014, -4.007, -4.5074, -3.9594, -3.7218, -4.2548, -4.5584, -4.3694, -4.6493, -4.8214, -2.9703, -3.3879, -3.4279, -3.9815, -4.1213, -4.1422, -4.1104, -4.2397, -4.2832, -4.3615, -4.4164, -4.4089, -4.5032, -4.5505, -4.5527, -4.5925, -4.626, -4.7246, -4.7426, -4.7537, -4.7661, -4.7783, -4.8528, -4.8575, -4.9341, -4.9377, -4.8947, -5.1252, -5.1304, -5.1559, -4.8951, -4.155, -4.0591, -4.0384, -3.8804, -4.804, -4.7271, -4.2234, -3.9134, -4.5217, -4.5611, -4.6381, -4.7187], \"Term\": [\"friend\", \"went\", \"new\", \"got\", \"dinner\", \"getting\", \"family\", \"favorite\", \"time\", \"husband\", \"dog\", \"old\", \"game\", \"work\", \"able\", \"told\", \"birthday\", \"job\", \"girlfriend\", \"like\", \"daughter\", \"great\", \"lunch\", \"received\", \"bought\", \"happy\", \"wife\", \"watched\", \"feel\", \"lot\", \"wife\", \"happiest\", \"weekend\", \"baby\", \"seeing\", \"sleep\", \"shared\", \"paid\", \"exam\", \"left\", \"card\", \"uncle\", \"want\", \"special\", \"problem\", \"need\", \"tonight\", \"extra\", \"niece\", \"grandma\", \"water\", \"account\", \"drink\", \"change\", \"salary\", \"earlier\", \"grade\", \"leave\", \"raise\", \"bank\", \"24\", \"house\", \"result\", \"past\", \"ago\", \"wanted\", \"moment\", \"able\", \"week\", \"work\", \"child\", \"came\", \"hour\", \"happy\", \"month\", \"home\", \"day\", \"got\", \"felt\", \"sister\", \"today\", \"money\", \"night\", \"yesterday\", \"make\", \"time\", \"good\", \"feel\", \"daughter\", \"thing\", \"job\", \"birthday\", \"bought\", \"mother\", \"phone\", \"party\", \"cat\", \"book\", \"tv\", \"gift\", \"face\", \"surprise\", \"promotion\", \"dad\", \"ordered\", \"hug\", \"date\", \"nephew\", \"celebrate\", \"bright\", \"sofa\", \"wedding\", \"computer\", \"room\", \"caught\", \"blessed\", \"dress\", \"kiss\", \"fixed\", \"mobile\", \"new\", \"city\", \"read\", \"old\", \"car\", \"reading\", \"big\", \"gave\", \"son\", \"father\", \"got\", \"talked\", \"mom\", \"woke\", \"happy\", \"month\", \"yesterday\", \"year\", \"friend\", \"finally\", \"today\", \"morning\", \"home\", \"saw\", \"came\", \"game\", \"best\", \"started\", \"class\", \"playing\", \"video\", \"evening\", \"college\", \"spent\", \"cake\", \"breakfast\", \"amazing\", \"dollar\", \"cream\", \"ice\", \"large\", \"bonus\", \"chocolate\", \"mturk\", \"close\", \"relative\", \"dance\", \"partner\", \"chat\", \"childhood\", \"level\", \"task\", \"relax\", \"ran\", \"function\", \"living\", \"let\", \"play\", \"played\", \"friend\", \"lot\", \"people\", \"met\", \"daughter\", \"meet\", \"time\", \"school\", \"love\", \"fun\", \"got\", \"year\", \"went\", \"really\", \"happy\", \"good\", \"nice\", \"long\", \"day\", \"thing\", \"lunch\", \"feeling\", \"help\", \"thought\", \"away\", \"hard\", \"song\", \"colleague\", \"world\", \"think\", \"conversation\", \"asked\", \"complete\", \"lying\", \"break\", \"street\", \"trying\", \"important\", \"itas\", \"tell\", \"eye\", \"grandpa\", \"discussion\", \"second\", \"rest\", \"workout\", \"cleaned\", \"story\", \"photo\", \"say\", \"like\", \"right\", \"man\", \"way\", \"great\", \"office\", \"going\", \"event\", \"bike\", \"look\", \"feel\", \"smile\", \"life\", \"care\", \"looking\", \"happiness\", \"took\", \"make\", \"happy\", \"able\", \"work\", \"really\", \"good\", \"day\", \"old\", \"today\", \"bed\", \"outside\", \"weather\", \"lost\", \"experience\", \"afternoon\", \"road\", \"beach\", \"garden\", \"enjoying\", \"music\", \"tax\", \"pound\", \"bird\", \"sat\", \"town\", \"spending\", \"entire\", \"walk\", \"hot\", \"bus\", \"sweet\", \"realized\", \"warm\", \"member\", \"near\", \"tea\", \"joke\", \"cup\", \"issue\", \"place\", \"park\", \"sun\", \"family\", \"went\", \"parent\", \"temple\", \"enjoyed\", \"beautiful\", \"shopping\", \"nice\", \"drive\", \"long\", \"saw\", \"time\", \"movie\", \"taking\", \"morning\", \"day\", \"watch\", \"great\", \"home\", \"lot\", \"favorite\", \"dog\", \"dinner\", \"watched\", \"ate\", \"trip\", \"called\", \"restaurant\", \"delicious\", \"received\", \"summer\", \"company\", \"excited\", \"bos\", \"surprised\", \"dish\", \"ticket\", \"match\", \"food\", \"sale\", \"awesome\", \"win\", \"business\", \"episode\", \"university\", \"stopped\", \"favourite\", \"competition\", \"season\", \"customer\", \"meal\", \"husband\", \"eat\", \"cooked\", \"eating\", \"prepared\", \"finished\", \"movie\", \"team\", \"good\", \"night\", \"watching\", \"really\", \"happy\", \"work\", \"took\", \"today\", \"family\", \"went\", \"getting\", \"told\", \"girlfriend\", \"completed\", \"cute\", \"purchased\", \"making\", \"loved\", \"state\", \"goal\", \"student\", \"proud\", \"worked\", \"research\", \"test\", \"doctor\", \"learned\", \"order\", \"church\", \"chicken\", \"grocery\", \"price\", \"send\", \"arrived\", \"running\", \"purchase\", \"liked\", \"variety\", \"daily\", \"cheese\", \"teacher\", \"store\", \"project\", \"kid\", \"happiness\", \"sent\", \"positive\", \"really\", \"happy\", \"finally\", \"son\", \"husband\", \"day\"], \"Category\": [\"Default\", \"Default\", \"Default\", \"Default\", \"Default\", \"Default\", \"Default\", \"Default\", \"Default\", \"Default\", \"Default\", \"Default\", \"Default\", \"Default\", \"Default\", \"Default\", \"Default\", \"Default\", \"Default\", \"Default\", \"Default\", \"Default\", \"Default\", \"Default\", \"Default\", \"Default\", \"Default\", \"Default\", \"Default\", \"Default\", \"Topic1\", \"Topic1\", \"Topic1\", \"Topic1\", \"Topic1\", \"Topic1\", \"Topic1\", \"Topic1\", \"Topic1\", \"Topic1\", \"Topic1\", \"Topic1\", \"Topic1\", \"Topic1\", \"Topic1\", \"Topic1\", \"Topic1\", \"Topic1\", \"Topic1\", \"Topic1\", \"Topic1\", \"Topic1\", \"Topic1\", \"Topic1\", \"Topic1\", \"Topic1\", \"Topic1\", \"Topic1\", \"Topic1\", \"Topic1\", \"Topic1\", \"Topic1\", \"Topic1\", \"Topic1\", \"Topic1\", \"Topic1\", \"Topic1\", \"Topic1\", \"Topic1\", \"Topic1\", \"Topic1\", \"Topic1\", \"Topic1\", \"Topic1\", \"Topic1\", \"Topic1\", \"Topic1\", \"Topic1\", \"Topic1\", \"Topic1\", \"Topic1\", \"Topic1\", \"Topic1\", \"Topic1\", \"Topic1\", \"Topic1\", \"Topic1\", \"Topic1\", \"Topic1\", \"Topic1\", \"Topic2\", \"Topic2\", \"Topic2\", \"Topic2\", \"Topic2\", \"Topic2\", \"Topic2\", \"Topic2\", \"Topic2\", \"Topic2\", \"Topic2\", \"Topic2\", \"Topic2\", \"Topic2\", \"Topic2\", \"Topic2\", \"Topic2\", \"Topic2\", \"Topic2\", \"Topic2\", \"Topic2\", \"Topic2\", \"Topic2\", \"Topic2\", \"Topic2\", \"Topic2\", \"Topic2\", \"Topic2\", \"Topic2\", \"Topic2\", \"Topic2\", \"Topic2\", \"Topic2\", \"Topic2\", \"Topic2\", \"Topic2\", \"Topic2\", \"Topic2\", \"Topic2\", \"Topic2\", \"Topic2\", \"Topic2\", \"Topic2\", \"Topic2\", \"Topic2\", \"Topic2\", \"Topic2\", \"Topic2\", \"Topic2\", \"Topic2\", \"Topic2\", \"Topic2\", \"Topic2\", \"Topic2\", \"Topic2\", \"Topic3\", \"Topic3\", \"Topic3\", \"Topic3\", \"Topic3\", \"Topic3\", \"Topic3\", \"Topic3\", \"Topic3\", \"Topic3\", \"Topic3\", \"Topic3\", \"Topic3\", \"Topic3\", \"Topic3\", \"Topic3\", \"Topic3\", \"Topic3\", \"Topic3\", \"Topic3\", \"Topic3\", \"Topic3\", \"Topic3\", \"Topic3\", \"Topic3\", \"Topic3\", \"Topic3\", \"Topic3\", \"Topic3\", \"Topic3\", \"Topic3\", \"Topic3\", \"Topic3\", \"Topic3\", \"Topic3\", \"Topic3\", \"Topic3\", \"Topic3\", \"Topic3\", \"Topic3\", \"Topic3\", \"Topic3\", \"Topic3\", \"Topic3\", \"Topic3\", \"Topic3\", \"Topic3\", \"Topic3\", \"Topic3\", \"Topic3\", \"Topic3\", \"Topic3\", \"Topic3\", \"Topic3\", \"Topic4\", \"Topic4\", \"Topic4\", \"Topic4\", \"Topic4\", \"Topic4\", \"Topic4\", \"Topic4\", \"Topic4\", \"Topic4\", \"Topic4\", \"Topic4\", \"Topic4\", \"Topic4\", \"Topic4\", \"Topic4\", \"Topic4\", \"Topic4\", \"Topic4\", \"Topic4\", \"Topic4\", \"Topic4\", \"Topic4\", \"Topic4\", \"Topic4\", \"Topic4\", \"Topic4\", \"Topic4\", \"Topic4\", \"Topic4\", \"Topic4\", \"Topic4\", \"Topic4\", \"Topic4\", \"Topic4\", \"Topic4\", \"Topic4\", \"Topic4\", \"Topic4\", \"Topic4\", \"Topic4\", \"Topic4\", \"Topic4\", \"Topic4\", \"Topic4\", \"Topic4\", \"Topic4\", \"Topic4\", \"Topic4\", \"Topic4\", \"Topic4\", \"Topic4\", \"Topic4\", \"Topic4\", \"Topic4\", \"Topic4\", \"Topic5\", \"Topic5\", \"Topic5\", \"Topic5\", \"Topic5\", \"Topic5\", \"Topic5\", \"Topic5\", \"Topic5\", \"Topic5\", \"Topic5\", \"Topic5\", \"Topic5\", \"Topic5\", \"Topic5\", \"Topic5\", \"Topic5\", \"Topic5\", \"Topic5\", \"Topic5\", \"Topic5\", \"Topic5\", \"Topic5\", \"Topic5\", \"Topic5\", \"Topic5\", \"Topic5\", \"Topic5\", \"Topic5\", \"Topic5\", \"Topic5\", \"Topic5\", \"Topic5\", \"Topic5\", \"Topic5\", \"Topic5\", \"Topic5\", \"Topic5\", \"Topic5\", \"Topic5\", \"Topic5\", \"Topic5\", \"Topic5\", \"Topic5\", \"Topic5\", \"Topic5\", \"Topic5\", \"Topic5\", \"Topic5\", \"Topic5\", \"Topic5\", \"Topic5\", \"Topic5\", \"Topic6\", \"Topic6\", \"Topic6\", \"Topic6\", \"Topic6\", \"Topic6\", \"Topic6\", \"Topic6\", \"Topic6\", \"Topic6\", \"Topic6\", \"Topic6\", \"Topic6\", \"Topic6\", \"Topic6\", \"Topic6\", \"Topic6\", \"Topic6\", \"Topic6\", \"Topic6\", \"Topic6\", \"Topic6\", \"Topic6\", \"Topic6\", \"Topic6\", \"Topic6\", \"Topic6\", \"Topic6\", \"Topic6\", \"Topic6\", \"Topic6\", \"Topic6\", \"Topic6\", \"Topic6\", \"Topic6\", \"Topic6\", \"Topic6\", \"Topic6\", \"Topic6\", \"Topic6\", \"Topic6\", \"Topic6\", \"Topic6\", \"Topic6\", \"Topic6\", \"Topic6\", \"Topic6\", \"Topic6\", \"Topic6\", \"Topic7\", \"Topic7\", \"Topic7\", \"Topic7\", \"Topic7\", \"Topic7\", \"Topic7\", \"Topic7\", \"Topic7\", \"Topic7\", \"Topic7\", \"Topic7\", \"Topic7\", \"Topic7\", \"Topic7\", \"Topic7\", \"Topic7\", \"Topic7\", \"Topic7\", \"Topic7\", \"Topic7\", \"Topic7\", \"Topic7\", \"Topic7\", \"Topic7\", \"Topic7\", \"Topic7\", \"Topic7\", \"Topic7\", \"Topic7\", \"Topic7\", \"Topic7\", \"Topic7\", \"Topic7\", \"Topic7\", \"Topic7\", \"Topic7\", \"Topic7\", \"Topic7\", \"Topic7\", \"Topic7\", \"Topic7\", \"Topic7\"], \"Freq\": [1059.0, 1028.0, 723.0, 1209.0, 399.0, 301.0, 438.0, 302.0, 955.0, 342.0, 241.0, 367.0, 258.0, 773.0, 470.0, 198.0, 253.0, 253.0, 190.0, 259.0, 376.0, 390.0, 227.0, 215.0, 233.0, 2194.0, 273.0, 197.0, 342.0, 284.0, 272.94753979493026, 122.42330985119082, 121.11370493988684, 114.46990111591633, 107.96820065413654, 95.86959800238128, 66.11698818712256, 61.02246595385132, 61.022690257559404, 59.11753322912464, 57.98213884859696, 56.714737460022135, 56.18367849635712, 68.63238302849837, 49.35384109067625, 50.11756522301068, 48.762525926756965, 45.698008622384314, 45.473798156903506, 41.85484566514557, 40.27793942830687, 37.32076960145192, 38.144187764378295, 38.53685235131029, 41.61872722553621, 37.889577508154694, 35.584713229654014, 35.205821804620115, 34.936173723446636, 34.892100715764634, 97.29916078953279, 213.30186466567463, 45.16783607576058, 210.3662668776198, 95.10265503661606, 95.73559729086558, 334.0430419567455, 348.5741581033805, 273.940089657408, 529.1788386337207, 115.2423450930129, 254.95104497824582, 227.04803589164837, 1104.6681223142505, 282.78473177603985, 302.94979172926986, 466.9193805358802, 529.919970540771, 172.56816360905563, 121.29177320966123, 279.1708653856332, 121.77689905478664, 175.5538243870286, 214.36476148168921, 158.3501626649693, 238.40768441133858, 166.45123199170297, 131.22223952652072, 128.56612826786727, 111.08675206441995, 252.3679360932821, 252.49230804528713, 232.56143092695197, 157.02683425135564, 146.08012561840744, 136.942027167035, 123.7564602560825, 108.47490888532498, 89.61065385084035, 129.95443803362502, 70.18681556680464, 66.5718394879231, 60.42966984647141, 59.93580723957533, 54.201323086679224, 55.14896409736877, 50.946377974053156, 42.96689787341904, 42.60472650957295, 42.15971982738035, 40.263484432120414, 40.28871821357077, 40.748043148356786, 39.032341486575184, 38.190845481680185, 37.7039281559357, 36.498964915936874, 36.46960560262389, 35.701684062944686, 34.94171385796425, 701.2566345521903, 61.01756669900711, 62.63605664980951, 285.1865187890452, 144.7010168361027, 45.97976592793723, 115.94690178020447, 122.73669408760566, 202.6494308016281, 61.268678988298475, 473.2182526481634, 76.18141423998169, 82.1851319059607, 82.95898494894347, 347.3403233899041, 142.74496114731878, 153.37618142568144, 122.17833644869532, 179.01268826118147, 100.32631582814221, 126.8480490823159, 103.2201309746197, 107.75258125333707, 82.84787623790785, 83.3998736423975, 258.019214473174, 198.8511414188513, 161.2964928776093, 137.9405575047271, 142.26773883959748, 126.72257056967015, 113.16585571096321, 103.00786277791387, 99.81200589640893, 70.18859862977473, 70.16726603733025, 63.356556371001915, 61.31514937351512, 56.598856841119236, 54.32144092889709, 54.177980925360345, 54.06789443883238, 52.03574913141025, 51.69493111024588, 47.974266310789275, 47.28874290378215, 42.056522573299226, 41.645537777801465, 40.784149698226365, 39.62494147617898, 37.34001854242605, 37.35955495208937, 36.4153827671209, 34.3370728521402, 33.12456187188303, 53.31482357864424, 46.672801766658395, 109.83251674119113, 132.4104325723048, 878.6797686752358, 221.27765121170606, 120.71637595259487, 143.53627688463015, 246.37585962601327, 65.97816739543883, 404.03356354554063, 146.5152150281291, 122.61558120620681, 87.62303821867829, 204.87058416972323, 123.12507917218026, 186.1048666488949, 134.07780061938442, 200.41530320492345, 125.80708354364998, 90.57617853507331, 80.43030805902505, 80.28311688048535, 74.7780875813407, 227.09935371759505, 160.0963293015982, 123.29686937457646, 91.359209816588, 90.71340510314745, 96.75214065219804, 71.17676262037186, 66.66114293299158, 81.0739872152912, 70.54731287469733, 61.36449662827429, 58.901107405976575, 52.16416423300393, 47.55089469156102, 47.57304269885316, 45.64015698308305, 45.58204243866543, 44.4657915620187, 43.55946668105562, 43.77039438276036, 42.94239870578398, 42.12621286067465, 41.86315706266005, 40.64845632039944, 39.9205606843931, 39.66323924993582, 39.50291648987274, 37.36400531848531, 36.38553528933893, 70.57087495654359, 246.01898652492494, 49.62702784005067, 58.99065141145077, 131.64754978725693, 276.35887309699336, 142.77667366982016, 198.15134261620304, 139.33158677228528, 70.7144439302021, 63.22181081882802, 209.10362497926712, 77.35922617786049, 206.64533487155867, 60.8373090363468, 70.21245494672416, 103.31942063323474, 106.26643778383549, 109.33694423595801, 229.0989309819325, 121.5770583764988, 108.2475340437694, 95.13462946666019, 92.25994903219853, 90.19357275759506, 81.50651020633829, 84.38923526177474, 116.2270643291083, 103.05929510259105, 85.63478981394697, 80.11649440356682, 75.4586648729058, 72.21090198284458, 62.056274239255, 57.92649722764944, 52.74132181322491, 46.81186721655855, 46.738947702816965, 44.57087286431437, 44.09534035940126, 43.018258965126435, 48.51578368836952, 70.9041102858783, 39.209625709894624, 38.718377233500696, 143.89161475597572, 37.653690493160575, 36.83828215384705, 37.11250311817642, 36.59476715708585, 36.649255006083585, 82.64263677645084, 44.87715414299374, 34.688023246020016, 35.29952402448457, 33.63028564771631, 32.77520821741219, 150.40941365962308, 89.01436590260819, 37.549837087385676, 359.86021769220895, 763.0653265153211, 128.80165767752365, 61.04496441622737, 176.08385727208727, 94.70287423234998, 99.08850000706782, 183.84219852747165, 62.9712846033035, 171.75825519586505, 127.11909711998831, 241.40158067981642, 109.84518499730954, 63.27977013171729, 110.95594081164337, 138.7199488269288, 64.91128008038578, 65.10378849954814, 64.19117641936857, 62.332917051201214, 301.6659214483195, 240.94388624824907, 397.90096327468365, 196.50078523762895, 153.29527558659098, 137.79937293850645, 118.3966651053464, 104.31932800541615, 110.94316929468941, 213.0499973071839, 81.74385449021314, 81.37009753650351, 78.64111906824404, 73.44901428681561, 62.12851857837793, 60.38389865259629, 57.897896467146936, 54.28497758033897, 172.63020279234703, 43.72056076572355, 41.25330467455029, 41.632432255866334, 40.396957755431764, 37.83353996367746, 36.411864803676906, 35.21182646318169, 33.64864291459625, 32.55735863442037, 31.819338552211725, 30.566833425730984, 63.1499832536694, 283.8580788478429, 105.26876421890914, 58.87874862983753, 52.83894969815419, 61.87538635810122, 103.2899853337913, 132.443638338531, 72.4911882603198, 200.06951722083195, 147.38264025627961, 89.35635195879333, 154.57007486364745, 196.02022455443043, 115.03662903162142, 84.90946305744295, 102.5737673200011, 77.53168911282634, 65.27671857301213, 300.31498743703696, 197.7973079237187, 190.04481738427646, 109.2523238649884, 94.992964737443, 93.03406841549344, 96.03909007285058, 84.3901300921489, 80.8011375050162, 74.71442803350733, 70.72429297586882, 71.25454217008499, 64.84216453907428, 61.84299817719601, 61.70964534169528, 59.30230773227814, 57.34608684544414, 51.96186055957049, 51.03501839157551, 50.475765981163754, 49.85089847050307, 49.247085763321685, 45.70918894723863, 45.49772619821707, 42.1403634105194, 41.990223982972985, 43.83430960596133, 34.81040034876537, 34.63014390113861, 33.758776725330435, 43.81953386104894, 91.84458241117872, 101.09202536851154, 103.20855401923527, 120.87377849145878, 47.9980499585276, 51.833892279095934, 85.77934963062877, 116.94926073259316, 63.650314430995415, 61.195815533107734, 56.65862548370051, 52.272259150994905]}};\n",
       "\n",
       "function LDAvis_load_lib(url, callback){\n",
       "  var s = document.createElement('script');\n",
       "  s.src = url;\n",
       "  s.async = true;\n",
       "  s.onreadystatechange = s.onload = callback;\n",
       "  s.onerror = function(){console.warn(\"failed to load library \" + url);};\n",
       "  document.getElementsByTagName(\"head\")[0].appendChild(s);\n",
       "}\n",
       "\n",
       "if(typeof(LDAvis) !== \"undefined\"){\n",
       "   // already loaded: just create the visualization\n",
       "   !function(LDAvis){\n",
       "       new LDAvis(\"#\" + \"ldavis_el599750352980329689146719\", ldavis_el599750352980329689146719_data);\n",
       "   }(LDAvis);\n",
       "}else if(typeof define === \"function\" && define.amd){\n",
       "   // require.js is available: use it to load d3/LDAvis\n",
       "   require.config({paths: {d3: \"https://cdnjs.cloudflare.com/ajax/libs/d3/3.5.5/d3.min\"}});\n",
       "   require([\"d3\"], function(d3){\n",
       "      window.d3 = d3;\n",
       "      LDAvis_load_lib(\"https://cdn.rawgit.com/bmabey/pyLDAvis/files/ldavis.v1.0.0.js\", function(){\n",
       "        new LDAvis(\"#\" + \"ldavis_el599750352980329689146719\", ldavis_el599750352980329689146719_data);\n",
       "      });\n",
       "    });\n",
       "}else{\n",
       "    // require.js not available: dynamically load d3 & LDAvis\n",
       "    LDAvis_load_lib(\"https://cdnjs.cloudflare.com/ajax/libs/d3/3.5.5/d3.min.js\", function(){\n",
       "         LDAvis_load_lib(\"https://cdn.rawgit.com/bmabey/pyLDAvis/files/ldavis.v1.0.0.js\", function(){\n",
       "                 new LDAvis(\"#\" + \"ldavis_el599750352980329689146719\", ldavis_el599750352980329689146719_data);\n",
       "            })\n",
       "         });\n",
       "}\n",
       "</script>"
      ],
      "text/plain": [
       "PreparedData(topic_coordinates=            Freq  cluster  topics         x         y\n",
       "topic                                                \n",
       "2      21.548685        1       1  0.104602  0.098148\n",
       "4      14.957557        1       2  0.105442  0.252255\n",
       "6      14.916020        1       3  0.127998  0.022060\n",
       "5      14.303295        1       4  0.019760  0.023820\n",
       "3      12.856693        1       5  0.089165 -0.288299\n",
       "1      12.433265        1       6 -0.044589 -0.161834\n",
       "0       8.984484        1       7 -0.402379  0.053851, topic_info=     Category         Freq        Term        Total  loglift  logprob\n",
       "term                                                                 \n",
       "324   Default  1059.000000      friend  1059.000000  30.0000  30.0000\n",
       "967   Default  1028.000000        went  1028.000000  29.0000  29.0000\n",
       "568   Default   723.000000         new   723.000000  28.0000  28.0000\n",
       "350   Default  1209.000000         got  1209.000000  27.0000  27.0000\n",
       "223   Default   399.000000      dinner   399.000000  26.0000  26.0000\n",
       "335   Default   301.000000     getting   301.000000  25.0000  25.0000\n",
       "286   Default   438.000000      family   438.000000  24.0000  24.0000\n",
       "291   Default   302.000000    favorite   302.000000  23.0000  23.0000\n",
       "898   Default   955.000000        time   955.000000  22.0000  22.0000\n",
       "415   Default   342.000000     husband   342.000000  21.0000  21.0000\n",
       "230   Default   241.000000         dog   241.000000  20.0000  20.0000\n",
       "582   Default   367.000000         old   367.000000  19.0000  19.0000\n",
       "332   Default   258.000000        game   258.000000  18.0000  18.0000\n",
       "980   Default   773.000000        work   773.000000  17.0000  17.0000\n",
       "10    Default   470.000000        able   470.000000  16.0000  16.0000\n",
       "901   Default   198.000000        told   198.000000  15.0000  15.0000\n",
       "78    Default   253.000000    birthday   253.000000  14.0000  14.0000\n",
       "440   Default   253.000000         job   253.000000  13.0000  13.0000\n",
       "339   Default   190.000000  girlfriend   190.000000  12.0000  12.0000\n",
       "481   Default   259.000000        like   259.000000  11.0000  11.0000\n",
       "210   Default   376.000000    daughter   376.000000  10.0000  10.0000\n",
       "359   Default   390.000000       great   390.000000   9.0000   9.0000\n",
       "505   Default   227.000000       lunch   227.000000   8.0000   8.0000\n",
       "690   Default   215.000000    received   215.000000   7.0000   7.0000\n",
       "92    Default   233.000000      bought   233.000000   6.0000   6.0000\n",
       "378   Default  2194.000000       happy  2194.000000   5.0000   5.0000\n",
       "969   Default   273.000000        wife   273.000000   4.0000   4.0000\n",
       "957   Default   197.000000     watched   197.000000   3.0000   3.0000\n",
       "293   Default   342.000000        feel   342.000000   2.0000   2.0000\n",
       "498   Default   284.000000         lot   284.000000   1.0000   1.0000\n",
       "...       ...          ...         ...          ...      ...      ...\n",
       "715    Topic7    61.842998    research    62.679060   2.3962  -4.5505\n",
       "886    Topic7    61.709645        test    62.547594   2.3962  -4.5527\n",
       "229    Topic7    59.302308      doctor    60.140861   2.3956  -4.5925\n",
       "469    Topic7    57.346087     learned    58.181204   2.3952  -4.6260\n",
       "589    Topic7    51.961861       order    52.796962   2.3937  -4.7246\n",
       "145    Topic7    51.035018      church    51.872564   2.3934  -4.7426\n",
       "137    Topic7    50.475766     chicken    51.310483   2.3933  -4.7537\n",
       "362    Topic7    49.850898     grocery    50.685447   2.3931  -4.7661\n",
       "650    Topic7    49.247086       price    50.081849   2.3929  -4.7783\n",
       "760    Topic7    45.709189        send    46.558587   2.3913  -4.8528\n",
       "36     Topic7    45.497726     arrived    46.349435   2.3911  -4.8575\n",
       "734    Topic7    42.140363     running    42.987270   2.3898  -4.9341\n",
       "667    Topic7    41.990224    purchase    42.893401   2.3884  -4.9377\n",
       "482    Topic7    43.834310       liked    44.825197   2.3873  -4.8947\n",
       "937    Topic7    34.810400     variety    35.646029   2.3859  -5.1252\n",
       "207    Topic7    34.630144       daily    35.479793   2.3854  -5.1304\n",
       "136    Topic7    33.758777      cheese    34.594256   2.3852  -5.1559\n",
       "877    Topic7    43.819534     teacher    45.215116   2.3783  -4.8951\n",
       "833    Topic7    91.844582       store   111.294569   2.2176  -4.1550\n",
       "659    Topic7   101.092025     project   143.528543   2.0592  -4.0591\n",
       "447    Topic7   103.208554         kid   170.476139   1.9078  -4.0384\n",
       "377    Topic7   120.873778   happiness   224.896077   1.7888  -3.8804\n",
       "763    Topic7    47.998050        sent    58.233455   2.2164  -4.8040\n",
       "639    Topic7    51.833892    positive    75.823600   2.0293  -4.7271\n",
       "687    Topic7    85.779350      really   538.043042   0.5735  -4.2234\n",
       "378    Topic7   116.949261       happy  2194.639468  -0.5224  -3.9134\n",
       "301    Topic7    63.650314     finally   291.444769   0.8882  -4.5217\n",
       "802    Topic7    61.195816         son   353.707831   0.6553  -4.5611\n",
       "415    Topic7    56.658625     husband   342.980804   0.6090  -4.6381\n",
       "211    Topic7    52.272259         day   891.012395  -0.4262  -4.7187\n",
       "\n",
       "[400 rows x 6 columns], token_table=      Topic      Freq       Term\n",
       "term                            \n",
       "6         1  0.970787         24\n",
       "6         3  0.010008         24\n",
       "6         4  0.010008         24\n",
       "10        1  0.741096       able\n",
       "10        4  0.259065       able\n",
       "15        1  0.969212    account\n",
       "17        5  0.985615  afternoon\n",
       "19        1  0.943034        ago\n",
       "19        4  0.049633        ago\n",
       "22        3  0.981213    amazing\n",
       "36        7  0.970886    arrived\n",
       "39        4  0.987346      asked\n",
       "43        6  0.992323        ate\n",
       "50        4  0.993901       away\n",
       "51        6  0.973769    awesome\n",
       "53        1  0.988533       baby\n",
       "58        1  0.979084       bank\n",
       "63        5  0.986942      beach\n",
       "66        2  0.123961  beautiful\n",
       "66        4  0.017709  beautiful\n",
       "66        5  0.841167  beautiful\n",
       "66        6  0.017709  beautiful\n",
       "66        7  0.008854  beautiful\n",
       "68        5  0.989950        bed\n",
       "71        3  0.996496       best\n",
       "74        2  0.726379        big\n",
       "74        3  0.212904        big\n",
       "74        5  0.056357        big\n",
       "75        1  0.122398       bike\n",
       "75        4  0.869024       bike\n",
       "...     ...       ...        ...\n",
       "967       2  0.002917       went\n",
       "967       3  0.180856       went\n",
       "967       4  0.006806       went\n",
       "967       5  0.741897       went\n",
       "967       6  0.063202       went\n",
       "967       7  0.002917       went\n",
       "969       1  0.997025       wife\n",
       "970       6  0.988203        win\n",
       "976       1  0.328201       woke\n",
       "976       2  0.664408       woke\n",
       "980       1  0.683492       work\n",
       "980       2  0.010336       work\n",
       "980       3  0.010336       work\n",
       "980       4  0.139541       work\n",
       "980       6  0.148585       work\n",
       "980       7  0.006460       work\n",
       "981       7  0.989654     worked\n",
       "984       4  0.987497    workout\n",
       "985       4  0.986586      world\n",
       "991       1  0.225252       year\n",
       "991       2  0.319543       year\n",
       "991       3  0.322162       year\n",
       "991       4  0.081195       year\n",
       "991       5  0.044527       year\n",
       "991       6  0.005238       year\n",
       "993       1  0.392648  yesterday\n",
       "993       2  0.280725  yesterday\n",
       "993       3  0.128436  yesterday\n",
       "993       5  0.099079  yesterday\n",
       "993       6  0.097245  yesterday\n",
       "\n",
       "[550 rows x 3 columns], R=30, lambda_step=0.01, plot_opts={'ylab': 'PC2', 'xlab': 'PC1'}, topic_order=[3, 5, 7, 6, 4, 2, 1])"
      ]
     },
     "execution_count": 53,
     "metadata": {},
     "output_type": "execute_result"
    }
   ],
   "source": [
    "import pyLDAvis\n",
    "import pyLDAvis.sklearn\n",
    "pyLDAvis.enable_notebook()\n",
    "pyLDAvis.sklearn.prepare(lda, tf, tf_vectorizer)"
   ]
  },
  {
   "cell_type": "markdown",
   "metadata": {},
   "source": [
    "### Below will attempt to create interactive T-SNE plot for LDA"
   ]
  },
  {
   "cell_type": "code",
   "execution_count": 87,
   "metadata": {},
   "outputs": [],
   "source": [
    "import bokeh as bp\n",
    "from sklearn.manifold import TSNE\n",
    "import IPython.display\n",
    "from IPython.core.display import display, HTML, Javascript"
   ]
  },
  {
   "cell_type": "code",
   "execution_count": 100,
   "metadata": {},
   "outputs": [
    {
     "ename": "NameError",
     "evalue": "name 'tokenize' is not defined",
     "output_type": "error",
     "traceback": [
      "\u001b[0;31m---------------------------------------------------------------------------\u001b[0m",
      "\u001b[0;31mNameError\u001b[0m                                 Traceback (most recent call last)",
      "\u001b[0;32m<ipython-input-100-0441720f6bd7>\u001b[0m in \u001b[0;36m<module>\u001b[0;34m()\u001b[0m\n\u001b[1;32m      2\u001b[0m vectorizer = TfidfVectorizer(min_df=10,\n\u001b[1;32m      3\u001b[0m                              \u001b[0mmax_features\u001b[0m\u001b[0;34m=\u001b[0m\u001b[0;36m180000\u001b[0m\u001b[0;34m,\u001b[0m\u001b[0;34m\u001b[0m\u001b[0m\n\u001b[0;32m----> 4\u001b[0;31m                              \u001b[0mtokenizer\u001b[0m\u001b[0;34m=\u001b[0m\u001b[0mtokenize\u001b[0m\u001b[0;34m,\u001b[0m\u001b[0;34m\u001b[0m\u001b[0m\n\u001b[0m\u001b[1;32m      5\u001b[0m                              ngram_range=(1, 2))\n",
      "\u001b[0;31mNameError\u001b[0m: name 'tokenize' is not defined"
     ]
    }
   ],
   "source": [
    "from sklearn.feature_extraction.text import TfidfVectorizer\n",
    "vectorizer = TfidfVectorizer(min_df=10,\n",
    "                             max_features=180000,\n",
    "                             tokenizer=tokenize,\n",
    "                             ngram_range=(1, 2))"
   ]
  },
  {
   "cell_type": "code",
   "execution_count": null,
   "metadata": {},
   "outputs": [],
   "source": []
  },
  {
   "cell_type": "code",
   "execution_count": null,
   "metadata": {},
   "outputs": [],
   "source": []
  },
  {
   "cell_type": "code",
   "execution_count": null,
   "metadata": {},
   "outputs": [],
   "source": []
  },
  {
   "cell_type": "code",
   "execution_count": null,
   "metadata": {},
   "outputs": [],
   "source": []
  },
  {
   "cell_type": "code",
   "execution_count": null,
   "metadata": {},
   "outputs": [],
   "source": []
  },
  {
   "cell_type": "code",
   "execution_count": 96,
   "metadata": {},
   "outputs": [],
   "source": [
    "tsne_model = TSNE(n_components=2, verbose=1, random_state=42, n_iter=500)"
   ]
  },
  {
   "cell_type": "code",
   "execution_count": 91,
   "metadata": {},
   "outputs": [],
   "source": [
    "lda_model = LatentDirichletAllocation(n_components=7,\n",
    "                                      learning_method='online',\n",
    "                                      max_iter=20,\n",
    "                                      random_state=42)"
   ]
  },
  {
   "cell_type": "code",
   "execution_count": 92,
   "metadata": {},
   "outputs": [],
   "source": [
    "X_topics = lda_model.fit_transform(tf)"
   ]
  },
  {
   "cell_type": "code",
   "execution_count": 94,
   "metadata": {},
   "outputs": [
    {
     "name": "stdout",
     "output_type": "stream",
     "text": [
      "Topic 0: happy | feel | month | going | saw | received | moment | friend | old | year\n",
      "Topic 1: went | daughter | day | nice | husband | morning | took | love | time | long\n",
      "Topic 2: happy | finally | yesterday | work | felt | got | car | happiness | week | able\n",
      "Topic 3: family | lunch | went | able | happy | watching | mother | dinner | parent | child\n",
      "Topic 4: friend | time | night | game | dog | movie | happy | went | good | best\n",
      "Topic 5: got | work | home | happy | good | hour | wife | dinner | son | girlfriend\n",
      "Topic 6: new | got | favorite | job | happy | birthday | bought | yesterday | moment | house\n"
     ]
    }
   ],
   "source": [
    "n_top_words = 10\n",
    "topic_summaries = []\n",
    "\n",
    "topic_word = lda_model.components_  # get the topic words\n",
    "vocab = tf_vectorizer.get_feature_names()\n",
    "\n",
    "for i, topic_dist in enumerate(topic_word):\n",
    "    topic_words = np.array(vocab)[np.argsort(topic_dist)][:-(n_top_words+1):-1]\n",
    "    topic_summaries.append(' '.join(topic_words))\n",
    "    print('Topic {}: {}'.format(i, ' | '.join(topic_words)))"
   ]
  },
  {
   "cell_type": "code",
   "execution_count": 97,
   "metadata": {},
   "outputs": [
    {
     "name": "stdout",
     "output_type": "stream",
     "text": [
      "[t-SNE] Computing 91 nearest neighbors...\n",
      "[t-SNE] Indexed 10000 samples in 0.011s...\n",
      "[t-SNE] Computed neighbors for 10000 samples in 0.577s...\n",
      "[t-SNE] Computed conditional probabilities for sample 1000 / 10000\n",
      "[t-SNE] Computed conditional probabilities for sample 2000 / 10000\n",
      "[t-SNE] Computed conditional probabilities for sample 3000 / 10000\n",
      "[t-SNE] Computed conditional probabilities for sample 4000 / 10000\n",
      "[t-SNE] Computed conditional probabilities for sample 5000 / 10000\n",
      "[t-SNE] Computed conditional probabilities for sample 6000 / 10000\n",
      "[t-SNE] Computed conditional probabilities for sample 7000 / 10000\n",
      "[t-SNE] Computed conditional probabilities for sample 8000 / 10000\n",
      "[t-SNE] Computed conditional probabilities for sample 9000 / 10000\n",
      "[t-SNE] Computed conditional probabilities for sample 10000 / 10000\n",
      "[t-SNE] Mean sigma: 0.000000\n",
      "[t-SNE] KL divergence after 250 iterations with early exaggeration: 83.929672\n",
      "[t-SNE] Error after 500 iterations: 1.287231\n"
     ]
    }
   ],
   "source": [
    "tsne_lda = tsne_model.fit_transform(X_topics)"
   ]
  },
  {
   "cell_type": "code",
   "execution_count": 98,
   "metadata": {},
   "outputs": [
    {
     "ename": "NameError",
     "evalue": "name 'combined_sample' is not defined",
     "output_type": "error",
     "traceback": [
      "\u001b[0;31m---------------------------------------------------------------------------\u001b[0m",
      "\u001b[0;31mNameError\u001b[0m                                 Traceback (most recent call last)",
      "\u001b[0;32m<ipython-input-98-24e20b2179b6>\u001b[0m in \u001b[0;36m<module>\u001b[0;34m()\u001b[0m\n\u001b[1;32m      3\u001b[0m \u001b[0;34m\u001b[0m\u001b[0m\n\u001b[1;32m      4\u001b[0m \u001b[0mlda_keys\u001b[0m \u001b[0;34m=\u001b[0m \u001b[0;34m[\u001b[0m\u001b[0;34m]\u001b[0m\u001b[0;34m\u001b[0m\u001b[0m\n\u001b[0;32m----> 5\u001b[0;31m \u001b[0;32mfor\u001b[0m \u001b[0mi\u001b[0m\u001b[0;34m,\u001b[0m \u001b[0mtweet\u001b[0m \u001b[0;32min\u001b[0m \u001b[0menumerate\u001b[0m\u001b[0;34m(\u001b[0m\u001b[0mcombined_sample\u001b[0m\u001b[0;34m[\u001b[0m\u001b[0;34m'item_description'\u001b[0m\u001b[0;34m]\u001b[0m\u001b[0;34m)\u001b[0m\u001b[0;34m:\u001b[0m\u001b[0;34m\u001b[0m\u001b[0m\n\u001b[0m\u001b[1;32m      6\u001b[0m     \u001b[0mlda_keys\u001b[0m \u001b[0;34m+=\u001b[0m \u001b[0;34m[\u001b[0m\u001b[0mdoc_topic\u001b[0m\u001b[0;34m[\u001b[0m\u001b[0mi\u001b[0m\u001b[0;34m]\u001b[0m\u001b[0;34m.\u001b[0m\u001b[0margmax\u001b[0m\u001b[0;34m(\u001b[0m\u001b[0;34m)\u001b[0m\u001b[0;34m]\u001b[0m\u001b[0;34m\u001b[0m\u001b[0m\n\u001b[1;32m      7\u001b[0m \u001b[0;34m\u001b[0m\u001b[0m\n",
      "\u001b[0;31mNameError\u001b[0m: name 'combined_sample' is not defined"
     ]
    }
   ],
   "source": [
    "unnormalized = np.matrix(X_topics)\n",
    "doc_topic = unnormalized/unnormalized.sum(axis=1)\n",
    "\n",
    "lda_keys = []\n",
    "for i, tweet in enumerate(combined_sample['item_description']):\n",
    "    lda_keys += [doc_topic[i].argmax()]\n",
    "\n",
    "lda_df = pd.DataFrame(tsne_lda, columns=['x','y'])\n",
    "lda_df['description'] = combined_sample['item_description']\n",
    "lda_df['category'] = combined_sample['general_cat']\n",
    "lda_df['topic'] = lda_keys\n",
    "lda_df['topic'] = lda_df['topic'].map(int)"
   ]
  },
  {
   "cell_type": "code",
   "execution_count": null,
   "metadata": {},
   "outputs": [],
   "source": []
  },
  {
   "cell_type": "code",
   "execution_count": null,
   "metadata": {},
   "outputs": [],
   "source": []
  },
  {
   "cell_type": "code",
   "execution_count": null,
   "metadata": {},
   "outputs": [],
   "source": []
  },
  {
   "cell_type": "markdown",
   "metadata": {},
   "source": [
    "## Following the LDA, I attempted to establish a word cloud from the corpus. \n",
    "\n",
    "## QUESTION - HOW CAN I MAKE A BETTER ONE? \n",
    "\n",
    "## HAVE SOME code that tries to only show the top words from the count vectorizer to make the world cloud less croweded...... but it didn't work."
   ]
  },
  {
   "cell_type": "code",
   "execution_count": 54,
   "metadata": {},
   "outputs": [],
   "source": [
    "from wordcloud import WordCloud, STOPWORDS \n",
    "import matplotlib.pyplot as plt \n",
    "from subprocess import check_output"
   ]
  },
  {
   "cell_type": "code",
   "execution_count": 55,
   "metadata": {},
   "outputs": [
    {
     "data": {
      "text/plain": [
       "pandas.core.series.Series"
      ]
     },
     "execution_count": 55,
     "metadata": {},
     "output_type": "execute_result"
    }
   ],
   "source": [
    "type(df_small['cleaned_hm'])"
   ]
  },
  {
   "cell_type": "code",
   "execution_count": 56,
   "metadata": {},
   "outputs": [],
   "source": [
    "df_small_a = df_small"
   ]
  },
  {
   "cell_type": "code",
   "execution_count": 57,
   "metadata": {},
   "outputs": [],
   "source": [
    "cleaned_hm_a = [str(i) for i in df_small_a['cleaned_hm']]"
   ]
  },
  {
   "cell_type": "code",
   "execution_count": 58,
   "metadata": {},
   "outputs": [],
   "source": [
    "letters_only = re.sub(\"[^a-zA-Z]\",  # Search for all non-letters\n",
    "                          \" \",          # Replace all non-letters with spaces\n",
    "                          str(df_small_a['cleaned_hm']))"
   ]
  },
  {
   "cell_type": "code",
   "execution_count": 83,
   "metadata": {},
   "outputs": [],
   "source": [
    "wordcloud = WordCloud(width = 20000, height = 2000, \n",
    "                background_color ='black',max_words=50,  \n",
    "                min_font_size = 10).generate(letters_only)"
   ]
  },
  {
   "cell_type": "code",
   "execution_count": 84,
   "metadata": {},
   "outputs": [],
   "source": [
    "import matplotlib.pyplot as plt"
   ]
  },
  {
   "cell_type": "code",
   "execution_count": null,
   "metadata": {},
   "outputs": [],
   "source": []
  },
  {
   "cell_type": "code",
   "execution_count": 85,
   "metadata": {},
   "outputs": [
    {
     "name": "stdout",
     "output_type": "stream",
     "text": [
      "<wordcloud.wordcloud.WordCloud object at 0x1118da4a8>\n"
     ]
    },
    {
     "data": {
      "image/png": "[encoded data removed]",
      "text/plain": [
       "<Figure size 1476x756 with 1 Axes>"
      ]
     },
     "metadata": {},
     "output_type": "display_data"
    }
   ],
   "source": [
    "print(wordcloud)\n",
    "fig = plt.figure(1)\n",
    "fig.set_size_inches(20.5, 10.5)\n",
    "#fig.savefig('test2png.png', dpi=100)\n",
    "plt.imshow(wordcloud)\n",
    "plt.axis('off')\n",
    "plt.show()"
   ]
  },
  {
   "cell_type": "code",
   "execution_count": 69,
   "metadata": {},
   "outputs": [
    {
     "data": {
      "text/plain": [
       "array([[0., 0., 0., ..., 0., 0., 0.],\n",
       "       [0., 0., 0., ..., 0., 0., 0.],\n",
       "       [0., 0., 0., ..., 0., 0., 0.],\n",
       "       ...,\n",
       "       [0., 0., 0., ..., 0., 0., 0.],\n",
       "       [0., 0., 0., ..., 0., 0., 0.],\n",
       "       [0., 0., 0., ..., 0., 0., 0.]])"
      ]
     },
     "execution_count": 69,
     "metadata": {},
     "output_type": "execute_result"
    }
   ],
   "source": [
    "dtm"
   ]
  },
  {
   "cell_type": "raw",
   "metadata": {},
   "source": [
    "import numpy as np\n",
    "from sklearn.feature_extraction.text import TfidfVectorizer\n",
    "\n",
    "vectorizer = TfidfVectorizer()\n",
    "dtm = vectorizer.fit_transform(lemma_books).toarray()\n",
    "vocab = np.array(vectorizer.get_feature_names())\n",
    "dtm.shape"
   ]
  },
  {
   "cell_type": "code",
   "execution_count": 70,
   "metadata": {},
   "outputs": [
    {
     "ename": "SyntaxError",
     "evalue": "invalid syntax (<ipython-input-70-90cec65a5c3d>, line 5)",
     "output_type": "error",
     "traceback": [
      "\u001b[0;36m  File \u001b[0;32m\"<ipython-input-70-90cec65a5c3d>\"\u001b[0;36m, line \u001b[0;32m5\u001b[0m\n\u001b[0;31m    vocab[tfidf_sorting][:n]\u001b[0m\n\u001b[0m        ^\u001b[0m\n\u001b[0;31mSyntaxError\u001b[0m\u001b[0;31m:\u001b[0m invalid syntax\n"
     ]
    }
   ],
   "source": [
    "n=30\n",
    "vocab = np.array(vectorizer.get_feature_names())\n",
    "tfidf_sorting = np.argsort(vocab.flatten()[::-1]\n",
    "\n",
    "vocab[tfidf_sorting][:n]"
   ]
  },
  {
   "cell_type": "code",
   "execution_count": 71,
   "metadata": {},
   "outputs": [
    {
     "data": {
      "text/plain": [
       "array(['00', '000', '00am', ..., 'zootopia', 'zumba', 'zverev'],\n",
       "      dtype='<U17')"
      ]
     },
     "execution_count": 71,
     "metadata": {},
     "output_type": "execute_result"
    }
   ],
   "source": [
    "vocab"
   ]
  },
  {
   "cell_type": "raw",
   "metadata": {},
   "source": [
    "from sklearn.feature_extraction.text import CountVectorizer\n",
    "# LDA can only use raw term counts for LDA because it is a probabilistic graphical model\n",
    "\n",
    "no_features = 1000\n",
    "\n",
    "tf_vectorizer = CountVectorizer(max_df=0.95, min_df=2, max_features=no_features, stop_words='english')\n",
    "tf = tf_vectorizer.fit_transform(lemma_books)\n",
    "tf_feature_names = tf_vectorizer.get_feature_names()"
   ]
  },
  {
   "cell_type": "code",
   "execution_count": 72,
   "metadata": {},
   "outputs": [],
   "source": [
    "def top_tfidf_feats(row, features, top_n=25):\n",
    "    ''' Get top n tfidf values in row and return them with their corresponding feature names.'''\n",
    "    topn_ids = np.argsort(row)[::-1][:top_n]\n",
    "    top_feats = [(features[i], row[i]) for i in topn_ids]\n",
    "    df1 = pd.DataFrame(top_feats)\n",
    "    df1.columns = ['feature', 'tfidf']\n",
    "    return df1"
   ]
  },
  {
   "cell_type": "code",
   "execution_count": 73,
   "metadata": {},
   "outputs": [
    {
     "data": {
      "text/plain": [
       "(10000, 1000)"
      ]
     },
     "execution_count": 73,
     "metadata": {},
     "output_type": "execute_result"
    }
   ],
   "source": [
    "tf.shape"
   ]
  },
  {
   "cell_type": "code",
   "execution_count": 75,
   "metadata": {},
   "outputs": [
    {
     "data": {
      "text/html": [
       "<div>\n",
       "<style scoped>\n",
       "    .dataframe tbody tr th:only-of-type {\n",
       "        vertical-align: middle;\n",
       "    }\n",
       "\n",
       "    .dataframe tbody tr th {\n",
       "        vertical-align: top;\n",
       "    }\n",
       "\n",
       "    .dataframe thead th {\n",
       "        text-align: right;\n",
       "    }\n",
       "</style>\n",
       "<table border=\"1\" class=\"dataframe\">\n",
       "  <thead>\n",
       "    <tr style=\"text-align: right;\">\n",
       "      <th></th>\n",
       "      <th>feature</th>\n",
       "      <th>tfidf</th>\n",
       "    </tr>\n",
       "  </thead>\n",
       "  <tbody>\n",
       "    <tr>\n",
       "      <th>0</th>\n",
       "      <td>00</td>\n",
       "      <td>(0, 702)\\t1\\n  (0, 9)\\t1\\n  (0, 265)\\t1\\n  (...</td>\n",
       "    </tr>\n",
       "  </tbody>\n",
       "</table>\n",
       "</div>"
      ],
      "text/plain": [
       "  feature                                              tfidf\n",
       "0      00    (0, 702)\\t1\\n  (0, 9)\\t1\\n  (0, 265)\\t1\\n  (..."
      ]
     },
     "execution_count": 75,
     "metadata": {},
     "output_type": "execute_result"
    }
   ],
   "source": [
    "top_tfidf_feats(tf[1000:,], tf_feature_names, top_n=25)"
   ]
  },
  {
   "cell_type": "code",
   "execution_count": 234,
   "metadata": {},
   "outputs": [],
   "source": [
    "def top_feats_in_doc(dtm, features,top_n=25):\n",
    "    row = np.squeeze(dtm[row_id].toarray())\n",
    "\n",
    "    return top_tfidf_feats(row, features, top_n)"
   ]
  },
  {
   "cell_type": "code",
   "execution_count": 239,
   "metadata": {},
   "outputs": [
    {
     "ename": "NameError",
     "evalue": "name 'row_id' is not defined",
     "output_type": "error",
     "traceback": [
      "\u001b[0;31m---------------------------------------------------------------------------\u001b[0m",
      "\u001b[0;31mNameError\u001b[0m                                 Traceback (most recent call last)",
      "\u001b[0;32m<ipython-input-239-464ce561b094>\u001b[0m in \u001b[0;36m<module>\u001b[0;34m()\u001b[0m\n\u001b[0;32m----> 1\u001b[0;31m \u001b[0mtop_feats_in_doc\u001b[0m\u001b[0;34m(\u001b[0m\u001b[0mtf\u001b[0m\u001b[0;34m,\u001b[0m\u001b[0mtf_feature_names\u001b[0m\u001b[0;34m,\u001b[0m\u001b[0mtop_n\u001b[0m\u001b[0;34m=\u001b[0m\u001b[0;36m25\u001b[0m\u001b[0;34m)\u001b[0m\u001b[0;34m\u001b[0m\u001b[0m\n\u001b[0m",
      "\u001b[0;32m<ipython-input-234-d80eac55fb2e>\u001b[0m in \u001b[0;36mtop_feats_in_doc\u001b[0;34m(dtm, features, top_n)\u001b[0m\n\u001b[1;32m      1\u001b[0m \u001b[0;32mdef\u001b[0m \u001b[0mtop_feats_in_doc\u001b[0m\u001b[0;34m(\u001b[0m\u001b[0mdtm\u001b[0m\u001b[0;34m,\u001b[0m \u001b[0mfeatures\u001b[0m\u001b[0;34m,\u001b[0m\u001b[0mtop_n\u001b[0m\u001b[0;34m=\u001b[0m\u001b[0;36m25\u001b[0m\u001b[0;34m)\u001b[0m\u001b[0;34m:\u001b[0m\u001b[0;34m\u001b[0m\u001b[0m\n\u001b[0;32m----> 2\u001b[0;31m     \u001b[0mrow\u001b[0m \u001b[0;34m=\u001b[0m \u001b[0mnp\u001b[0m\u001b[0;34m.\u001b[0m\u001b[0msqueeze\u001b[0m\u001b[0;34m(\u001b[0m\u001b[0mdtm\u001b[0m\u001b[0;34m[\u001b[0m\u001b[0mrow_id\u001b[0m\u001b[0;34m]\u001b[0m\u001b[0;34m.\u001b[0m\u001b[0mtoarray\u001b[0m\u001b[0;34m(\u001b[0m\u001b[0;34m)\u001b[0m\u001b[0;34m)\u001b[0m\u001b[0;34m\u001b[0m\u001b[0m\n\u001b[0m\u001b[1;32m      3\u001b[0m \u001b[0;34m\u001b[0m\u001b[0m\n\u001b[1;32m      4\u001b[0m     \u001b[0;32mreturn\u001b[0m \u001b[0mtop_tfidf_feats\u001b[0m\u001b[0;34m(\u001b[0m\u001b[0mrow\u001b[0m\u001b[0;34m,\u001b[0m \u001b[0mfeatures\u001b[0m\u001b[0;34m,\u001b[0m \u001b[0mtop_n\u001b[0m\u001b[0;34m)\u001b[0m\u001b[0;34m\u001b[0m\u001b[0m\n",
      "\u001b[0;31mNameError\u001b[0m: name 'row_id' is not defined"
     ]
    }
   ],
   "source": [
    "top_feats_in_doc(tf,tf_feature_names,top_n=25)"
   ]
  },
  {
   "cell_type": "markdown",
   "metadata": {},
   "source": [
    "## Following LDA and NFM, I attempt to use a cluster analyis to see if it can create better comparisons between the HM's. \n",
    "\n",
    "### It seems to do alright, more clusters will do better. \n",
    "\n",
    "\n",
    "#### Also hope to ask for interpretation of the plot and clusters. "
   ]
  },
  {
   "cell_type": "code",
   "execution_count": 76,
   "metadata": {},
   "outputs": [
    {
     "data": {
      "text/plain": [
       "KMeans(algorithm='auto', copy_x=True, init='k-means++', max_iter=300,\n",
       "    n_clusters=10, n_init=5, n_jobs=-1, precompute_distances='auto',\n",
       "    random_state=None, tol=0.0001, verbose=0)"
      ]
     },
     "execution_count": 76,
     "metadata": {},
     "output_type": "execute_result"
    }
   ],
   "source": [
    "from sklearn.cluster import KMeans\n",
    "\n",
    "kmeans = KMeans(n_clusters = 10, n_init = 5, n_jobs = -1)\n",
    "kmeans.fit(dtm)"
   ]
  },
  {
   "cell_type": "code",
   "execution_count": 77,
   "metadata": {},
   "outputs": [
    {
     "name": "stdout",
     "output_type": "stream",
     "text": [
      "0 : got, day, today, good, able, daughter, morning, son, happy, found\n",
      "1 : work, got, day, home, today, happy, project, made, able, finished\n",
      "2 : new, bought, got, car, job, purchased, happy, phone, house, buy\n",
      "3 : made, happy, month, feel, past, today, day, yesterday, got, make\n",
      "4 : last, night, week, sleep, happy, month, got, dinner, good, bed\n",
      "5 : friend, old, best, met, seen, talked, birthday, got, school, lunch\n",
      "6 : dinner, family, made, nice, ate, husband, went, parent, send, restaurant\n",
      "7 : went, movie, shopping, temple, walk, friend, family, park, gym, long\n",
      "8 : moment, happiest, life, happy, month, office, vocation, grandma, shared, future\n",
      "9 : time, first, long, spend, friend, spent, got, happy, able, went\n"
     ]
    }
   ],
   "source": [
    "common_words = kmeans.cluster_centers_.argsort()[:,-1:-11:-1]\n",
    "for num, centroid in enumerate(common_words):\n",
    "    print(str(num) + ' : ' + ', '.join(vocab[word] for word in centroid))"
   ]
  },
  {
   "cell_type": "code",
   "execution_count": 78,
   "metadata": {},
   "outputs": [
    {
     "data": {
      "text/plain": [
       "<matplotlib.collections.PathCollection at 0x1290f7f60>"
      ]
     },
     "execution_count": 78,
     "metadata": {},
     "output_type": "execute_result"
    },
    {
     "data": {
      "image/png": "[encoded data removed]",
      "text/plain": [
       "<Figure size 432x288 with 1 Axes>"
      ]
     },
     "metadata": {},
     "output_type": "display_data"
    }
   ],
   "source": [
    "labels = KMeans(7, random_state=0).fit_predict(dtm)\n",
    "plt.scatter(dtm[:, 0], dtm[:, 1],s=50, c=labels,cmap='viridis')"
   ]
  },
  {
   "cell_type": "code",
   "execution_count": null,
   "metadata": {},
   "outputs": [],
   "source": [
    "# lda from the mercari interactive.. to try later "
   ]
  },
  {
   "cell_type": "code",
   "execution_count": 1,
   "metadata": {},
   "outputs": [
    {
     "name": "stderr",
     "output_type": "stream",
     "text": [
      "/Users/matthewvitha/anaconda/lib/python3.5/importlib/_bootstrap.py:222: RuntimeWarning: numpy.dtype size changed, may indicate binary incompatibility. Expected 96, got 88\n",
      "  return f(*args, **kwds)\n",
      "/Users/matthewvitha/anaconda/lib/python3.5/importlib/_bootstrap.py:222: RuntimeWarning: numpy.dtype size changed, may indicate binary incompatibility. Expected 96, got 88\n",
      "  return f(*args, **kwds)\n",
      "/Users/matthewvitha/anaconda/lib/python3.5/importlib/_bootstrap.py:222: RuntimeWarning: numpy.dtype size changed, may indicate binary incompatibility. Expected 96, got 88\n",
      "  return f(*args, **kwds)\n",
      "/Users/matthewvitha/anaconda/lib/python3.5/importlib/_bootstrap.py:222: RuntimeWarning: numpy.dtype size changed, may indicate binary incompatibility. Expected 96, got 88\n",
      "  return f(*args, **kwds)\n"
     ]
    },
    {
     "ename": "NameError",
     "evalue": "name 'lemma_books' is not defined",
     "output_type": "error",
     "traceback": [
      "\u001b[0;31m---------------------------------------------------------------------------\u001b[0m",
      "\u001b[0;31mNameError\u001b[0m                                 Traceback (most recent call last)",
      "\u001b[0;32m<ipython-input-1-1cfdcbdc2bc0>\u001b[0m in \u001b[0;36m<module>\u001b[0;34m()\u001b[0m\n\u001b[1;32m      7\u001b[0m \u001b[0;34m\u001b[0m\u001b[0m\n\u001b[1;32m      8\u001b[0m \u001b[0mcvectorizer\u001b[0m \u001b[0;34m=\u001b[0m \u001b[0mCountVectorizer\u001b[0m\u001b[0;34m(\u001b[0m\u001b[0mmax_df\u001b[0m\u001b[0;34m=\u001b[0m\u001b[0;36m0.95\u001b[0m\u001b[0;34m,\u001b[0m \u001b[0mmin_df\u001b[0m\u001b[0;34m=\u001b[0m\u001b[0;36m2\u001b[0m\u001b[0;34m,\u001b[0m \u001b[0mmax_features\u001b[0m\u001b[0;34m=\u001b[0m\u001b[0mno_features\u001b[0m\u001b[0;34m,\u001b[0m \u001b[0mstop_words\u001b[0m\u001b[0;34m=\u001b[0m\u001b[0;34m'english'\u001b[0m\u001b[0;34m)\u001b[0m\u001b[0;34m\u001b[0m\u001b[0m\n\u001b[0;32m----> 9\u001b[0;31m \u001b[0mcvz\u001b[0m \u001b[0;34m=\u001b[0m \u001b[0mcvectorizer\u001b[0m\u001b[0;34m.\u001b[0m\u001b[0mfit_transform\u001b[0m\u001b[0;34m(\u001b[0m\u001b[0mlemma_books\u001b[0m\u001b[0;34m)\u001b[0m\u001b[0;34m\u001b[0m\u001b[0m\n\u001b[0m\u001b[1;32m     10\u001b[0m \u001b[0mvocab1\u001b[0m \u001b[0;34m=\u001b[0m \u001b[0mcvectorizer\u001b[0m\u001b[0;34m.\u001b[0m\u001b[0mget_feature_names\u001b[0m\u001b[0;34m(\u001b[0m\u001b[0;34m)\u001b[0m\u001b[0;34m\u001b[0m\u001b[0m\n\u001b[1;32m     11\u001b[0m \u001b[0;34m\u001b[0m\u001b[0m\n",
      "\u001b[0;31mNameError\u001b[0m: name 'lemma_books' is not defined"
     ]
    }
   ],
   "source": [
    "from sklearn.decomposition import LatentDirichletAllocation\n",
    "\n",
    "from sklearn.feature_extraction.text import CountVectorizer\n",
    "# LDA can only use raw term counts for LDA because it is a probabilistic graphical model\n",
    "\n",
    "no_features = 1000\n",
    "\n",
    "cvectorizer = CountVectorizer(max_df=0.95, min_df=2, max_features=no_features, stop_words='english')\n",
    "cvz = cvectorizer.fit_transform(lemma_books)\n",
    "vocab1 = cvectorizer.get_feature_names()\n",
    "\n",
    "no_topics = 13\n",
    "\n",
    "lda_model = LatentDirichletAllocation(n_topics=no_topics, max_iter=5, learning_method='online', learning_offset=50.,random_state=0)\n",
    "\n",
    "X_topics = lda_model.fit_transform(cvz)\n",
    "\n",
    "n_top_words = 10\n",
    "topic_summaries = []\n",
    "topic_word = lda_model.components_ # get the topic words\n",
    "vocab = cvectorizer.get_feature_names()\n",
    "for i, topic_dist in enumerate(topic_word):\n",
    "    topic_words = np.array(vocab)[np.argsort(topic_dist)][:-(n_top_words+1):-1]\n",
    "    topic_summaries.append(' '.join(topic_words))\n",
    "    print('Topic {}: {}'.format(i, ' | '.join(topic_words)))\n",
    "\n",
    "tsne_lda = tsne_model.fit_transform(X_topics)\n",
    "\n",
    "unnormalized = np.matrix(X_topics)\n",
    "doc_topic = unnormalized/unnormalized.sum(axis=1)\n",
    "lda_keys = []\n",
    "for i in enumerate(np.array(lemma_books)):\n",
    "    lda_keys += [doc_topic[i].argmax()]\n",
    "    lda_df = pd.DataFrame(tsne_lda, columns=['x','y'])\n",
    "    lda_df['description'] = combined_sample['item_description']\n",
    "    lda_df['topic'] = lda_keys\n",
    "    lda_df['topic'] = lda_df['topic'].map(int)\n",
    "\n",
    "tsne_lda.view\n",
    "\n",
    "\n"
   ]
  },
  {
   "cell_type": "code",
   "execution_count": null,
   "metadata": {},
   "outputs": [],
   "source": []
  }
 ],
 "metadata": {
  "kernelspec": {
   "display_name": "Python 3",
   "language": "python",
   "name": "python3"
  },
  "language_info": {
   "codemirror_mode": {
    "name": "ipython",
    "version": 3
   },
   "file_extension": ".py",
   "mimetype": "text/x-python",
   "name": "python",
   "nbconvert_exporter": "python",
   "pygments_lexer": "ipython3",
   "version": "3.5.5"
  }
 },
 "nbformat": 4,
 "nbformat_minor": 2
}
